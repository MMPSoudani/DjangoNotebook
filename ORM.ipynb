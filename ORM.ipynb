{
 "cells": [
  {
   "attachments": {},
   "cell_type": "markdown",
   "metadata": {},
   "source": [
    "# 1. Overview"
   ]
  },
  {
   "attachments": {},
   "cell_type": "markdown",
   "metadata": {},
   "source": [
    "* In relational databases, data is stored as rows in the table"
   ]
  },
  {
   "attachments": {},
   "cell_type": "markdown",
   "metadata": {},
   "source": [
    "* Old Method of ORM:\n",
    "    1. Write an SQL query\n",
    "    2. Send it to the database\n",
    "    3. Retrieve the data\n",
    "    4. Create and object for each data and set its attributes"
   ]
  },
  {
   "attachments": {},
   "cell_type": "markdown",
   "metadata": {},
   "source": [
    "* New Method of ORM (for Python):\n",
    "    1. Using django to write ORM code\n",
    "    2. Django translate the code into SQL code\n",
    "    3. Django retrieves the data and map it to the model"
   ]
  },
  {
   "attachments": {},
   "cell_type": "markdown",
   "metadata": {},
   "source": [
    "* Django migrations are part of ORM\n",
    "    * Generate the tables and relationships between them"
   ]
  },
  {
   "attachments": {},
   "cell_type": "markdown",
   "metadata": {},
   "source": [
    "* In Django every model has the attribute **.objects** which returns a manager object\n",
    "    * .objects is an interface to the database\n",
    "    * .objects can be used to query the database\n",
    "    * .objects functions return a query set"
   ]
  },
  {
   "attachments": {},
   "cell_type": "markdown",
   "metadata": {},
   "source": [
    "* The query set gets executed when it is used\n",
    "    * By iteration, list conversion, or slicing\n",
    "    * This allows writing complex query sets before accessing the database\n",
    "    * Queries get cached when the call to the database is made\n",
    "        * Direct slicing of the database tables will not use the cached queries"
   ]
  },
  {
   "attachments": {},
   "cell_type": "markdown",
   "metadata": {},
   "source": [
    "# 2. Retrieving Data"
   ]
  },
  {
   "cell_type": "code",
   "execution_count": 54,
   "metadata": {},
   "outputs": [],
   "source": [
    "# from django.shortcuts import render\n",
    "# from .models import ModelName\n",
    "\n",
    "\n",
    "# def view_name(request):\n",
    "    # query_set_1 = ModelName.objects.all()\n",
    "    # query_set_3 = ModelName.objects.filter()\n",
    "    # query_set_4 = ModelName.objects.filter().filter().order_by()\n",
    "    # object = ModelName.objects.get(field_name=value)\n",
    "    # value_1 = ModelName.objects.count()\n",
    "    # value_2 = ModelName.objects.filter().count()\n",
    "\n",
    "    # render(request=request, template_name=\"\", context={})"
   ]
  },
  {
   "attachments": {},
   "cell_type": "markdown",
   "metadata": {},
   "source": [
    "* Using ModelName.objects.get() will raise an error if query does not exist\n",
    "* There are four methods to prevent getting an error from .get()"
   ]
  },
  {
   "attachments": {},
   "cell_type": "markdown",
   "metadata": {},
   "source": [
    "**1st Method** Wrapping the code in **try ... except ...** block"
   ]
  },
  {
   "cell_type": "code",
   "execution_count": 55,
   "metadata": {},
   "outputs": [],
   "source": [
    "# from django.core.exceptions import ObjectDoesNotExist\n",
    "# from django.shortcuts import render\n",
    "# from .models. import ModelName\n",
    "\n",
    "\n",
    "# def view_name(request):\n",
    "    # try:\n",
    "        # object = ModelName.objects.get(field_name=value)\n",
    "    # except ObjectDoesNotExist:\n",
    "        # write what to show the user\n",
    "    \n",
    "    # render(request=request, template_name=\"\", context={})"
   ]
  },
  {
   "attachments": {},
   "cell_type": "markdown",
   "metadata": {},
   "source": [
    "**2nd Method** Using .exists() to check if the entry exists and then use .get()<br>\n",
    "**3rd Method** Using objects.filter() to get a query set and get the desired entry by slicing"
   ]
  },
  {
   "cell_type": "code",
   "execution_count": 56,
   "metadata": {},
   "outputs": [],
   "source": [
    "# from django.shortcuts import render\n",
    "# from .models import ModelName\n",
    "\n",
    "\n",
    "# def view_name(request):\n",
    "    # object_1 = ModelName.objects.filter(field_name=value).first()\n",
    "    # if ModelName.objects.filter(field_name=value).exists():\n",
    "        # object_2 = ModelName.objects.get(field_name=value)\n",
    "    \n",
    "    # render(request=request, template_name=\"\", context={})"
   ]
  },
  {
   "attachments": {},
   "cell_type": "markdown",
   "metadata": {},
   "source": [
    "**4th Method** Using get_object_or_404"
   ]
  },
  {
   "cell_type": "code",
   "execution_count": 57,
   "metadata": {},
   "outputs": [],
   "source": [
    "# from django.shortcuts import get_object_or_404\n",
    "# from django.shortcuts import render\n",
    "# from .models import ModelName\n",
    "\n",
    "# def view_name(request):\n",
    "    # object = get_object_or_404(ModelName, field_name=value)\n",
    "\n",
    "    # render(request=request, template_name=\"\", context={})"
   ]
  },
  {
   "attachments": {},
   "cell_type": "markdown",
   "metadata": {},
   "source": [
    "# 3. Field Lookups"
   ]
  },
  {
   "attachments": {},
   "cell_type": "markdown",
   "metadata": {},
   "source": [
    "* Using field lookups to customize the query set"
   ]
  },
  {
   "cell_type": "code",
   "execution_count": 58,
   "metadata": {},
   "outputs": [],
   "source": [
    "# from django.shortcuts import render\n",
    "# from .models import ModelName\n",
    "\n",
    "\n",
    "# def view_name(request):\n",
    "    # query_set = ModelName.objects.filter(field_name__icontains=)\n",
    "    # query_set = ModelName.objects.filter(field_name__lte=)\n",
    "    # query_set = ModelName.objects.filter(field_name__isnull=False)\n",
    "    # query_set = ModelName.objects.filter(field_name__startswith=)\n",
    "    # query_set = ModelName.objects.filter(field_name__endswith=)\n",
    "\n",
    "    # render(request=request, template_name=\"\", context={})"
   ]
  },
  {
   "attachments": {},
   "cell_type": "markdown",
   "metadata": {},
   "source": [
    "* Using Lookups in one to many / many to many relationships"
   ]
  },
  {
   "cell_type": "code",
   "execution_count": 59,
   "metadata": {},
   "outputs": [],
   "source": [
    "# from django.shortcuts import render\n",
    "# from .models import ModelName\n",
    "\n",
    "\n",
    "# def view_name(request):\n",
    "    # query_set = ModelName.objects.filter(related_field_name__pk=)\n",
    "    # query_set = ModelName.objects.filter(related_field_name__related_field_name__lte=)\n",
    "\n",
    "    # render(request=request, template_name=\"\", context={})"
   ]
  },
  {
   "attachments": {},
   "cell_type": "markdown",
   "metadata": {},
   "source": [
    "* Complex field lookups for AND queries"
   ]
  },
  {
   "cell_type": "code",
   "execution_count": 60,
   "metadata": {},
   "outputs": [],
   "source": [
    "# from django.shortcuts import render\n",
    "# from django.db.models import Q\n",
    "# from .models import ModelName\n",
    "\n",
    "\n",
    "# def view_name(request):\n",
    "    # query_set = ModelName.objects.filter(field_name__lte=, field_name__iexact=)\n",
    "    # query_set = ModelName.objects.filter(field_name__lte=).filter(field_name__iexact=)\n",
    "    # query_set = ModelName.objects.filter(Q(field_name__lte=) & Q(field_name__iexact=))\n",
    "\n",
    "    # render(request=request, template_name=\"\", context={})"
   ]
  },
  {
   "attachments": {},
   "cell_type": "markdown",
   "metadata": {},
   "source": [
    "* Define complex field lookups for OR queries using Q objects"
   ]
  },
  {
   "cell_type": "code",
   "execution_count": 61,
   "metadata": {},
   "outputs": [],
   "source": [
    "# from django.shortcuts import render\n",
    "# from django.db.models import Q\n",
    "# from .models import ModelName\n",
    "\n",
    "\n",
    "# def view_name(request):\n",
    "    # query_set = ModelName.objects.filter(Q(field_name__icontains=) | Q(field_name__lt=))\n",
    "    # query_set = ModelName.objects.filter(Q(field_name__icontains=) | ~Q(field_name__lt=))\n",
    "\n",
    "    # render(request=request, template_name=\"\", context={})"
   ]
  },
  {
   "attachments": {},
   "cell_type": "markdown",
   "metadata": {},
   "source": [
    "* Referencing a field to be used as a value in a query using F objects"
   ]
  },
  {
   "cell_type": "code",
   "execution_count": 62,
   "metadata": {},
   "outputs": [],
   "source": [
    "# from django.shortcuts import render\n",
    "# from django.db.models import F\n",
    "# from .models import ModelName\n",
    "\n",
    "\n",
    "# def view_name(request):\n",
    "    # query_set = ModelName.objects.filter(field_name__icontains=F(\"field_name\"))\n",
    "    # query_set = ModelName.objects.filter(field_name__icontains=F(\"related_field_name__field_name\"))\n",
    "\n",
    "    # render(request=request, template_name=\"\", context={})"
   ]
  },
  {
   "attachments": {},
   "cell_type": "markdown",
   "metadata": {},
   "source": [
    "# 4. Ordering Query Sets"
   ]
  },
  {
   "cell_type": "code",
   "execution_count": 63,
   "metadata": {},
   "outputs": [],
   "source": [
    "# from django.shortcuts import render\n",
    "# from .models import ModelName\n",
    "\n",
    "\n",
    "# def view_name(request):\n",
    "    # query_set = ModelName.objects.order_by(\"field_name\")\n",
    "    # query_set = ModelName.objects.order_by(\"field_name\", \"-field_name\")\n",
    "    # query_set = ModelName.objects.order_by(\"field_name\").reverse()\n",
    "    # query_set = ModelName.objects.filter(field_name__icontains=).order_by(\"field_name\")\n",
    "\n",
    "    # render(request=request, template_name=\"\", context={})"
   ]
  },
  {
   "attachments": {},
   "cell_type": "markdown",
   "metadata": {},
   "source": [
    "* Get the first or last objects after ordering a query set"
   ]
  },
  {
   "cell_type": "code",
   "execution_count": 64,
   "metadata": {},
   "outputs": [],
   "source": [
    "# from django.shortcuts import render\n",
    "# from .models import ModelName\n",
    "\n",
    "\n",
    "# def view_name(request):\n",
    "    # query_set = ModelName.object.order_by(\"field_name\")[0]\n",
    "    # query_set = ModelName.object.earliest(\"field_name\")\n",
    "\n",
    "    # query_set = ModelName.object.order_by(\"field_name\")[-1]\n",
    "    # query_set = ModelName.object.latest(\"field_name\")\n",
    "    \n",
    "    # render(request=request, template_name=\"\", context={})"
   ]
  },
  {
   "attachments": {},
   "cell_type": "markdown",
   "metadata": {},
   "source": [
    "# 5. Slicing"
   ]
  },
  {
   "attachments": {},
   "cell_type": "markdown",
   "metadata": {},
   "source": [
    "* Limiting the result of the query set"
   ]
  },
  {
   "cell_type": "code",
   "execution_count": 65,
   "metadata": {},
   "outputs": [],
   "source": [
    "# from django.shortcuts import render\n",
    "# from .models import ModelName\n",
    "\n",
    "\n",
    "# def view_name(request):\n",
    "    # query_set = ModelName.objects.order_by(\"field_name\")[:9]\n",
    "\n",
    "    # render(request=request, template_name=\"\", context={})"
   ]
  },
  {
   "attachments": {},
   "cell_type": "markdown",
   "metadata": {},
   "source": [
    "# 6. Specifying Fields"
   ]
  },
  {
   "attachments": {},
   "cell_type": "markdown",
   "metadata": {},
   "source": [
    "* Selecting fields to query\n",
    "    * objects.values() -> returns a dictionary with the specified fields\n",
    "    * objects.values_list() -> returns a tuple with the specified fields\n",
    "    * objects.only() -> returns an instance of the model class with the specified fields\n",
    "    * objects.defer() -> returns an instance of the model class without the specified fields"
   ]
  },
  {
   "cell_type": "code",
   "execution_count": 66,
   "metadata": {},
   "outputs": [],
   "source": [
    "# from django.shortcuts import render\n",
    "# from .models import ModelName\n",
    "\n",
    "\n",
    "# def view_name(request):\n",
    "    # query_set = ModelName.objects.values(\"field_name\", \"another_field_name\")\n",
    "    # query_set = ModelName.objects.values_list(\"related_field_name__field_name\"\")\n",
    "    # query_set = ModelName.objects.only(\"field_name\", \"related_field_name__field_name\"\")\n",
    "    # query_set = ModelName.objects.defer(\"field_name\", \"another_field_name\")\n",
    "\n",
    "    # render(request=request, template_name=\"\", context={})"
   ]
  },
  {
   "attachments": {},
   "cell_type": "markdown",
   "metadata": {},
   "source": [
    "**NOTE:** Since only() and defer() returns an instance of the model class, when accessing a field not specified in the query set, it will make a query to the database, causing extra time and space. values() and values_list() does not have this behavior since they are not a model instance."
   ]
  },
  {
   "attachments": {},
   "cell_type": "markdown",
   "metadata": {},
   "source": [
    "# 7. Distinct"
   ]
  },
  {
   "cell_type": "markdown",
   "metadata": {},
   "source": [
    "* Selecting distinct values from a query set"
   ]
  },
  {
   "cell_type": "code",
   "execution_count": 67,
   "metadata": {},
   "outputs": [],
   "source": [
    "# from django.shortcuts import render\n",
    "# from .models import ModelName, AnotherModelName\n",
    "\n",
    "\n",
    "# def view_name(request):\n",
    "    # query_set = AnotherModelName.objects.values(\"field_name\").distinct()\n",
    "    # query_set = ModelName.objects.filter(field_name__in=query_set).order_by(\"field_name\")\n",
    "\n",
    "    # render(request=request, template_name=\"\", context={})"
   ]
  },
  {
   "attachments": {},
   "cell_type": "markdown",
   "metadata": {},
   "source": [
    "# 8. Related Fields"
   ]
  },
  {
   "attachments": {},
   "cell_type": "markdown",
   "metadata": {},
   "source": [
    "* Selecting and loading related fields in a query\n",
    "    * objects.select_related() is used in a one to many relationship\n",
    "    * objects.prefetch_related() is used in a many to many relationship"
   ]
  },
  {
   "cell_type": "code",
   "execution_count": 68,
   "metadata": {},
   "outputs": [],
   "source": [
    "# from django.shortcuts import render\n",
    "# from .models import ModelName, AnotherModelName\n",
    "\n",
    "\n",
    "# def view_name(request):\n",
    "    # query_set_3 = ModelName.objects.select_related(\"field_name\")\n",
    "    # query_set_3 = query_set_3.prefetch_related(\"field_name_set__field_name\")\n",
    "    # query_set_3 = query_set_3.order_by(\"field_name\")[:5]\n",
    "\n",
    "    # context = {\n",
    "        # \"query_set_1\": ModelName.objects.select_related(\"field_name\").all(),\n",
    "        # \"query_set_2\": ModelName.objects.prefetch_related(\"field_name\").filter(field_name=),\n",
    "        # \"query_set_3\": query_set_3,\n",
    "    # }\n",
    "\n",
    "    # render(request=request, template_name=\"\", context={})"
   ]
  },
  {
   "attachments": {},
   "cell_type": "markdown",
   "metadata": {},
   "source": [
    "# 9. Aggregate"
   ]
  },
  {
   "attachments": {},
   "cell_type": "markdown",
   "metadata": {},
   "source": [
    "* Using aggregation functions on a query set to return a value"
   ]
  },
  {
   "cell_type": "code",
   "execution_count": 69,
   "metadata": {},
   "outputs": [],
   "source": [
    "# from django.shortcuts import render\n",
    "# from django.db.models.aggregation import Count, Min, Max, Avg, Sum\n",
    "# from .models import ModelName\n",
    "\n",
    "\n",
    "# def view_name(request):\n",
    "    # context = {\n",
    "        # \"value_1\": ModelName.objects.aggregate(count=Count(\"field_name\"), min_value=Min(\"field_name\")),\n",
    "        # \"value_2\": ModelName.objects.filter(field_name=value).aggregate(Sum(\"field_name\")),\n",
    "    # }\n",
    "\n",
    "    # render(request=request, template_name=\"\", context=context)"
   ]
  },
  {
   "attachments": {},
   "cell_type": "markdown",
   "metadata": {},
   "source": [
    "# 10. Annotate"
   ]
  },
  {
   "attachments": {},
   "cell_type": "markdown",
   "metadata": {},
   "source": [
    "* Adding additional attributes to the objects while querying them<br>\n",
    "**NOTE:** Annotation takes expression as an argument"
   ]
  },
  {
   "cell_type": "code",
   "execution_count": 70,
   "metadata": {},
   "outputs": [],
   "source": [
    "# from django.shortcuts import render\n",
    "# from django.db.models import Count, Value, F\n",
    "# from .models import ModelName\n",
    "\n",
    "\n",
    "# def view_name(request):\n",
    "    # context = {\n",
    "        # \"query_set_1\": ModelName.objects.annotate(is_new=Value(True)),\n",
    "        # \"query_set_2\": ModelName.objects.annotate(new_id=F(\"id\") + 1).filter(),\n",
    "        # \"query_set_3\": ModelName.objects.filter().annotate(count=Count(\"related_field_name\")),\n",
    "    # }\n",
    "\n",
    "    # render(request=request, template_name=\"\", context=context)"
   ]
  },
  {
   "attachments": {},
   "cell_type": "markdown",
   "metadata": {},
   "source": [
    "* Using database functions in annotations when querying"
   ]
  },
  {
   "cell_type": "code",
   "execution_count": 71,
   "metadata": {},
   "outputs": [],
   "source": [
    "# from django.shortcuts import render\n",
    "# from django.db.models import Value, F, Func\n",
    "# from django.db.models.functions import Concat\n",
    "# from .models import ModelName\n",
    "\n",
    "\n",
    "# def view_name(request):\n",
    "    # context = {\n",
    "        # \"query_set_1\": ModelName.objects.annotate(\n",
    "            # full_name=Func(F(\"field_name\"),\n",
    "            # Value(\" \"), F(\"field_name\"),\n",
    "            # function=\"CONCAT\")\n",
    "        # ),\n",
    "        # \"query_set_2\": ModelName.objects.annotate(full_name=Concat(\"field_name\", Value(\" \"), \"field_name\"))\n",
    "    # }\n",
    "\n",
    "    # render(request=request, template_name=\"\", context=context)"
   ]
  },
  {
   "attachments": {},
   "cell_type": "markdown",
   "metadata": {},
   "source": [
    "* Use when creating complex expressions"
   ]
  },
  {
   "cell_type": "code",
   "execution_count": 72,
   "metadata": {},
   "outputs": [],
   "source": [
    "# from django.shortcuts import render\n",
    "# from django.db.models import DecimalField, ExpressionWrapper, F\n",
    "# from .models import ModelName\n",
    "\n",
    "\n",
    "# def view_name(request):\n",
    "    # result = ExpressionWrapper(F(\"decimal_field_name\") * 0.9, output_field=DecimalField())\n",
    "    # context = {\"query_set_1\": ModelName.objects.annotate(result=result)}\n",
    "\n",
    "    # render(request=request, template_name=\"\", context=context)"
   ]
  },
  {
   "attachments": {},
   "cell_type": "markdown",
   "metadata": {},
   "source": [
    "# 11. Querying Generic Relationships"
   ]
  },
  {
   "cell_type": "code",
   "execution_count": 73,
   "metadata": {},
   "outputs": [],
   "source": [
    "# from django.contrib.contenttypes.models import ContentType\n",
    "# from .models import ModelName, GenericModelName\n",
    "\n",
    "\n",
    "# def view_name(request):\n",
    "    # content_type = ContentType.objects.get_for_model(ModelName)\n",
    "    # query_set_2 = GenericModelName.objects.select_related(\"AnotherModelName\")\n",
    "    # query_set_2 = query_set_2.filter(content_type=content_type, object_id=#)\n",
    "\n",
    "    # context = {\n",
    "        # \"query_set_1\": GenericModelName.objects.filter(content_type=content_type, object_id=#),\n",
    "        # \"query_set_2\": query_set_2,\n",
    "    # }\n",
    "\n",
    "    # return render(request=request, template_name=\"\", context=context)"
   ]
  },
  {
   "cell_type": "code",
   "execution_count": 74,
   "metadata": {},
   "outputs": [],
   "source": [
    "# from django.shortcuts import render\n",
    "# from .models import ModelName, GenericModelName\n",
    "\n",
    "\n",
    "# def view_name(request):\n",
    "    # context = {\n",
    "        # \"query_set\": GenericModelName.custom_func_one(obj_type=ModelName, obj_id=5),\n",
    "        # \"query_set\": GenericModelName.custom_func_two(obj_type=ModelName, obj_id=3),\n",
    "    # }\n",
    "\n",
    "    # return render(request=request, template_name=\"\", context=context)"
   ]
  },
  {
   "attachments": {},
   "cell_type": "markdown",
   "metadata": {},
   "source": [
    "# 12. Insert into Database"
   ]
  },
  {
   "attachments": {},
   "cell_type": "markdown",
   "metadata": {},
   "source": [
    "* Create an object of the model and assign its attributes"
   ]
  },
  {
   "cell_type": "code",
   "execution_count": 75,
   "metadata": {},
   "outputs": [],
   "source": [
    "# from django.shortcuts import render\n",
    "# from .models import ModelName\n",
    "\n",
    "\n",
    "# def view_name(request):\n",
    "    # model_instance = ModelName()\n",
    "    # model_instance.field_one = value\n",
    "    # model_instance.field_two = value\n",
    "    # model_instance.save()\n",
    "\n",
    "    # context = {\"model_instance\": model_instance}\n",
    "    # return render(request=request, template_name=\"\", context=context)"
   ]
  },
  {
   "cell_type": "code",
   "execution_count": 76,
   "metadata": {},
   "outputs": [],
   "source": [
    "# from django.shortcuts import render\n",
    "# from .models import ModelName\n",
    "\n",
    "\n",
    "# def view_name(request):\n",
    "    # model_instance = ModelName.objects.create(field_one=value, field_two=value)\n",
    "\n",
    "    # context = {\"model_instance\": model_instance}\n",
    "    # return render(request=request, template_name=\"\", context=context)"
   ]
  },
  {
   "attachments": {},
   "cell_type": "markdown",
   "metadata": {},
   "source": [
    "# 13. Updating Values"
   ]
  },
  {
   "attachments": {},
   "cell_type": "markdown",
   "metadata": {},
   "source": [
    "* **1st Update Method:** only update the specified fields and set the rest to their default value"
   ]
  },
  {
   "cell_type": "code",
   "execution_count": 77,
   "metadata": {},
   "outputs": [],
   "source": [
    "# from django.shortcuts import render\n",
    "# from .models import ModelName\n",
    "\n",
    "\n",
    "# def view_name(request):\n",
    "    # model_instance = ModelName(pk=)\n",
    "    # model_instance.field_one = value\n",
    "    # model_instance.field_two = value\n",
    "    # model_instance.save()\n",
    "\n",
    "    # context = {\"model_instance\": model_instance}\n",
    "    # return render(request=request, template_name=\"\", context=context)"
   ]
  },
  {
   "attachments": {},
   "cell_type": "markdown",
   "metadata": {},
   "source": [
    "* **2nd Update Method:** Query the entry first, then update the specified fields, leave the not specified fields"
   ]
  },
  {
   "cell_type": "code",
   "execution_count": 78,
   "metadata": {},
   "outputs": [],
   "source": [
    "# from django.shortcuts import render, get_object_or_404\n",
    "# from .models import ModelName, AnotherModelName\n",
    "\n",
    "\n",
    "# def view_name(request):\n",
    "    # model_instance = get_object_or_404(ModelName, pk=1)\n",
    "    # model_instance.field_one = value\n",
    "    # model_instance.related_field_one = get_object_or_404(AnotherModelName, pk=3)\n",
    "    # model_instance.related_field_two_id = 6\n",
    "    # model_instance.save()\n",
    "\n",
    "    # context = {\"model_instance\": model_instance}\n",
    "    # return render(request=request, template_name=\"\", context=context)"
   ]
  },
  {
   "attachments": {},
   "cell_type": "markdown",
   "metadata": {},
   "source": [
    "* **3rd Update Method:** Update all the entries with the new values for the specified fields"
   ]
  },
  {
   "cell_type": "code",
   "execution_count": 79,
   "metadata": {},
   "outputs": [],
   "source": [
    "# from django.shortcuts import render\n",
    "# from .models import ModelName\n",
    "\n",
    "\n",
    "# def view_name(request):\n",
    "    # model_instance = ModelName.objects.update(field_name=value)\n",
    "\n",
    "    # context = {\"model_instance\": model_instance}\n",
    "    # return render(request=request, template_name=\"\", context=context)"
   ]
  },
  {
   "attachments": {},
   "cell_type": "markdown",
   "metadata": {},
   "source": [
    "* **4th Update Method:** Query an entry first, then update its fields, leave the not specified fields"
   ]
  },
  {
   "cell_type": "code",
   "execution_count": 80,
   "metadata": {},
   "outputs": [],
   "source": [
    "# from django.shortcuts import render\n",
    "# from .models import ModelName\n",
    "\n",
    "\n",
    "# def view_name(request):\n",
    "    # model_instance = ModelName.objects.filter(pk=).update(field_name=value)\n",
    "\n",
    "    # context = {\"model_instance\": model_instance}\n",
    "    # return render(request=request, template_name=\"\", context=context)"
   ]
  },
  {
   "attachments": {},
   "cell_type": "markdown",
   "metadata": {},
   "source": [
    "# 14. Deleting Values"
   ]
  },
  {
   "attachments": {},
   "cell_type": "markdown",
   "metadata": {},
   "source": [
    "* **1st Delete Method:** Delete a single entry"
   ]
  },
  {
   "cell_type": "code",
   "execution_count": 81,
   "metadata": {},
   "outputs": [],
   "source": [
    "# from django.http import HttpResponse\n",
    "# from .models import ModelName\n",
    "\n",
    "\n",
    "# def view_name(request):\n",
    "    # model_instance = ModelName.objects.get(pk=)\n",
    "    # model_instance.delete()\n",
    "\n",
    "    # return HttpResponse(\"Entry deleted successfully\")"
   ]
  },
  {
   "attachments": {},
   "cell_type": "markdown",
   "metadata": {},
   "source": [
    "* **2nd Delete Method:** Delete a query set"
   ]
  },
  {
   "cell_type": "code",
   "execution_count": 82,
   "metadata": {},
   "outputs": [],
   "source": [
    "# from django.http import HttpResponse\n",
    "# from .models import ModelName\n",
    "\n",
    "\n",
    "# def view_name(request):\n",
    "    # model_instance = ModelName.objects.filter(field_name=)\n",
    "    # model_instance.delete()\n",
    "\n",
    "    # return HttpResponse(\"Entry deleted successfully\")"
   ]
  },
  {
   "attachments": {},
   "cell_type": "markdown",
   "metadata": {},
   "source": [
    "# 15. Transactions"
   ]
  },
  {
   "attachments": {},
   "cell_type": "markdown",
   "metadata": {},
   "source": [
    "* A database transaction must be ACID:\n",
    "    * Atomic\n",
    "    * Consistent\n",
    "    * Isolated\n",
    "    * Durable"
   ]
  },
  {
   "attachments": {},
   "cell_type": "markdown",
   "metadata": {},
   "source": [
    "* Applying multiple changes in an atomic way, and if it least one change failed, roll back all of them\n",
    "* There are three methods to apply transactions:"
   ]
  },
  {
   "attachments": {},
   "cell_type": "markdown",
   "metadata": {},
   "source": [
    "**1st Method** Apply transaction to the whole view"
   ]
  },
  {
   "cell_type": "code",
   "execution_count": 83,
   "metadata": {},
   "outputs": [],
   "source": [
    "# from django.shortcuts import render\n",
    "# from django.db import transaction\n",
    "# from .models import ModelName, AnotherModelName\n",
    "\n",
    "\n",
    "# @transaction.atomic()\n",
    "# def view_name(request):\n",
    "    # model_instance = ModelName()\n",
    "    # model_instance.field = value\n",
    "    # model_instance.save()\n",
    "\n",
    "    # another_model_instance = AnotherModelName()\n",
    "    # another_model_instance.field_one = value\n",
    "    # another_model_instance.field_two = value\n",
    "    # another_model_instance.save()\n",
    "\n",
    "    # context = {\"model_instance\": model_instance, \"another_model_instance\": another_model_instance}\n",
    "\n",
    "    # return render(request=request, template_name=\"\", context=context)"
   ]
  },
  {
   "attachments": {},
   "cell_type": "markdown",
   "metadata": {},
   "source": [
    "**2nd Method** Apply transaction partially"
   ]
  },
  {
   "cell_type": "code",
   "execution_count": 84,
   "metadata": {},
   "outputs": [],
   "source": [
    "# from django.shortcuts import render\n",
    "# from django.db import transaction\n",
    "# from .models import ModelName, AnotherModelName\n",
    "\n",
    "\n",
    "# def view_name(request):\n",
    "    # context = {}\n",
    "    \n",
    "    # with transaction.atomic():\n",
    "        # model_instance = ModelName()\n",
    "        # model_instance.field = value\n",
    "        # model_instance.save()\n",
    "\n",
    "        # another_model_instance = AnotherModelName()\n",
    "        # another_model_instance.field_one = value\n",
    "        # another_model_instance.field_two = value\n",
    "        # another_model_instance.save()\n",
    "\n",
    "        # context = {\"model_instance\": model_instance, \"another_model_instance\": another_model_instance}\n",
    "\n",
    "    # return render(request=request, template_name=\"\", context=context)\n"
   ]
  },
  {
   "attachments": {},
   "cell_type": "markdown",
   "metadata": {},
   "source": [
    "**3rd Method** Apply transactions to all HTTP requests\n",
    "* Loss performance in a heavy traffic DB\n",
    "* Only database state is rolled back\n",
    "* Use **@transaction.non_atomic_requests** from **django.db.transactions** to negate ATOMIC_REQUESTS's effect"
   ]
  },
  {
   "cell_type": "code",
   "execution_count": 85,
   "metadata": {},
   "outputs": [],
   "source": [
    "# DATABASES = {\n",
    "    # \"default\": {\n",
    "        # ...\n",
    "        # \"ATOMIC_REQUESTS\": True,\n",
    "        # ...\n",
    "    # }\n",
    "# }"
   ]
  },
  {
   "attachments": {},
   "cell_type": "markdown",
   "metadata": {},
   "source": [
    "# 16. Executing Raw SQL Code"
   ]
  },
  {
   "attachments": {},
   "cell_type": "markdown",
   "metadata": {},
   "source": [
    "* Use this only if:\n",
    "    * A query written in django is very complex\n",
    "    * A query written in django does not perform well\n",
    "* Accessing a table in a database and make a query to it"
   ]
  },
  {
   "cell_type": "code",
   "execution_count": 86,
   "metadata": {},
   "outputs": [],
   "source": [
    "# from django.db import models\n",
    "# from .models import ModelName\n",
    "\n",
    "\n",
    "# def view_name(request):\n",
    "    # query_set = ModelName.objects.raw(\"SQL Code\")\n",
    "    # return render(request=request, template_name=\"\", context={\"query_set\": query_set})"
   ]
  },
  {
   "attachments": {},
   "cell_type": "markdown",
   "metadata": {},
   "source": [
    "* Making a direct connection to the database"
   ]
  },
  {
   "cell_type": "code",
   "execution_count": 87,
   "metadata": {},
   "outputs": [],
   "source": [
    "# from django.db import connection\n",
    "# from django.shortcuts import render\n",
    "# from .models import ModelName\n",
    "\n",
    "\n",
    "# def view_name_one(request):\n",
    "    # cursor = connection.cursor()\n",
    "    # cursor.execute(\"SQL Code\")\n",
    "    # cursor.close()\n",
    "\n",
    "    # return render(request=request, template_name=\"\", context={})\n",
    "\n",
    "\n",
    "# def view_name_two(request):\n",
    "    # with connection.cursor() as cursor:\n",
    "        # cursor.execute(\"SQL Code\")\n",
    "    \n",
    "    # return render(request=request, template_name=\"\", context={})\n",
    "    "
   ]
  },
  {
   "attachments": {},
   "cell_type": "markdown",
   "metadata": {},
   "source": [
    "* Writing the SQL code separately and call it in django"
   ]
  },
  {
   "cell_type": "code",
   "execution_count": 88,
   "metadata": {},
   "outputs": [],
   "source": [
    "# from django.db import connection\n",
    "# from django.shortcuts import render\n",
    "# from .models import ModelName\n",
    "\n",
    "\n",
    "# def view_name(request):\n",
    "    # with connection.cursor() as cursor:\n",
    "        # cursor.callproc(\"procedure location and name\", [values])\n",
    "    \n",
    "    # return render(request=request, template_name=\"\", context={})"
   ]
  }
 ],
 "metadata": {
  "kernelspec": {
   "display_name": "onlineStoreProject-J7_hTXa7",
   "language": "python",
   "name": "python3"
  },
  "language_info": {
   "codemirror_mode": {
    "name": "ipython",
    "version": 3
   },
   "file_extension": ".py",
   "mimetype": "text/x-python",
   "name": "python",
   "nbconvert_exporter": "python",
   "pygments_lexer": "ipython3",
   "version": "3.10.6 (main, Nov 14 2022, 16:10:14) [GCC 11.3.0]"
  },
  "orig_nbformat": 4,
  "vscode": {
   "interpreter": {
    "hash": "0b9db7feabf8187ce10d06807770cbd27d6509ac4852a4a110f21595640d9d55"
   }
  }
 },
 "nbformat": 4,
 "nbformat_minor": 2
}
