{
 "cells": [
  {
   "attachments": {},
   "cell_type": "markdown",
   "metadata": {},
   "source": [
    "# **5.** Django URLs"
   ]
  },
  {
   "attachments": {},
   "cell_type": "markdown",
   "metadata": {},
   "source": [
    "* URL files are used to map a url pattern to a view\n",
    "* To define the url patterns:\n",
    "    1. Use the project's urls.py file.\n",
    "    2. Create a urls.py file in the app folder and mention it in the project's urls.py file."
   ]
  },
  {
   "attachments": {},
   "cell_type": "markdown",
   "metadata": {},
   "source": [
    "Defining the url patterns"
   ]
  },
  {
   "cell_type": "code",
   "execution_count": 19,
   "metadata": {},
   "outputs": [],
   "source": [
    "# from django.urls import path\n",
    "# from .views import function_view, ClassViews\n",
    "\n",
    "\n",
    "# app_name = \"the_name_used_as_namespace_variable\"\n",
    "# urlpatterns = [\n",
    "    # path(route=\"one/\", view=function_view, name=\"some_name\"),\n",
    "    # path(route=\"two/\", view=ClassView.as_view(), name=\"another_name\")\n",
    "# ]"
   ]
  },
  {
   "attachments": {},
   "cell_type": "markdown",
   "metadata": {},
   "source": [
    "Mapping the app urls.py to the project urls.py"
   ]
  },
  {
   "cell_type": "code",
   "execution_count": 20,
   "metadata": {},
   "outputs": [],
   "source": [
    "# from django.contrib import admin\n",
    "# from django.urls import path, include\n",
    "\n",
    "\n",
    "# urlpatterns = [\n",
    "    # path(\"admin/\", admin.site.urls),\n",
    "    # path(\"some-url/\", include(\"app_name.urls\", namespace=\"app_name\")),\n",
    "# ]"
   ]
  },
  {
   "attachments": {},
   "cell_type": "markdown",
   "metadata": {},
   "source": [
    "* Calling **some-url/one/** will map to the function_view\n",
    "* Calling **some-url/two/** will map to the ClassView"
   ]
  }
 ],
 "metadata": {
  "kernelspec": {
   "display_name": "onlineStoreProject-J7_hTXa7",
   "language": "python",
   "name": "python3"
  },
  "language_info": {
   "codemirror_mode": {
    "name": "ipython",
    "version": 3
   },
   "file_extension": ".py",
   "mimetype": "text/x-python",
   "name": "python",
   "nbconvert_exporter": "python",
   "pygments_lexer": "ipython3",
   "version": "3.10.6"
  },
  "orig_nbformat": 4,
  "vscode": {
   "interpreter": {
    "hash": "0b9db7feabf8187ce10d06807770cbd27d6509ac4852a4a110f21595640d9d55"
   }
  }
 },
 "nbformat": 4,
 "nbformat_minor": 2
}
