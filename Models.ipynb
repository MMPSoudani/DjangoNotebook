{
 "cells": [
  {
   "attachments": {},
   "cell_type": "markdown",
   "metadata": {},
   "source": [
    "# 1. Regarding Database"
   ]
  },
  {
   "attachments": {},
   "cell_type": "markdown",
   "metadata": {},
   "source": [
    "### 1.1. Data Modeling"
   ]
  },
  {
   "attachments": {},
   "cell_type": "markdown",
   "metadata": {},
   "source": [
    "* The process of creating models for the data to be stored in the database"
   ]
  },
  {
   "attachments": {},
   "cell_type": "markdown",
   "metadata": {},
   "source": [
    "<table>\n",
    "    <tr>\n",
    "        <th>#</th>\n",
    "        <th>Steps</th>\n",
    "        <th>Description</th>\n",
    "    </tr>\n",
    "    <tr>\n",
    "        <td>1</td>\n",
    "        <td>Identifying, understand and analyze the business requirements</td>\n",
    "        <td>\n",
    "            <div>1. Writing the software requirements specifications</div>\n",
    "            <div>2. Writing the functional requirements specifications</div>\n",
    "        </td>\n",
    "    </tr>\n",
    "    <tr>\n",
    "        <td>2</td>\n",
    "        <td>Building a conceptual model of the business</td>\n",
    "        <td>\n",
    "            <div>1. Identifying the entities</div>\n",
    "            <div>2. Identifying the attributes for each entity</div>\n",
    "            <div>3. Connecting related entities</div>\n",
    "            <div>4. Draw an ER or UML diagram</div>\n",
    "        </td>\n",
    "    </tr>\n",
    "    <tr>\n",
    "        <td>3</td>\n",
    "        <td>Build a logical model</td>\n",
    "        <td>\n",
    "            <div>1. An abstract data model that is independent from database technology</div>\n",
    "            <div>2. Used to display the tables, columns, column types and relationship types</div>\n",
    "        </td>\n",
    "    </tr>\n",
    "    <tr>\n",
    "        <td>4</td>\n",
    "        <td>Build a physical model</td>\n",
    "        <td>* Using database technology to implement the logical model</td>\n",
    "    </tr>\n",
    "</table>"
   ]
  },
  {
   "attachments": {},
   "cell_type": "markdown",
   "metadata": {},
   "source": [
    "* There are two ways to visually express Entity-Relationship concepts\n",
    "    1. Entity-Relationship Diagram\n",
    "    2. Unified Modeling Language Diagram"
   ]
  },
  {
   "attachments": {},
   "cell_type": "markdown",
   "metadata": {},
   "source": [
    "* **NOTE:** Build the data models based on the requirements and only to solve the business problem"
   ]
  },
  {
   "attachments": {},
   "cell_type": "markdown",
   "metadata": {},
   "source": [
    "### 1.2. Entity Relationship Types"
   ]
  },
  {
   "attachments": {},
   "cell_type": "markdown",
   "metadata": {},
   "source": [
    "<table>\n",
    "    <tr>\n",
    "        <th>Relationships</th>\n",
    "        <th>Example</th>\n",
    "    </tr>\n",
    "    <tr>\n",
    "        <td>One To One</td>\n",
    "        <td>\n",
    "            <div>* Each user have one profile</div>\n",
    "            <div>* USER (1) --- (1) Profile</div>\n",
    "        </td>\n",
    "    </tr>\n",
    "    <tr>\n",
    "        <td>One To Many</td>\n",
    "        <td>\n",
    "            <div>* Each category have multiple products</div>\n",
    "            <div>* CATEGORY (1) --- (*) PRODUCT</div>\n",
    "        </td>\n",
    "    </tr>\n",
    "    <tr>\n",
    "        <td>Many To Many</td>\n",
    "        <td>\n",
    "            <div>* Each cart have multiple products AND each product can be in different carts</div>\n",
    "            <div>* CART (*) --- (*) PRODUCT</div>\n",
    "            <div>* Each product can be in multiple orders and each order can have multiple products</div>\n",
    "            <div>* PRODUCT (*) --- (*) ORDER</div>\n",
    "        </td>\n",
    "    </tr>\n",
    "</table>"
   ]
  },
  {
   "attachments": {},
   "cell_type": "markdown",
   "metadata": {},
   "source": [
    "**NOTE:** For Many To Many relationships, it is advised to break them into two One To Many relationships using an intermediary table"
   ]
  },
  {
   "attachments": {},
   "cell_type": "markdown",
   "metadata": {},
   "source": [
    "### 1.4. Database Structure"
   ]
  },
  {
   "attachments": {},
   "cell_type": "markdown",
   "metadata": {},
   "source": [
    "#### 1.4.1. Keys"
   ]
  },
  {
   "attachments": {},
   "cell_type": "markdown",
   "metadata": {},
   "source": [
    "* **Primary Key:** A column that uniquely identify each record in a table\n",
    "* **Composite Primary Key:** Multiple columns that uniquely identify each record in a table"
   ]
  },
  {
   "attachments": {},
   "cell_type": "markdown",
   "metadata": {},
   "source": [
    "* **Foreign Key:** A column that references the primary key of another table"
   ]
  },
  {
   "attachments": {},
   "cell_type": "markdown",
   "metadata": {},
   "source": [
    "* For foreign keys, set bellow variables\n",
    "    1. On Update: what happens to the child if the parent record is updated\n",
    "    2. On Delete: what happens to the child if the parent record is deleted\n",
    "* On Update and On Delete can take:\n",
    "    1. RESTRICT (PROTECT)\n",
    "    2. CASCADE\n",
    "    3. SET NULL"
   ]
  },
  {
   "attachments": {},
   "cell_type": "markdown",
   "metadata": {},
   "source": [
    "#### 1.4.2. Files"
   ]
  },
  {
   "attachments": {},
   "cell_type": "markdown",
   "metadata": {},
   "source": [
    "**AVOID** saving files into the database\n",
    "* Read / Write operations to DB is slower than a filesystem\n",
    "* The size of the DB will grow exponentially\n",
    "* Accessing the files require accessing the DB\n",
    "\n",
    "**BEST PRACTICE** save the location for the file into the database"
   ]
  },
  {
   "attachments": {},
   "cell_type": "markdown",
   "metadata": {},
   "source": [
    "#### 1.4.3. Generic Relationships"
   ]
  },
  {
   "attachments": {},
   "cell_type": "markdown",
   "metadata": {},
   "source": [
    "**AVOID** using generic relationships\n",
    "* Query speed reduction due to lack of indexing between models\n",
    "* Danger of data corruption since a table can refer to another against a non-existing record\n",
    "\n",
    "**BEST PRACTICE** use foreign keys and many to many relationships instead"
   ]
  },
  {
   "attachments": {},
   "cell_type": "markdown",
   "metadata": {},
   "source": [
    "#### 1.4.4. Indexing"
   ]
  },
  {
   "attachments": {},
   "cell_type": "markdown",
   "metadata": {},
   "source": [
    "* Data structures that the database engine use to locate the data faster"
   ]
  },
  {
   "attachments": {},
   "cell_type": "markdown",
   "metadata": {},
   "source": [
    "* Cost of using indexing:\n",
    "    1. Increase the size of the database\n",
    "    2. Slows down the process oof writing data"
   ]
  },
  {
   "attachments": {},
   "cell_type": "markdown",
   "metadata": {},
   "source": [
    "* **NOTE:** Indexing is added to the tables and columns based on the queries"
   ]
  },
  {
   "attachments": {},
   "cell_type": "markdown",
   "metadata": {},
   "source": [
    "### 1.5. Normalization"
   ]
  },
  {
   "attachments": {},
   "cell_type": "markdown",
   "metadata": {},
   "source": [
    "* Normalization is the process of minimizing redundancy from a relation or set of relations.\n",
    "* Redundancy in relation may cause insertion, deletion, and update anomalies.\n",
    "* Normalization helps to minimize the redundancy in relations.\n",
    "* Normal forms are used to eliminate or reduce redundancy in database tables."
   ]
  },
  {
   "attachments": {},
   "cell_type": "markdown",
   "metadata": {},
   "source": [
    "#### 1.5.1. First Normal Form (1NF)"
   ]
  },
  {
   "attachments": {},
   "cell_type": "markdown",
   "metadata": {},
   "source": [
    "* Rule #1: Each cell should have a single value\n",
    "* Rule #2: No repeated columns is allowed"
   ]
  },
  {
   "attachments": {},
   "cell_type": "markdown",
   "metadata": {},
   "source": [
    "#### 1.5.2. Second Normal Form (2NF)"
   ]
  },
  {
   "attachments": {},
   "cell_type": "markdown",
   "metadata": {},
   "source": [
    "* Rule #1: Follows the 1NF\n",
    "* Rule #2: No partial Dependency is allowed\n",
    "    * Every non-key attributes in a relation is fully dependent on primary key(s)"
   ]
  },
  {
   "attachments": {},
   "cell_type": "markdown",
   "metadata": {},
   "source": [
    "* Example:\n",
    "    * [StudentID, ProjectID, StudentName, ProjectName] -> not in 2NF\n",
    "        * \"StudentName\" can be retrieved from \"StudentID\"\n",
    "        * \"ProjectName\" can be retrieved from \"ProjectID\"\n",
    "    * [StudentID, ProjectID] -> in 2NF"
   ]
  },
  {
   "attachments": {},
   "cell_type": "markdown",
   "metadata": {},
   "source": [
    "#### 1.5.2. Third Normal Form (3NF)"
   ]
  },
  {
   "attachments": {},
   "cell_type": "markdown",
   "metadata": {},
   "source": [
    "* Rule #1: Follows the 2NF\n",
    "* Rule #2: No transitive functional dependency is allowed"
   ]
  },
  {
   "attachments": {},
   "cell_type": "markdown",
   "metadata": {},
   "source": [
    "* Example:\n",
    "    * MovieListing[MovieID, ListingID, ListingType, Price] --> not in 3NF\n",
    "        * \"MovieID\" points to \"ListingID\" and \"ListingID\" points to \"ListingType\"\n",
    "        * Thus \"MovieID\" points to \"ListingType\"\n",
    "    * Movie[MovieID, ListingID, Price] and Listing[ListingID, ListingType] --> in 3NF"
   ]
  },
  {
   "attachments": {},
   "cell_type": "markdown",
   "metadata": {},
   "source": [
    "# 2. Creating Models"
   ]
  },
  {
   "attachments": {},
   "cell_type": "markdown",
   "metadata": {},
   "source": [
    "### 2.1. Overview"
   ]
  },
  {
   "attachments": {},
   "cell_type": "markdown",
   "metadata": {},
   "source": [
    "* Fat Models, Thin Views and Stupid Templates\n",
    "* Break very fat models into multiple sections or modules\n",
    "    * Use abstract inheritance\n",
    "    * Use stateless helper functions"
   ]
  },
  {
   "attachments": {},
   "cell_type": "markdown",
   "metadata": {},
   "source": [
    "* In the models.py file of an app"
   ]
  },
  {
   "cell_type": "code",
   "execution_count": 1,
   "metadata": {},
   "outputs": [],
   "source": [
    "# from django.db import models\n",
    "\n",
    "\n",
    "# class ModelName(models.Model):\n",
    "    # field_name = models.ModelFieldType()"
   ]
  },
  {
   "attachments": {},
   "cell_type": "markdown",
   "metadata": {},
   "source": [
    "* Django creates the ID field automatically and auto-increments it each time a an object is created\n",
    "* To overwrite this, set the primary_key attribute to True"
   ]
  },
  {
   "cell_type": "code",
   "execution_count": 2,
   "metadata": {},
   "outputs": [],
   "source": [
    "# from django.db import models\n",
    "\n",
    "\n",
    "# class ModelName(models.Model):\n",
    "    # field_name = models.ModelFieldType(primary_key=True)"
   ]
  },
  {
   "attachments": {},
   "cell_type": "markdown",
   "metadata": {},
   "source": [
    "### 2.2. Date Time"
   ]
  },
  {
   "attachments": {},
   "cell_type": "markdown",
   "metadata": {},
   "source": [
    "* To set a Date or DateTime for an object each time it is created"
   ]
  },
  {
   "cell_type": "code",
   "execution_count": 3,
   "metadata": {},
   "outputs": [],
   "source": [
    "# from django.db import models\n",
    "\n",
    "\n",
    "# class ModelName(models.Model):\n",
    "    # field_name = models.FieldModelDateTimeType(auto_now_add=True)"
   ]
  },
  {
   "attachments": {},
   "cell_type": "markdown",
   "metadata": {},
   "source": [
    "* To set a Date or DateTime for an object each time it is updated"
   ]
  },
  {
   "cell_type": "code",
   "execution_count": 4,
   "metadata": {},
   "outputs": [],
   "source": [
    "# from django.db import models\n",
    "\n",
    "\n",
    "# class ModelName(models.Model):\n",
    "    # field_name = models.FieldModelDateTimeType(auto_now=True)"
   ]
  },
  {
   "attachments": {},
   "cell_type": "markdown",
   "metadata": {},
   "source": [
    "### 2.3. Null / Blank"
   ]
  },
  {
   "attachments": {},
   "cell_type": "markdown",
   "metadata": {},
   "source": [
    "* null=True -> will allow the entry in database to have null values\n",
    "* blank=True -> will allow the field in the form to be left empty"
   ]
  },
  {
   "cell_type": "code",
   "execution_count": 5,
   "metadata": {},
   "outputs": [],
   "source": [
    "# from django.db import models\n",
    "\n",
    "\n",
    "# class ModelName(models.Model):\n",
    "    # field_name = models.FieldModelType(null=True, blank=True)"
   ]
  },
  {
   "attachments": {},
   "cell_type": "markdown",
   "metadata": {},
   "source": [
    "### 2.4. Choice Fields"
   ]
  },
  {
   "attachments": {},
   "cell_type": "markdown",
   "metadata": {},
   "source": [
    "* To limit a field to a predefined set of values, use the attribute choices\n",
    "    * The default attribute is optional"
   ]
  },
  {
   "cell_type": "code",
   "execution_count": 6,
   "metadata": {},
   "outputs": [],
   "source": [
    "# from django.db import models\n",
    "\n",
    "\n",
    "# class ModelName(models.Model):\n",
    "    # OPTION_ONE = 1\n",
    "    # OPTION_TWO = 2\n",
    "    # OPTION_THREE = 3\n",
    "\n",
    "    # OPTIONS = [\n",
    "        # (OPTION_ONE, \"One\"),\n",
    "        # (OPTION_TWO, \"Two\"),\n",
    "        # (OPTION_THREE, \"Three\"),\n",
    "    # ]\n",
    "\n",
    "    # field_name = models.ModelFieldType(choices=OPTIONS, default=OPTION_THREE)"
   ]
  },
  {
   "attachments": {},
   "cell_type": "markdown",
   "metadata": {},
   "source": [
    "* Use enumeration types until above method becomes more practical\n",
    "    1. Cannot use categories and sub-categories\n",
    "    2. only int and str types are available"
   ]
  },
  {
   "cell_type": "code",
   "execution_count": 7,
   "metadata": {},
   "outputs": [],
   "source": [
    "# from django.db import models\n",
    "\n",
    "\n",
    "# class ModelName(models.Model):\n",
    "    # class TextOption(models.TextChoices):\n",
    "        # OPTION_ONE = \"ONE\", \"One\"\n",
    "        # OPTION_TWO = \"TWO\", \"Two\"\n",
    "    \n",
    "    # class IntOption(models.IntegerChoices):\n",
    "        # OPTION_ONE = 1, \"One\"\n",
    "        # OPTION_TWO = 2, \"Two\"\n",
    "    \n",
    "    # field_name_one = models.CharField(max_length=3, choices=TextOption.choices, default=TextOption.OPTION_ONE)\n",
    "    # field_name_two = models.SmallIntegerField(choices=IntOption.choices, default=IntOption.OPTION_ONE)"
   ]
  },
  {
   "attachments": {},
   "cell_type": "markdown",
   "metadata": {},
   "source": [
    "### 2.5. One to One Relationships"
   ]
  },
  {
   "attachments": {},
   "cell_type": "markdown",
   "metadata": {},
   "source": [
    "* In a one to one relationship, an entity can have 1 of another entity\n",
    "    * Example: A customer can have 1 address (country, state, city, street, ...)\n",
    "    * Use **primary_key=True** to make the one to one field the ID field as well"
   ]
  },
  {
   "cell_type": "code",
   "execution_count": 8,
   "metadata": {},
   "outputs": [],
   "source": [
    "# from django.db import models\n",
    "\n",
    "\n",
    "# class AnotherModelName(models.Model):\n",
    "    # one_to_one_field = models.OneToOneField(to=ModelName, on_delete=models.CASCADE)\n",
    "\n",
    "\n",
    "# class AnotherModelName(models.Model):\n",
    "    # one_to_one_field = models.OneToOneField(to=ModelName, on_delete=models.SET_NULL, null=True)\n",
    "\n",
    "\n",
    "# class AnotherModelName(models.Model):\n",
    "    # one_to_one_field = models.OneToOneField(to=ModelName, on_delete=models.SET_DEFAULT default=)\n",
    "\n",
    "\n",
    "# class AnotherModelName(models.Model):\n",
    "    # one_to_one_field = models.OneToOneField(to=ModelName, on_delete=models.PROTECT)"
   ]
  },
  {
   "attachments": {},
   "cell_type": "markdown",
   "metadata": {},
   "source": [
    "### 2.6. One to Many Relationships"
   ]
  },
  {
   "attachments": {},
   "cell_type": "markdown",
   "metadata": {},
   "source": [
    "* Cannot use **primary_key=True**, since each entity will have multiple entities"
   ]
  },
  {
   "cell_type": "code",
   "execution_count": 9,
   "metadata": {},
   "outputs": [],
   "source": [
    "# from django.db import models\n",
    "\n",
    "\n",
    "# class AnotherModelName(models.Model):\n",
    "    # one_to_many_field = models.ForeignKey(to=ModelName, on_delete=models.CASCADE)"
   ]
  },
  {
   "attachments": {},
   "cell_type": "markdown",
   "metadata": {},
   "source": [
    "### 2.7. Many to Many Relationships"
   ]
  },
  {
   "attachments": {},
   "cell_type": "markdown",
   "metadata": {},
   "source": [
    "* To create a many to many relationship field"
   ]
  },
  {
   "cell_type": "code",
   "execution_count": 10,
   "metadata": {},
   "outputs": [],
   "source": [
    "# from django.db import models.\n",
    "\n",
    "\n",
    "# class AnotherModelName(models.Model):\n",
    "    # many_to_many_field = models.ManyToManyField(to=ModelName)"
   ]
  },
  {
   "attachments": {},
   "cell_type": "markdown",
   "metadata": {},
   "source": [
    "* **related_name=**\n",
    "    * Used to rename the reverse relationship field created in the target entity\n",
    "    * The default name is: another_model_name_set\n",
    "    * **related_name=\"+\"** -> Django will not create the reverse relationship"
   ]
  },
  {
   "attachments": {},
   "cell_type": "markdown",
   "metadata": {},
   "source": [
    "### 2.8. Generic Relationships"
   ]
  },
  {
   "attachments": {},
   "cell_type": "markdown",
   "metadata": {},
   "source": [
    "* Generic Models are used to create independent models that can be used alongside other models\n",
    "* To create generic models, two piece of information is required:\n",
    "    1. **Type** -> the type of a model which refer to the table\n",
    "    2. **ID** -> the id to extract the record from the table\n",
    "        * The ID field type must be the same as the ID field type of the target model"
   ]
  },
  {
   "cell_type": "code",
   "execution_count": 11,
   "metadata": {},
   "outputs": [],
   "source": [
    "# from django.db import models\n",
    "# from django.contrib.contenttypes.models import ContentType\n",
    "# from django.contrib.contenttypes.fields import GenericForeignKey\n",
    "\n",
    "\n",
    "# class ModelName(models.Model):\n",
    "    # content_type = models.ForeignKey(ContentType, on_delete=models.CASCADE)\n",
    "    # object_id = models.PositiveIntegerField()\n",
    "    # content_object = GenericForeignKey()"
   ]
  },
  {
   "attachments": {},
   "cell_type": "markdown",
   "metadata": {},
   "source": [
    "### 2.9. Modifying the string representation of a model"
   ]
  },
  {
   "cell_type": "code",
   "execution_count": 12,
   "metadata": {},
   "outputs": [],
   "source": [
    "# from django.db import model\n",
    "\n",
    "\n",
    "# class ModelName(models.Model):\n",
    "    # field_name = models.FieldTypeName()\n",
    "\n",
    "    # def __str__():\n",
    "        # return \"\""
   ]
  },
  {
   "attachments": {},
   "cell_type": "markdown",
   "metadata": {},
   "source": [
    "### 2.10. Validators"
   ]
  },
  {
   "attachments": {},
   "cell_type": "markdown",
   "metadata": {},
   "source": [
    "* These validators are used when INSERTING, UPDATING or filling a field in the form"
   ]
  },
  {
   "cell_type": "code",
   "execution_count": 13,
   "metadata": {},
   "outputs": [],
   "source": [
    "# from django.db import model\n",
    "# from django.core.validators import MinValueValidator, FileExtensionValidator\n",
    "\n",
    "\n",
    "# class ModelName(model.Model):\n",
    "    # field_name = models.NumericFieldType(validators=[MinValueValidator(#, message=\"\")])\n",
    "    # file_field_name = models.FileField(upload_to=\"path\", validators=[FileExtensionValidator(allowed_extensions=[\"pdf\"])])"
   ]
  },
  {
   "attachments": {},
   "cell_type": "markdown",
   "metadata": {},
   "source": [
    "* Custom validators can be created in validators.py file and used anywhere"
   ]
  },
  {
   "cell_type": "code",
   "execution_count": 14,
   "metadata": {},
   "outputs": [],
   "source": [
    "# from django.core.exception import ValidationError\n",
    "\n",
    "\n",
    "# def validator_function_name(parameters):\n",
    "    # if conditions are not met:\n",
    "        # raise ValidationError(\"message\")"
   ]
  },
  {
   "cell_type": "code",
   "execution_count": 15,
   "metadata": {},
   "outputs": [],
   "source": [
    "# from django.db import model\n",
    "# from django.core import validators\n",
    "# from .validators import validator_function_name\n",
    "\n",
    "\n",
    "# class ModelName(model.Model):\n",
    "    # field_name = models.FieldType(validators=[validator_function_name])"
   ]
  },
  {
   "attachments": {},
   "cell_type": "markdown",
   "metadata": {},
   "source": [
    "### 2.11. Timestamp Models"
   ]
  },
  {
   "cell_type": "code",
   "execution_count": 16,
   "metadata": {},
   "outputs": [],
   "source": [
    "# from django.db import models\n",
    "\n",
    "\n",
    "# class TimeStampedModel(models.Model):\n",
    "    # created = models.DateTimeField(auto_now_add=True)\n",
    "    # updated = models.DateTimeField(auto_now=True)\n",
    "\n",
    "    # class Meta:\n",
    "        # abstract = True\n",
    "\n",
    "\n",
    "# class ModelName(TimeStampedModel):\n",
    "    # field_name_one = models.FieldType(required_attributes=)"
   ]
  },
  {
   "attachments": {},
   "cell_type": "markdown",
   "metadata": {},
   "source": [
    "### 2.12. Uploading Files"
   ]
  },
  {
   "attachments": {},
   "cell_type": "markdown",
   "metadata": {},
   "source": [
    "**NOTE** To use ImageField, the package PILLOW must be installed"
   ]
  },
  {
   "cell_type": "code",
   "execution_count": 17,
   "metadata": {},
   "outputs": [],
   "source": [
    "# from django.utils.translation import gettext_lazy as _\n",
    "# from django.db import models\n",
    "\n",
    "\n",
    "# class ImageModeName(models.Model):\n",
    "    # model_name = models.ForeignKey(\n",
    "        # to=ModelName,\n",
    "        # on_delete=models.CASCADE,\n",
    "        # related_name=\"images\",\n",
    "        # verbose_name=_(\"model name\")\n",
    "    # )\n",
    "    # images = models.ImageField(upload_to=\"image_path\", verbose_name=_(\"images\"))\n",
    "    # files = models.FileField(upload_to=\"file_path\", verbose_name=_(\"files\"))"
   ]
  },
  {
   "attachments": {},
   "cell_type": "markdown",
   "metadata": {},
   "source": [
    "# 3. Model Inheritance"
   ]
  },
  {
   "attachments": {},
   "cell_type": "markdown",
   "metadata": {},
   "source": [
    "* There are four types of inheritance when dealing with models\n",
    "    1. Inheriting directly from models.Model\n",
    "    2. Abstract Base Class\n",
    "    3. Multi Table Inheritance\n",
    "    4. Proxy Models"
   ]
  },
  {
   "attachments": {},
   "cell_type": "markdown",
   "metadata": {},
   "source": [
    "**AVOID** using multi-table inheritance<br>\n",
    "**BEST PRACTICE** use one to one fields and foreign keys instead of multi-table inheritance"
   ]
  },
  {
   "attachments": {},
   "cell_type": "markdown",
   "metadata": {},
   "source": [
    "# 4. Customizing Schema"
   ]
  },
  {
   "attachments": {},
   "cell_type": "markdown",
   "metadata": {},
   "source": [
    "* By adding the Meta class within a model, its schema can be customized"
   ]
  },
  {
   "cell_type": "code",
   "execution_count": 18,
   "metadata": {},
   "outputs": [],
   "source": [
    "# from django.db import models\n",
    "\n",
    "\n",
    "# class ModelName(models.Model):\n",
    "    # field_name = models.ModelFieldType()\n",
    "    # another_field_name = models.ModelFieldType()\n",
    "\n",
    "    # class Meta:\n",
    "        # abstract = True\n",
    "        # db_table = \"some_name\"\n",
    "        # ordering = [\"field_name\", \"-another_field_name\"]\n",
    "        # indexes = [\n",
    "            # models.Index(fields=[\"field_name\", \"-another_field_name\"]),\n",
    "        # ]\n",
    "        # unique_together = [[\"field_name\", \"another_field_name\"]]\n",
    "        # verbose_name = \"ModelName\"\n",
    "        # verbose_name_plural = \"ModelNames\""
   ]
  },
  {
   "attachments": {},
   "cell_type": "markdown",
   "metadata": {},
   "source": [
    "# 5. Model Managers"
   ]
  },
  {
   "attachments": {},
   "cell_type": "markdown",
   "metadata": {},
   "source": [
    "* Each model has an **objects** object called manager which allows querying the model's table in the database\n",
    "* These default managers can be customized to enable using custom codes"
   ]
  },
  {
   "cell_type": "code",
   "execution_count": 19,
   "metadata": {},
   "outputs": [],
   "source": [
    "# from django.contrib.contenttypes.models import ContentType\n",
    "# from django.db import models\n",
    "\n",
    "\n",
    "# class ModelNameManager(models.Manager):\n",
    "    # def custom_func_one(self, obj_type, obj_id):\n",
    "        # content_type = ContentType.objects.get_for_model(obj_type)\n",
    "        # return GenericModelName.objects.filter(content_type=content_type, object_id=obj_id)\n",
    "    \n",
    "    # def custom_func_two(self, *args, **kwargs):\n",
    "        # return self.filter(field_name__lookup=value)\n",
    "\n",
    "\n",
    "# class ModelName(models.Model):\n",
    "    # objects = ModelNameManager()"
   ]
  },
  {
   "attachments": {},
   "cell_type": "markdown",
   "metadata": {},
   "source": [
    "# 6. Public Identifiers"
   ]
  },
  {
   "attachments": {},
   "cell_type": "markdown",
   "metadata": {},
   "source": [
    "* Don’t use sequential keys, such as what Django provides as a default for model primary keys, as public identifiers"
   ]
  },
  {
   "cell_type": "code",
   "execution_count": 20,
   "metadata": {},
   "outputs": [],
   "source": [
    "# import uuid as uuid_lib\n",
    "# from django.db import models\n",
    "\n",
    "\n",
    "# class ModelName(models.Model):\n",
    "    # field_name_one = models.FieldNameOne(required_attributes=)\n",
    "    # uuid_field_name = models.UUIDField(db_index=True, default=uuid_lib.uuid4, editable=False)"
   ]
  },
  {
   "attachments": {},
   "cell_type": "markdown",
   "metadata": {},
   "source": [
    "**NOTE:**\n",
    "1. in the view add *lookup_field=\"uuid_field_name\"*\n",
    "2. in the urls add *< uuid:uuid >*"
   ]
  },
  {
   "attachments": {},
   "cell_type": "markdown",
   "metadata": {},
   "source": [
    "# 7. Model Permissions and Groups"
   ]
  },
  {
   "attachments": {},
   "cell_type": "markdown",
   "metadata": {},
   "source": [
    "* Custom permissions can be created in the models\n",
    "* These permissions can be assigned to users through django admin model"
   ]
  },
  {
   "cell_type": "code",
   "execution_count": 21,
   "metadata": {},
   "outputs": [],
   "source": [
    "# from django.db import models\n",
    "\n",
    "\n",
    "# class ModelName(models.Model):\n",
    "    # field_name = ...\n",
    "\n",
    "    # class Meta:\n",
    "        # permissions = [\n",
    "            # (\"model_permission_code_name\", \"permission description\"),\n",
    "        # ]"
   ]
  },
  {
   "attachments": {},
   "cell_type": "markdown",
   "metadata": {},
   "source": [
    "* Django creates default permissions for each model on migration\n",
    "* Using django admin panel, permissions and groups of permissions can be assigned to users\n",
    "* Using django admin panel, permissions can be grouped and assigned together"
   ]
  },
  {
   "attachments": {},
   "cell_type": "markdown",
   "metadata": {},
   "source": [
    "# 8. User Model"
   ]
  },
  {
   "attachments": {},
   "cell_type": "markdown",
   "metadata": {},
   "source": [
    "* Django provides a basic user model\n",
    "* There are 2 approaches to modify django's base user model\n",
    "    1. Extend The User\n",
    "    2. Create A Profile"
   ]
  },
  {
   "attachments": {},
   "cell_type": "markdown",
   "metadata": {},
   "source": [
    "* **Extending User Mode** is used when it is required to store additional authentication related attributes\n",
    "* **Creating A Profile** is used when it is required to store additional non-related authentication attributes"
   ]
  },
  {
   "attachments": {},
   "cell_type": "markdown",
   "metadata": {},
   "source": [
    "**BEST PRACTICE** All user model related codes should be placed in a separate and project specific APP"
   ]
  },
  {
   "attachments": {},
   "cell_type": "markdown",
   "metadata": {},
   "source": [
    "### 8.1. Extending User Model"
   ]
  },
  {
   "cell_type": "markdown",
   "metadata": {},
   "source": [
    "* Define the user model in the models.py"
   ]
  },
  {
   "cell_type": "code",
   "execution_count": 22,
   "metadata": {},
   "outputs": [],
   "source": [
    "# from django.contrib.auth.models import AbstractUser\n",
    "# from django.db import models\n",
    "\n",
    "\n",
    "# class User(AbstractUser):\n",
    "    # additional fields\n",
    "    # additional functionalities\n",
    "\n",
    "    # USERNAME_FIELD = \"field_name\"\n",
    "    # REQUIRED_FIELDS = [\"field_name\", ]"
   ]
  },
  {
   "cell_type": "markdown",
   "metadata": {},
   "source": [
    "* Change the default user model in settings.py"
   ]
  },
  {
   "cell_type": "code",
   "execution_count": 23,
   "metadata": {},
   "outputs": [],
   "source": [
    "AUTH_USER_MODEL = \"app_name.user_model_name\""
   ]
  },
  {
   "attachments": {},
   "cell_type": "markdown",
   "metadata": {},
   "source": [
    "* Use the custom user model in other places"
   ]
  },
  {
   "cell_type": "code",
   "execution_count": 24,
   "metadata": {},
   "outputs": [],
   "source": [
    "# from django.conf import settings\n",
    "# from django.db import models\n",
    "\n",
    "\n",
    "# USER = settings.AUTH_USER_MODEL\n",
    "\n",
    "# class ModelName(models.Model):\n",
    "    # user = models.OneToOneField(to=USER, on_delete=models.CASCADE)"
   ]
  },
  {
   "attachments": {},
   "cell_type": "markdown",
   "metadata": {},
   "source": [
    "* Add the user to admins.py"
   ]
  },
  {
   "cell_type": "code",
   "execution_count": 25,
   "metadata": {},
   "outputs": [],
   "source": [
    "# from django.contrib import admin\n",
    "# from django.contrib.auth.models import UserAdmin as BaseUserAdmin\n",
    "# from .models import User\n",
    "\n",
    "\n",
    "# @admin.register(User)\n",
    "# class UserAdmin(BaseUserAdmin):\n",
    "    # pass"
   ]
  },
  {
   "attachments": {},
   "cell_type": "markdown",
   "metadata": {},
   "source": [
    "### 8.2. Creating User Profile"
   ]
  },
  {
   "attachments": {},
   "cell_type": "markdown",
   "metadata": {},
   "source": [
    "* Using one to one fields from the profile model to the user model"
   ]
  },
  {
   "cell_type": "code",
   "execution_count": 26,
   "metadata": {},
   "outputs": [],
   "source": [
    "# from django.conf import settings\n",
    "# from django.db import models\n",
    "\n",
    "\n",
    "# USER = settings.AUTH_USER_MODEL\n",
    "\n",
    "# class ProfileModelName(models.Model):\n",
    "    # user = models.OneToOneField(to=USER, on_delete=models.CASCADE)\n",
    "\n",
    "    # def __str__(sef):\n",
    "        # return f\"{self.user.first_name} {self.user.last_name}\"\n",
    "    \n",
    "    # class Meta:\n",
    "        # ordering = [\"user__first_name\", \"user__last_name\"]"
   ]
  },
  {
   "attachments": {},
   "cell_type": "markdown",
   "metadata": {},
   "source": [
    "# 9. Signals"
   ]
  },
  {
   "attachments": {},
   "cell_type": "markdown",
   "metadata": {},
   "source": [
    "### 9.1. Defining a Signal"
   ]
  },
  {
   "attachments": {},
   "cell_type": "markdown",
   "metadata": {},
   "source": [
    "* Signals are used to take some actions when a certain model get created or deleted\n",
    "* Signals are better to be kept in a signals/handlers.py file"
   ]
  },
  {
   "cell_type": "code",
   "execution_count": 27,
   "metadata": {},
   "outputs": [],
   "source": [
    "# from django.db.models.signals import post_save\n",
    "# from django.dispatch import receiver\n",
    "# from .models import ModelName, AnotherModelName\n",
    "\n",
    "\n",
    "# @receiver(signal=post_save, sender=ModelName)\n",
    "# def signal_descriptive_name(sender, **kwargs):\n",
    "    # if kwargs[\"created\"]:\n",
    "        # AnotherModelName.objects.create(model_name_field=kwargs[\"instance\"])"
   ]
  },
  {
   "attachments": {},
   "cell_type": "markdown",
   "metadata": {},
   "source": [
    "* Signal must be registered in the apps.py file"
   ]
  },
  {
   "cell_type": "code",
   "execution_count": 28,
   "metadata": {},
   "outputs": [],
   "source": [
    "# from django.apps import AppConfig\n",
    "\n",
    "\n",
    "# class AppNameConfig(AppConfig):\n",
    "    # default_auto_field = \"\"\n",
    "    # name = \"app_name\"\n",
    "\n",
    "    # def ready(self) -> None:\n",
    "        # import app_name.signals.handlers"
   ]
  },
  {
   "attachments": {},
   "cell_type": "markdown",
   "metadata": {},
   "source": [
    "### 9.2. Custom Signals"
   ]
  },
  {
   "attachments": {},
   "cell_type": "markdown",
   "metadata": {},
   "source": [
    "* To create custom signals:\n",
    "    1. Create \\_\\_init.py\\_\\_ file in the signals folder\n",
    "    2. Instantiate the Signal class in the \\_\\_init.py\\_\\_\n",
    "    3. Use the defined instance in the desired place\n",
    "    4. Handle the signal in the handlers.py file"
   ]
  },
  {
   "cell_type": "code",
   "execution_count": 29,
   "metadata": {},
   "outputs": [],
   "source": [
    "# from django.dispatch import Signal\n",
    "\n",
    "\n",
    "# custom_signal_name = Signal()"
   ]
  },
  {
   "attachments": {},
   "cell_type": "markdown",
   "metadata": {},
   "source": [
    "* Custom signals can be imported and used anywhere they are needed\n",
    "    * .send --> if a receiver fails and throws and exception, the rest of the receivers will not be notified"
   ]
  },
  {
   "cell_type": "code",
   "execution_count": 30,
   "metadata": {},
   "outputs": [],
   "source": [
    "# from .signals import custom_signal_name\n",
    "\n",
    "\n",
    "# class ModelNameSerializer():\n",
    "    # def save(self):\n",
    "        # custom_signal_name.send_robust(sender=self.__class__, additional_keyword_arguments)"
   ]
  }
 ],
 "metadata": {
  "kernelspec": {
   "display_name": "DjangoHandbook-iq55m2Eo",
   "language": "python",
   "name": "python3"
  },
  "language_info": {
   "codemirror_mode": {
    "name": "ipython",
    "version": 3
   },
   "file_extension": ".py",
   "mimetype": "text/x-python",
   "name": "python",
   "nbconvert_exporter": "python",
   "pygments_lexer": "ipython3",
   "version": "3.10.6"
  },
  "orig_nbformat": 4,
  "vscode": {
   "interpreter": {
    "hash": "177f7a3caab0859454ecdfdbd4714a70c6607192662cb31eb631432d1b69b0fb"
   }
  }
 },
 "nbformat": 4,
 "nbformat_minor": 2
}
