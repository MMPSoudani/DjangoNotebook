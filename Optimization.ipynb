{
 "cells": [
  {
   "attachments": {},
   "cell_type": "markdown",
   "metadata": {},
   "source": [
    "# 1. Automated Testing"
   ]
  },
  {
   "attachments": {},
   "cell_type": "markdown",
   "metadata": {},
   "source": [
    "### 1.1. Overview"
   ]
  },
  {
   "attachments": {},
   "cell_type": "markdown",
   "metadata": {},
   "source": [
    "* Writing test units to examine various end points\n",
    "* Test units must examine the behaviors not the implementations "
   ]
  },
  {
   "attachments": {},
   "cell_type": "markdown",
   "metadata": {},
   "source": [
    "* When testing the end point's behavior:\n",
    "    1. Write down various conditions when using that end point\n",
    "    2. Write down the expected behavior of that condition"
   ]
  },
  {
   "attachments": {},
   "cell_type": "markdown",
   "metadata": {},
   "source": [
    "* Test Frameworks gives structure for writing and running tests and also generating reports"
   ]
  },
  {
   "attachments": {},
   "cell_type": "markdown",
   "metadata": {},
   "source": [
    "* Pytest creates a database at the start of testing and drops it when testing is done"
   ]
  },
  {
   "attachments": {},
   "cell_type": "markdown",
   "metadata": {},
   "source": [
    "### 1.2. Installation"
   ]
  },
  {
   "attachments": {},
   "cell_type": "markdown",
   "metadata": {},
   "source": [
    "* Installing the test framework, pytest"
   ]
  },
  {
   "cell_type": "code",
   "execution_count": 2,
   "metadata": {},
   "outputs": [],
   "source": [
    "# pipenv install --dev pytest\n",
    "# pipenv install --dev pytest-django"
   ]
  },
  {
   "attachments": {},
   "cell_type": "markdown",
   "metadata": {},
   "source": [
    "### 1.3. Writing Tests"
   ]
  },
  {
   "attachments": {},
   "cell_type": "markdown",
   "metadata": {},
   "source": [
    "* Tests should be placed in the **tests** folder of each app\n",
    "* Test modules naming convention is **test_custom_name.py**"
   ]
  },
  {
   "cell_type": "code",
   "execution_count": 27,
   "metadata": {},
   "outputs": [],
   "source": [
    "# from rest_framework import status\n",
    "# from rest_framework.test import APIClient\n",
    "\n",
    "# in the class, related test functions can be placed\n",
    "# test classes should start with Test\n",
    "\n",
    "# class TestCustomName:\n",
    "    # test functions should start with test_\n",
    "    # def test_descriptive_name(self):\n",
    "        # test functions have three parts: Arrange, Act, Assert\n",
    "        # Arrange: Preparing the system (creating objects, ...)\n",
    "\n",
    "        # Act: Implementing the behavior (sending requests to the server)\n",
    "        # client = APIClient()\n",
    "        # response = client.post(path=\"/url_path/\", data={\"key\": \"value\"})\n",
    "\n",
    "        # Assert:\n",
    "        # assert response.status_code == status.HTTP_200_OK"
   ]
  },
  {
   "attachments": {},
   "cell_type": "markdown",
   "metadata": {},
   "source": [
    "* To allow the test to access the database and do CRUD in it"
   ]
  },
  {
   "cell_type": "code",
   "execution_count": 6,
   "metadata": {},
   "outputs": [],
   "source": [
    "# from rest_framework import status\n",
    "# from rest_framework.test import APIClient\n",
    "# import pytest\n",
    "\n",
    "\n",
    "# @pytest.mark.django_db\n",
    "# class TestCustomName:\n",
    "    # def test_descriptive_name(self):\n",
    "        # logic"
   ]
  },
  {
   "attachments": {},
   "cell_type": "markdown",
   "metadata": {},
   "source": [
    "* To skip a test"
   ]
  },
  {
   "cell_type": "code",
   "execution_count": 12,
   "metadata": {},
   "outputs": [],
   "source": [
    "# from rest_framework import status\n",
    "# from rest_framework.test import APIClient\n",
    "# import pytest\n",
    "\n",
    "\n",
    "# class TestCustomName:\n",
    "    # @pytest.mark.skip\n",
    "    # def test_descriptive_name(self):\n",
    "        # logic"
   ]
  },
  {
   "attachments": {},
   "cell_type": "markdown",
   "metadata": {},
   "source": [
    "* To authenticate user"
   ]
  },
  {
   "cell_type": "code",
   "execution_count": 19,
   "metadata": {},
   "outputs": [],
   "source": [
    "# from django.contrib.auth.models import User\n",
    "# from rest_framework import status\n",
    "# from rest_framework.test import APIClient\n",
    "\n",
    "# class TestCustomName:\n",
    "    # def test_descriptive_name(self):\n",
    "        # client = APIClient()\n",
    "        # client.force_authenticate(user={})\n",
    "        # response = client.post(path=\"/url_path/\", data={\"key\": \"value\"})\n",
    "\n",
    "        # assert response.status_code == status.HTTP_200_OK\n",
    "    \n",
    "    # def test_descriptive_name(self):\n",
    "        # client = APIClient()\n",
    "        # client.force_authenticate(user=User(is_staff=True))\n",
    "        # response = client.post(path=\"/url_path/\", data={\"key\": \"value\"})\n",
    "\n",
    "        # assert response.status_code == status.HTTP_200_OK"
   ]
  },
  {
   "attachments": {},
   "cell_type": "markdown",
   "metadata": {},
   "source": [
    "* To create model instances\n",
    "    1. Import the model and manually create instances of it\n",
    "    2. Use model bakery"
   ]
  },
  {
   "cell_type": "code",
   "execution_count": 20,
   "metadata": {},
   "outputs": [],
   "source": [
    "# pipenv install --dev model_bakery"
   ]
  },
  {
   "cell_type": "code",
   "execution_count": 25,
   "metadata": {},
   "outputs": [],
   "source": [
    "# from django.contrib.auth.models import User\n",
    "# from rest_framework import status\n",
    "# from rest_framework.test import APIClient\n",
    "# from model_bakery import baker\n",
    "# from .models import ModelName\n",
    "\n",
    "\n",
    "# class TestCustomName:\n",
    "    # def test_descriptive_name(self):\n",
    "        # model_name = ModelName(attributes=)\n",
    "        # client = APIClient()\n",
    "        # client.force_authenticate(user={})\n",
    "        # response = client.post(path=f\"/url_path/{model_name.id}\")\n",
    "\n",
    "        # assert response.data == {instance_key: value,}\n",
    "    \n",
    "    # def test_descriptive_name(self):\n",
    "        # instance = baker.make(ModelName, attribute=)\n",
    "        # client = APIClient()\n",
    "        # client.force_authenticate(user=User(is_staff=True))\n",
    "        # response = client.post(path=f\"/url_path/{instance.id}/\", data={\"key\": \"value\"})\n",
    "\n",
    "        # assert response.status_code == status.HTTP_200_OK"
   ]
  },
  {
   "attachments": {},
   "cell_type": "markdown",
   "metadata": {},
   "source": [
    "### 1.4. Running Tests"
   ]
  },
  {
   "attachments": {},
   "cell_type": "markdown",
   "metadata": {},
   "source": [
    "* To run tests, create pytest.ini file in root project directory with bellow content"
   ]
  },
  {
   "cell_type": "code",
   "execution_count": 3,
   "metadata": {},
   "outputs": [],
   "source": [
    "# DJANGO_SETTINGS_MODULE=config.settings.local"
   ]
  },
  {
   "attachments": {},
   "cell_type": "markdown",
   "metadata": {},
   "source": [
    "* To execute all tests in the project"
   ]
  },
  {
   "cell_type": "code",
   "execution_count": 5,
   "metadata": {},
   "outputs": [],
   "source": [
    "# pytest"
   ]
  },
  {
   "attachments": {},
   "cell_type": "markdown",
   "metadata": {},
   "source": [
    "* To execute all tests in an app"
   ]
  },
  {
   "cell_type": "code",
   "execution_count": 7,
   "metadata": {},
   "outputs": [],
   "source": [
    "# pytest app_path/tests"
   ]
  },
  {
   "attachments": {},
   "cell_type": "markdown",
   "metadata": {},
   "source": [
    "* To execute all tests in a module"
   ]
  },
  {
   "cell_type": "code",
   "execution_count": 8,
   "metadata": {},
   "outputs": [],
   "source": [
    "# pytest app_path/tests/module_name"
   ]
  },
  {
   "attachments": {},
   "cell_type": "markdown",
   "metadata": {},
   "source": [
    "* To execute a test class"
   ]
  },
  {
   "cell_type": "code",
   "execution_count": 9,
   "metadata": {},
   "outputs": [],
   "source": [
    "# pytest app_path/tests/module_name::class_name"
   ]
  },
  {
   "attachments": {},
   "cell_type": "markdown",
   "metadata": {},
   "source": [
    "* To execute a test function within a test class"
   ]
  },
  {
   "cell_type": "code",
   "execution_count": 10,
   "metadata": {},
   "outputs": [],
   "source": [
    "# pytest app_path/tests/module_name::class_name::function_name"
   ]
  },
  {
   "attachments": {},
   "cell_type": "markdown",
   "metadata": {},
   "source": [
    "* To execute tests with a pattern"
   ]
  },
  {
   "cell_type": "code",
   "execution_count": 11,
   "metadata": {},
   "outputs": [],
   "source": [
    "# pytest -k pattern"
   ]
  },
  {
   "attachments": {},
   "cell_type": "markdown",
   "metadata": {},
   "source": [
    "### 1.5. Continues Tests"
   ]
  },
  {
   "cell_type": "code",
   "execution_count": 13,
   "metadata": {},
   "outputs": [],
   "source": [
    "# pipenv install --dev pytest-watch"
   ]
  },
  {
   "attachments": {},
   "cell_type": "markdown",
   "metadata": {},
   "source": [
    "* To run pytest-watch"
   ]
  },
  {
   "cell_type": "code",
   "execution_count": 14,
   "metadata": {},
   "outputs": [],
   "source": [
    "# ptw"
   ]
  },
  {
   "cell_type": "markdown",
   "metadata": {},
   "source": [
    "# 2. Performance Testing"
   ]
  },
  {
   "attachments": {},
   "cell_type": "markdown",
   "metadata": {},
   "source": [
    "### 2.1. Overview"
   ]
  },
  {
   "attachments": {},
   "cell_type": "markdown",
   "metadata": {},
   "source": [
    "* A process for evaluating the performance of a system\n",
    "* Should be done before deploying the system"
   ]
  },
  {
   "attachments": {},
   "cell_type": "markdown",
   "metadata": {},
   "source": [
    "* To write performance test, core case uses of the system must be identified"
   ]
  },
  {
   "attachments": {},
   "cell_type": "markdown",
   "metadata": {},
   "source": [
    "* Performance test files can be placed in a custom named folder in the root project directory\n",
    "* Performance test files extensions is .py"
   ]
  },
  {
   "attachments": {},
   "cell_type": "markdown",
   "metadata": {},
   "source": [
    "* To install locust"
   ]
  },
  {
   "cell_type": "code",
   "execution_count": 28,
   "metadata": {},
   "outputs": [],
   "source": [
    "# pipenv install --dev locust"
   ]
  },
  {
   "attachments": {},
   "cell_type": "markdown",
   "metadata": {},
   "source": [
    "### 2.2. Writing Performance Tests"
   ]
  },
  {
   "cell_type": "code",
   "execution_count": 32,
   "metadata": {},
   "outputs": [],
   "source": [
    "# from locust import HttpUser, task, between\n",
    "# from random import randint\n",
    "\n",
    "\n",
    "# class CustomName(HttpUser):\n",
    "    # wait_time = between(3, 6)\n",
    "\n",
    "    # def on_start(self):\n",
    "        # required logic for when the performance is started\n",
    "        # place required values in self\n",
    "\n",
    "    # @task(weight)\n",
    "    # def custom_name_for_getting_list(self):\n",
    "        # self.client.get(\"/url_path/\", name=\"custom_name_for_grouping\")\n",
    "    \n",
    "    # @task(weight)\n",
    "    # def custom_name_for_getting_detail(self):\n",
    "        # object_id = randint(low, high)\n",
    "        # self.client.get(f\"/url_path/{object_id}/\", name=\"custom_name_for_grouping\")\n",
    "\n",
    "    # @task(weight)\n",
    "    # def custom_name_for_post(self):\n",
    "        # object_id = randint(low, high)\n",
    "        # self.client.post(\n",
    "            # f\"/url_path/{object_id}/nested/\",\n",
    "            # name=\"custom_name_for_grouping\",\n",
    "            # json={\"required_attributes\": value, },\n",
    "        # )"
   ]
  },
  {
   "attachments": {},
   "cell_type": "markdown",
   "metadata": {},
   "source": [
    "### 1.3. Running Performance Tests"
   ]
  },
  {
   "cell_type": "code",
   "execution_count": 33,
   "metadata": {},
   "outputs": [],
   "source": [
    "# locust -f path_to_the_performance_file.py"
   ]
  },
  {
   "attachments": {},
   "cell_type": "markdown",
   "metadata": {},
   "source": [
    "**Stress Testing:** Using high values to test the performance of the system until it reaches the breaking point"
   ]
  },
  {
   "attachments": {},
   "cell_type": "markdown",
   "metadata": {},
   "source": [
    "# 3. Performance Optimization Techniques"
   ]
  },
  {
   "attachments": {},
   "cell_type": "markdown",
   "metadata": {},
   "source": [
    "### 3.1. Overview"
   ]
  },
  {
   "attachments": {},
   "cell_type": "markdown",
   "metadata": {},
   "source": [
    "1. Optimizing the Python code\n",
    "2. Re-writing the query using SQL\n",
    "3. Redesign or modify the database\n",
    "4. Using caching\n",
    "5. Upgrade the hardware"
   ]
  },
  {
   "attachments": {},
   "cell_type": "markdown",
   "metadata": {},
   "source": [
    "### 3.2. Optimizing the Python Code"
   ]
  },
  {
   "attachments": {},
   "cell_type": "markdown",
   "metadata": {},
   "source": [
    "* Preload related objects\n",
    "    1. ModelName.objects.select_related(\"...\")\n",
    "    2. ModelName.objects.prefetch_related(\"...\")"
   ]
  },
  {
   "attachments": {},
   "cell_type": "markdown",
   "metadata": {},
   "source": [
    "* Load only what is needed\n",
    "    1. ModelName.objects.only(\"column_name\")\n",
    "    2. ModelName.objects.defer(\"column_name\")"
   ]
  },
  {
   "attachments": {},
   "cell_type": "markdown",
   "metadata": {},
   "source": [
    "* Use values\n",
    "    1. ModelName.objects.values()\n",
    "    2. ModelName.objects.values_list()"
   ]
  },
  {
   "attachments": {},
   "cell_type": "markdown",
   "metadata": {},
   "source": [
    "* Count properly\n",
    "    1. Correct: ModelName.objects.count()\n",
    "    2. Incorrect: len(ModelName.object.all())"
   ]
  },
  {
   "attachments": {},
   "cell_type": "markdown",
   "metadata": {},
   "source": [
    "* Bulk create or update\n",
    "    1. ModelName.objects.bulk_create([])\n",
    "    2. ModelName.objects.bulk_update([])"
   ]
  },
  {
   "attachments": {},
   "cell_type": "markdown",
   "metadata": {},
   "source": [
    "### 3.3. Caching"
   ]
  },
  {
   "attachments": {},
   "cell_type": "markdown",
   "metadata": {},
   "source": [
    "#### 3.3.1. Overview"
   ]
  },
  {
   "attachments": {},
   "cell_type": "markdown",
   "metadata": {},
   "source": [
    "* Caching is used to store request data in the memory\n",
    "* Instead of requesting the same data from the database or an API each time, get them from the memory"
   ]
  },
  {
   "attachments": {},
   "cell_type": "markdown",
   "metadata": {},
   "source": [
    "* Caching should be done after testing the performance"
   ]
  },
  {
   "attachments": {},
   "cell_type": "markdown",
   "metadata": {},
   "source": [
    "**NOTES**\n",
    "* Cached data will not be updated when database data is updated\n",
    "* If data in the database or API changes constantly, no point in using caching\n",
    "* Caching requires hardware resources\n",
    "* Caching can reduce the performance of the system"
   ]
  },
  {
   "attachments": {},
   "cell_type": "markdown",
   "metadata": {},
   "source": [
    "* Caching Backends Options:\n",
    "    1. Local Memory (default)\n",
    "    2. Memcached\n",
    "    3. Redis\n",
    "        * Using redis as a message broker and a caching server\n",
    "    4. Database\n",
    "        * Storing frequently used queries in a table\n",
    "    5. File System"
   ]
  },
  {
   "attachments": {},
   "cell_type": "markdown",
   "metadata": {},
   "source": [
    "#### 3.3.2. Redis for Caching"
   ]
  },
  {
   "attachments": {},
   "cell_type": "markdown",
   "metadata": {},
   "source": [
    "* After installing and configuring redis and django-redis, place bellow code in settings.py"
   ]
  },
  {
   "cell_type": "code",
   "execution_count": 5,
   "metadata": {},
   "outputs": [],
   "source": [
    "# CACHES = {\n",
    "    # \"default\": {\n",
    "        # \"BACKEND\": \"django_redis.cache.RedisCache\",\n",
    "        # \"LOCATION\": \"redis://HOST:PORT/DATABASE_NAME\",\n",
    "        # \"TIMEOUT\": 5,\n",
    "        # \"OPTIONS\": {\n",
    "            # \"CLIENT_CLASS\": \"django_redis.client.DefaultClient\",\n",
    "        # }\n",
    "    # }\n",
    "# }"
   ]
  },
  {
   "attachments": {},
   "cell_type": "markdown",
   "metadata": {},
   "source": [
    "# 4. Background Tasks"
   ]
  },
  {
   "attachments": {},
   "cell_type": "markdown",
   "metadata": {},
   "source": [
    "### 4.1. Overview"
   ]
  },
  {
   "attachments": {},
   "cell_type": "markdown",
   "metadata": {},
   "source": [
    "* If a processes takes a long time to finish, client requests will be on stand-by until the request handler becomes free\n",
    "* To prevent putting the client requests on stand-by, these processes can be processed in the back ground"
   ]
  },
  {
   "attachments": {},
   "cell_type": "markdown",
   "metadata": {},
   "source": [
    "### 4.2. Celery"
   ]
  },
  {
   "attachments": {},
   "cell_type": "markdown",
   "metadata": {},
   "source": [
    "* Celery can be used to manage several workers to process a task or multiple tasks in the background\n",
    "* The tasks line up in a queue and the workers pick up a process and execute it\n",
    "* If a worker takes too long or fails, the main application process will not be affected\n",
    "* Celery Beat can be used to schedule tasks to run periodically or on certain time and date"
   ]
  },
  {
   "attachments": {},
   "cell_type": "markdown",
   "metadata": {},
   "source": [
    "* **Message Queue**\n",
    "    * The queue between the application and the celery workers"
   ]
  },
  {
   "attachments": {},
   "cell_type": "markdown",
   "metadata": {},
   "source": [
    "* **Message Broker**\n",
    "    * A software that manages the message queue\n",
    "    * Reliably delivers messages between apps"
   ]
  },
  {
   "attachments": {},
   "cell_type": "markdown",
   "metadata": {},
   "source": [
    "* Installing and configuring celery"
   ]
  },
  {
   "cell_type": "code",
   "execution_count": null,
   "metadata": {},
   "outputs": [],
   "source": [
    "# pipenv install celery"
   ]
  },
  {
   "attachments": {},
   "cell_type": "markdown",
   "metadata": {},
   "source": [
    "* In the celery.py"
   ]
  },
  {
   "cell_type": "code",
   "execution_count": null,
   "metadata": {},
   "outputs": [],
   "source": [
    "# from os import environ\n",
    "# from celery import Celery\n",
    "\n",
    "# environ.setdefault(\"DJANGO_SETTINGS_MODULE\", \"config.settings.<settings_file_name>\")\n",
    "# celery = Celery(\"custom_name\")\n",
    "# celery.config_from_object(\"django.conf:settings\", namespace=\"CELERY\")\n",
    "# celery.autodiscover_tasks()"
   ]
  },
  {
   "attachments": {},
   "cell_type": "markdown",
   "metadata": {},
   "source": [
    "* In the \\_\\_init\\_\\_.py of the settings package"
   ]
  },
  {
   "cell_type": "code",
   "execution_count": null,
   "metadata": {},
   "outputs": [],
   "source": [
    "# from .celery import celery"
   ]
  },
  {
   "attachments": {},
   "cell_type": "markdown",
   "metadata": {},
   "source": [
    "#### 4.2.1. Celery Worker"
   ]
  },
  {
   "attachments": {},
   "cell_type": "markdown",
   "metadata": {},
   "source": [
    "* In the settings.py"
   ]
  },
  {
   "cell_type": "code",
   "execution_count": null,
   "metadata": {},
   "outputs": [],
   "source": [
    "CELERY_BROKER_URL = \"redis://HOST:PORT/DATABASE_NAME\""
   ]
  },
  {
   "attachments": {},
   "cell_type": "markdown",
   "metadata": {},
   "source": [
    "* In the terminal window"
   ]
  },
  {
   "cell_type": "code",
   "execution_count": null,
   "metadata": {},
   "outputs": [],
   "source": [
    "# celery -A custom_name worker --loglevel=info"
   ]
  },
  {
   "cell_type": "markdown",
   "metadata": {},
   "source": [
    "**NOTE** If task.py is updated, celery must be restarted"
   ]
  },
  {
   "attachments": {},
   "cell_type": "markdown",
   "metadata": {},
   "source": [
    "* In the tasks.py file for each app:\n",
    "    * All the long running tasks can be written\n",
    "    * The tasks can be called in the views using celery decorators"
   ]
  },
  {
   "attachments": {},
   "cell_type": "markdown",
   "metadata": {},
   "source": [
    "#### 4.2.2. Celery Beat"
   ]
  },
  {
   "attachments": {},
   "cell_type": "markdown",
   "metadata": {},
   "source": [
    "* To schedule tasks using Celery Beat, in the settings.py"
   ]
  },
  {
   "cell_type": "code",
   "execution_count": null,
   "metadata": {},
   "outputs": [],
   "source": [
    "# from celery.schedules import crontab\n",
    "\n",
    "\n",
    "# CELERY_BEAT_SCHEDULE = {\n",
    "    # \"task_function_name\": {\n",
    "        # \"task\": \"full_path_to_the_tasks.tasks.task_function_name\",\n",
    "        # \"schedule\": crontab(day_of_week=, hour=, minute=),\n",
    "        # args: [parameters_of_the_function],\n",
    "        # kwargs: {},\n",
    "    # }\n",
    "# }"
   ]
  },
  {
   "attachments": {},
   "cell_type": "markdown",
   "metadata": {},
   "source": [
    "* Running Celery Beat in the terminal window"
   ]
  },
  {
   "cell_type": "code",
   "execution_count": null,
   "metadata": {},
   "outputs": [],
   "source": [
    "# celery -A custom_name beat"
   ]
  },
  {
   "attachments": {},
   "cell_type": "markdown",
   "metadata": {},
   "source": [
    "#### 4.2.3. Monitoring Celery Tasks"
   ]
  },
  {
   "attachments": {},
   "cell_type": "markdown",
   "metadata": {},
   "source": [
    "* Flower can be used to monitor celery tasks\n",
    "* Installing Flower"
   ]
  },
  {
   "cell_type": "code",
   "execution_count": null,
   "metadata": {},
   "outputs": [],
   "source": [
    "# pipenv install flower"
   ]
  },
  {
   "attachments": {},
   "cell_type": "markdown",
   "metadata": {},
   "source": [
    "* Running flower"
   ]
  },
  {
   "cell_type": "code",
   "execution_count": null,
   "metadata": {},
   "outputs": [],
   "source": [
    "# celery -A custom_name flower"
   ]
  },
  {
   "attachments": {},
   "cell_type": "markdown",
   "metadata": {},
   "source": [
    "* Accessing flower on localhost:5555"
   ]
  },
  {
   "attachments": {},
   "cell_type": "markdown",
   "metadata": {},
   "source": [
    "### 4.3. Redis for Message Broker"
   ]
  },
  {
   "attachments": {},
   "cell_type": "markdown",
   "metadata": {},
   "source": [
    "* Redis is an in-memory data structure store, used as a distributed, in-memory key–value database, cache and message broker\n",
    "* Redis supports different kinds of abstract data structures, such as:\n",
    "    * strings, lists, maps, sets, sorted sets, HyperLogLogs, bitmaps, streams, and spatial indices"
   ]
  },
  {
   "attachments": {},
   "cell_type": "markdown",
   "metadata": {},
   "source": [
    "* Installing and configuring redis"
   ]
  },
  {
   "cell_type": "code",
   "execution_count": null,
   "metadata": {},
   "outputs": [],
   "source": [
    "# sudo apt-get update\n",
    "# sudo apt-get install redis"
   ]
  },
  {
   "cell_type": "code",
   "execution_count": null,
   "metadata": {},
   "outputs": [],
   "source": [
    "# sudo nano /etc/redis/redis.config\n",
    "\n",
    "# REPLACE supervised no WITH supervised systemd\n",
    "\n",
    "# sudo systemctl restart redis.service\n",
    "# sudo systemctl restart redis"
   ]
  },
  {
   "cell_type": "code",
   "execution_count": null,
   "metadata": {},
   "outputs": [],
   "source": [
    "# sudo systemctl status redis"
   ]
  },
  {
   "cell_type": "code",
   "execution_count": 2,
   "metadata": {},
   "outputs": [],
   "source": [
    "# pipenv install redis\n",
    "# pipenv install django-redis"
   ]
  },
  {
   "attachments": {},
   "cell_type": "markdown",
   "metadata": {},
   "source": [
    "**NOTE** If Celery is not available when one or more tasks are called, Redis will place those tasks in the queue until Celery becomes available"
   ]
  },
  {
   "attachments": {},
   "cell_type": "markdown",
   "metadata": {},
   "source": [
    "* To start redis"
   ]
  },
  {
   "cell_type": "code",
   "execution_count": 1,
   "metadata": {},
   "outputs": [],
   "source": [
    "# redis-cli"
   ]
  }
 ],
 "metadata": {
  "kernelspec": {
   "display_name": "onlineStoreProject-J7_hTXa7",
   "language": "python",
   "name": "python3"
  },
  "language_info": {
   "codemirror_mode": {
    "name": "ipython",
    "version": 3
   },
   "file_extension": ".py",
   "mimetype": "text/x-python",
   "name": "python",
   "nbconvert_exporter": "python",
   "pygments_lexer": "ipython3",
   "version": "3.10.6 (main, Nov 14 2022, 16:10:14) [GCC 11.3.0]"
  },
  "orig_nbformat": 4,
  "vscode": {
   "interpreter": {
    "hash": "0b9db7feabf8187ce10d06807770cbd27d6509ac4852a4a110f21595640d9d55"
   }
  }
 },
 "nbformat": 4,
 "nbformat_minor": 2
}
