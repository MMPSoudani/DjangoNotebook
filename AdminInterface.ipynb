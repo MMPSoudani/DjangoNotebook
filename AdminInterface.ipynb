{
 "cells": [
  {
   "attachments": {},
   "cell_type": "markdown",
   "metadata": {},
   "source": [
    "# **9.** Admin Interface"
   ]
  },
  {
   "attachments": {},
   "cell_type": "markdown",
   "metadata": {},
   "source": [
    "* Change the header and index title of the admin page"
   ]
  },
  {
   "cell_type": "code",
   "execution_count": 91,
   "metadata": {},
   "outputs": [],
   "source": [
    "# from django.contrib import admin\n",
    "\n",
    "\n",
    "# admin.site.site_header(\"\")\n",
    "# admin.site.index_title(\"\")"
   ]
  },
  {
   "attachments": {},
   "cell_type": "markdown",
   "metadata": {},
   "source": [
    "* Registering the models in the admin page (Short Version)\n",
    "    * In the admin.py module of every app"
   ]
  },
  {
   "cell_type": "code",
   "execution_count": 92,
   "metadata": {},
   "outputs": [],
   "source": [
    "# from django.contrib import admin\n",
    "# from .models import ModelName\n",
    "\n",
    "\n",
    "# admin.site.register(ModelName)"
   ]
  },
  {
   "attachments": {},
   "cell_type": "markdown",
   "metadata": {},
   "source": [
    "* Registering the models in the admin page (Long Version)"
   ]
  },
  {
   "cell_type": "code",
   "execution_count": 93,
   "metadata": {},
   "outputs": [],
   "source": [
    "# from django.contrib import admin\n",
    "# from .models import ModelName\n",
    "\n",
    "\n",
    "# @admin.register(ModelName)\n",
    "# class ModelNameAdmin(admin.ModelAdmin):\n",
    "#     pass"
   ]
  },
  {
   "attachments": {},
   "cell_type": "markdown",
   "metadata": {},
   "source": [
    "* Customizing the admin page"
   ]
  },
  {
   "cell_type": "code",
   "execution_count": 94,
   "metadata": {},
   "outputs": [],
   "source": [
    "# from django.contrib import admin\n",
    "# from .models import ModelName\n",
    "\n",
    "\n",
    "# @admin.register(ModelName)\n",
    "# class ModelNameAdmin(admin.ModelAdmin):\n",
    "    # list_display = [\"field_name\", ...]\n",
    "    # list_editable = [\"field_name\", ...]\n",
    "    # list_per_page = #\n",
    "    # ordering = [\"field_name\", ...]"
   ]
  },
  {
   "attachments": {},
   "cell_type": "markdown",
   "metadata": {},
   "source": [
    "* Adding computed columns"
   ]
  },
  {
   "cell_type": "code",
   "execution_count": 95,
   "metadata": {},
   "outputs": [],
   "source": [
    "# from django.contrib import admin\n",
    "# from .models import ModelName\n",
    "\n",
    "\n",
    "# @admin.register(ModelName):\n",
    "# class ModelNameAdmin(admin.ModelAdmin):\n",
    "    # list_display = [\"custom_column_name\"]\n",
    "\n",
    "    # @admin.display(ordering=\"field_name\")\n",
    "    # def custom_column_name(self, model_name):\n",
    "        # model_name.access_model_object_attribute_and_functions"
   ]
  },
  {
   "attachments": {},
   "cell_type": "markdown",
   "metadata": {},
   "source": [
    "* Selecting related objects"
   ]
  },
  {
   "cell_type": "code",
   "execution_count": 96,
   "metadata": {},
   "outputs": [],
   "source": [
    "# from django.contrib import admin\n",
    "# from .models import ModelName\n",
    "\n",
    "\n",
    "# @admin.register(ModelName):\n",
    "# class ModelNameAdmin(admin.ModelAdmin):\n",
    "    # list_display = [\"custom_related_field_name\"]\n",
    "    # list_select_related = [\"related_field_name\"]\n",
    "\n",
    "    # def custom_related_field_name(self, model_name):\n",
    "        # return model_name.related_field_name.field_name"
   ]
  },
  {
   "attachments": {},
   "cell_type": "markdown",
   "metadata": {},
   "source": [
    "* Overriding base query set"
   ]
  },
  {
   "cell_type": "code",
   "execution_count": 97,
   "metadata": {},
   "outputs": [],
   "source": [
    "# from django.contrib import admin\n",
    "# from django.db.models import Count\n",
    "# from .models import ModelName\n",
    "\n",
    "\n",
    "# @admin.register(ModelName)\n",
    "# class ModelNameAdmin(admin.ModelAdmin):\n",
    "    # list_display = [\"field_name\", \"custom_field_name\"]\n",
    "\n",
    "    # @admin.display(ordering=\"custom_field_name\")\n",
    "    # def custom_field_name(self, model_name):\n",
    "        # return model_name.custom_field_name\n",
    "    \n",
    "    # def get_queryset(self, request):\n",
    "        # return super().get_queryset(request).annotate(custom_field_name=Count(\"some_field_name\"))"
   ]
  },
  {
   "attachments": {},
   "cell_type": "markdown",
   "metadata": {},
   "source": [
    "* Providing a link to another page"
   ]
  },
  {
   "cell_type": "code",
   "execution_count": 98,
   "metadata": {},
   "outputs": [],
   "source": [
    "# from django.contrib import admin\n",
    "# from django.urls import reverse\n",
    "# from django.utils.html import format_html, urlencode\n",
    "# from .models import ModelName\n",
    "\n",
    "\n",
    "# @admin.register(ModelName)\n",
    "# class ModelNameAdmin(admin.ModelAdmin):\n",
    "    # list_display = [\"custom_field_name\", \"another_custom_field_name\"]\n",
    "\n",
    "    # def custom_field_name(self, model_name):\n",
    "        # url = reverse(\"admin:appName_modelName_pageName\")\n",
    "        # return format_html(\"<a href={}>{}</a>\", url, model_name.field_name)\n",
    "    \n",
    "    # def another_custom_field_name(self, model_name):\n",
    "        # url = (\n",
    "            # reverse(\"admin:appName_modelName_pageName\")\n",
    "            # + \"?\"\n",
    "            # + urlencode({\"related_field_name__field_name\": str(model_name.field_name)})\n",
    "        # )\n",
    "        # return format_html(\"<a href={}>{}</a>\" url)"
   ]
  },
  {
   "attachments": {},
   "cell_type": "markdown",
   "metadata": {},
   "source": [
    "* Adding search capability"
   ]
  },
  {
   "cell_type": "code",
   "execution_count": 99,
   "metadata": {},
   "outputs": [],
   "source": [
    "# from django.contrib import admin\n",
    "# from .models import ModelName\n",
    "\n",
    "\n",
    "# @admin.register(ModelName)\n",
    "# class ModelNameAdmin(admin.ModelAdmin):\n",
    "    # list_display = [\"field_one\", \"field_two\"]\n",
    "    # search_fields = [\"field_one__istartswith\", \"field_two__icontains\"]"
   ]
  },
  {
   "attachments": {},
   "cell_type": "markdown",
   "metadata": {},
   "source": [
    "* Adding filter capability"
   ]
  },
  {
   "cell_type": "code",
   "execution_count": 100,
   "metadata": {},
   "outputs": [],
   "source": [
    "# from django.contrib import admin\n",
    "# from .models import ModelName\n",
    "\n",
    "\n",
    "# class FieldNameFilter(admin.SimpleListFilter):\n",
    "    # title = \"custom_title\"\n",
    "    # parameter_name = \"custom_parameter_name\"\n",
    "\n",
    "    # def lookups(self, request, model_admin):\n",
    "        # return [(\"symbol_one\", \"to_display\"), (\"symbol_two\", \"to_display\"), ...]\n",
    "\n",
    "    # def queryset(self, request, queryset):\n",
    "        # if self.value() == \"symbol_one\":\n",
    "            # return queryset.filter()\n",
    "        # elif self.value() == \"symbol_two\":\n",
    "            # return queryset.filter()\n",
    "\n",
    "\n",
    "# @admin.register(ModelName)\n",
    "# class ModelNameAdmin(admin.ModelName):\n",
    "    # list_display = [\"field_one\", \"field_two\"]\n",
    "    # list_filter = [\"field_one\", \"field_two\", FieldNameFilter]"
   ]
  },
  {
   "attachments": {},
   "cell_type": "markdown",
   "metadata": {},
   "source": [
    "* Creating custom actions"
   ]
  },
  {
   "cell_type": "code",
   "execution_count": 101,
   "metadata": {},
   "outputs": [],
   "source": [
    "# from django.contrib import admin, messages\n",
    "# from .models import ModelName\n",
    "\n",
    "\n",
    "# @admin.register(ModelName)\n",
    "# class ModelNameAdmin(admin.ModelAdmin):\n",
    "    # actions = [\"action_name\"]\n",
    "\n",
    "    # @admin.action(description=\"description text to display\")\n",
    "    # def action_name(self, request, queryset):\n",
    "        # result = queryset\n",
    "        # admin.message_user(request, f\"{result} custom message\", messages.SUCCESS)"
   ]
  },
  {
   "attachments": {},
   "cell_type": "markdown",
   "metadata": {},
   "source": [
    "* Modifying the forms"
   ]
  },
  {
   "cell_type": "code",
   "execution_count": 102,
   "metadata": {},
   "outputs": [],
   "source": [
    "# from django.contrib import admin\n",
    "# from .models import ModelName\n",
    "\n",
    "\n",
    "# @admin.register(ModelName)\n",
    "# class ModelNameAdmin(admin.ModelAdmin):\n",
    "    # fields = [\"field_one\", \"field_two\"]\n",
    "    # exclude = [\"field_three\"]\n",
    "    # readonly_fields = [\"field_four\"]\n",
    "    # prepopulated_fields = {\"field_five\": [\"field_one\", \"field_two\"]}\n",
    "    # autocomplete_fields = [\"field_six\"]"
   ]
  },
  {
   "attachments": {},
   "cell_type": "markdown",
   "metadata": {},
   "source": [
    "* Adding and editing child in the parent page using inline\n",
    "    * TabularInline -> display the child's form in rows\n",
    "    * StackedInline -> display the child's form in columns"
   ]
  },
  {
   "cell_type": "code",
   "execution_count": 103,
   "metadata": {},
   "outputs": [],
   "source": [
    "# from django.contrib import admin\n",
    "# from .models import ModelName, AnotherModelName\n",
    "\n",
    "\n",
    "# class AnotherModelNameInline(admin.TabularInline):\n",
    "    # model = AnotherModelName\n",
    "    # autocomplete_fields = [\"field_name\"]\n",
    "    # min_num = 1\n",
    "    # max_num = 10\n",
    "    # extra = 3\n",
    "\n",
    "\n",
    "# @admin.register(ModelName):\n",
    "    # inlines = [AnotherModelNameInline]"
   ]
  },
  {
   "attachments": {},
   "cell_type": "markdown",
   "metadata": {},
   "source": [
    "* Adding and editing generic relationship\n",
    "* To prevent coupling and dependencies\n",
    "    1. create an app\n",
    "    2. import the generic model from the generic app\n",
    "    3. import the admin model\n",
    "    4. use inline to connect them"
   ]
  },
  {
   "cell_type": "code",
   "execution_count": 1,
   "metadata": {},
   "outputs": [],
   "source": [
    "# from django.contrib import admin\n",
    "# from django.contrib.contenttypes.admin import GenericTabularInline\n",
    "# from generic_app.models import GenericModelName\n",
    "# from app.admin import ModelNameAdmin\n",
    "# from app.models import ModelName\n",
    "\n",
    "\n",
    "# class GenericModelNameInline(GenericTabularInline):\n",
    "    # model = GenericModelName\n",
    "\n",
    "\n",
    "# class ModelNameAdminExtended(ModelNameAdmin):\n",
    "    # inlines = [GenericModelNameInline]\n",
    "\n",
    "\n",
    "# admin.site.unregister(ModelName)\n",
    "# admin.site.register(ModelName, ModelNameAdminExtended)"
   ]
  },
  {
   "attachments": {},
   "cell_type": "markdown",
   "metadata": {},
   "source": [
    "* Adding images"
   ]
  },
  {
   "cell_type": "code",
   "execution_count": 3,
   "metadata": {},
   "outputs": [],
   "source": [
    "# from django.contrib import admin\n",
    "# from django.utils.html import format_html\n",
    "# from .models import ModelName\n",
    "\n",
    "\n",
    "# @admin.register(ModelName)\n",
    "# class ModelNameAdmin(admin.ModelAdmin):\n",
    "    # readonly_fields = [\"thumbnail\"]\n",
    "\n",
    "    # def thumbnail(self, instance)\n",
    "        # return format_html(f\"<img src={instance.image.url} class=\"thumbnail\" />\")\n",
    "    \n",
    "    # class Media:\n",
    "        # css = {\n",
    "            # \"all\": [\"path/styles.css\"],\n",
    "        # }"
   ]
  },
  {
   "cell_type": "code",
   "execution_count": null,
   "metadata": {},
   "outputs": [],
   "source": []
  }
 ],
 "metadata": {
  "kernelspec": {
   "display_name": "onlineStoreProject-J7_hTXa7",
   "language": "python",
   "name": "python3"
  },
  "language_info": {
   "codemirror_mode": {
    "name": "ipython",
    "version": 3
   },
   "file_extension": ".py",
   "mimetype": "text/x-python",
   "name": "python",
   "nbconvert_exporter": "python",
   "pygments_lexer": "ipython3",
   "version": "3.10.6"
  },
  "orig_nbformat": 4,
  "vscode": {
   "interpreter": {
    "hash": "0b9db7feabf8187ce10d06807770cbd27d6509ac4852a4a110f21595640d9d55"
   }
  }
 },
 "nbformat": 4,
 "nbformat_minor": 2
}
