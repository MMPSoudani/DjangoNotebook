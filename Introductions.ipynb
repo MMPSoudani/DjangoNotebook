{
 "cells": [
  {
   "attachments": {},
   "cell_type": "markdown",
   "metadata": {},
   "source": [
    "# Introductions"
   ]
  },
  {
   "attachments": {},
   "cell_type": "markdown",
   "metadata": {},
   "source": [
    "* Free and open-source Python framework for building web apps and APIs\n",
    "* Batteries included framework -> Comes with lots of ready to use features"
   ]
  },
  {
   "attachments": {},
   "cell_type": "markdown",
   "metadata": {},
   "source": [
    "# How the web works"
   ]
  },
  {
   "attachments": {},
   "cell_type": "markdown",
   "metadata": {},
   "source": [
    "1. The client enters a URL (Uniform Resource Locator) in the web browser\n",
    "2. The browser sends an HTTP(S) request to the web server\n",
    "    * HyperText Transfer Protocol (Secure)\n",
    "    * HTTP defines how the front end and the back end communicate\n",
    "3. The web server process the HTTP(S) request\n",
    "4. The web server prepares the HTTP(S) response\n",
    "5. The web server send the HTTP(S) response to the client\n",
    "6. The web browser display the HTTP(S) response to the client"
   ]
  },
  {
   "attachments": {},
   "cell_type": "markdown",
   "metadata": {},
   "source": [
    "Two methods of sending a response from the server to the client:\n",
    "\n",
    "1. Generate an HTML page in the server and send it to the client\n",
    "2. Generate the data in the server and have the client generate the HTML page\n",
    "    * Best Practice\n",
    "    * Server becomes the gateway to the data\n",
    "    * Can server more clients\n",
    "    * Serve the data through APIs"
   ]
  },
  {
   "attachments": {},
   "cell_type": "markdown",
   "metadata": {},
   "source": [
    "**HTML:** HyperText Markup Language is a syntax fro writing a web page<br>\n",
    "**API:** Application Programming Interface is an endpoint to the server witch provides data to the client"
   ]
  },
  {
   "cell_type": "markdown",
   "metadata": {},
   "source": [
    "# Software Development"
   ]
  },
  {
   "cell_type": "markdown",
   "metadata": {},
   "source": [
    "1. Writing a description of the project\n",
    "2. Write down the inputs, the processes and the outputs of the system\n",
    "3. Listing the different capabilities and functionalities of the project\n",
    "4. Writing the software requirements specifications\n",
    "5. Writing the functional requirements specifications\n",
    "6. Defining the entities of the project\n",
    "7. Defining the relationships between the entities\n",
    "8. Drawing the database conceptual model\n",
    "9. Drawing the database logical model\n",
    "10. Normalizing the entity-relationship model\n",
    "11. Creating an MVP for each capability and functionality based on the defined user stories\n",
    "12. Expanding and developing the MVPs\n",
    "13. Running performance tests\n",
    "14. Applying optimizations based on the performance result"
   ]
  }
 ],
 "metadata": {
  "kernelspec": {
   "display_name": "onlineStoreProject-J7_hTXa7",
   "language": "python",
   "name": "python3"
  },
  "language_info": {
   "codemirror_mode": {
    "name": "ipython",
    "version": 3
   },
   "file_extension": ".py",
   "mimetype": "text/x-python",
   "name": "python",
   "nbconvert_exporter": "python",
   "pygments_lexer": "ipython3",
   "version": "3.10.6"
  },
  "orig_nbformat": 4,
  "vscode": {
   "interpreter": {
    "hash": "0b9db7feabf8187ce10d06807770cbd27d6509ac4852a4a110f21595640d9d55"
   }
  }
 },
 "nbformat": 4,
 "nbformat_minor": 2
}
