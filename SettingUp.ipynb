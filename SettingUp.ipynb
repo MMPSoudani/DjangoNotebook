{
 "cells": [
  {
   "attachments": {},
   "cell_type": "markdown",
   "metadata": {},
   "source": [
    "# Virtual Environment"
   ]
  },
  {
   "cell_type": "markdown",
   "metadata": {},
   "source": [
    "* Installing pipenv on the system"
   ]
  },
  {
   "cell_type": "code",
   "execution_count": null,
   "metadata": {},
   "outputs": [],
   "source": [
    "# pip install pipenv"
   ]
  },
  {
   "attachments": {},
   "cell_type": "markdown",
   "metadata": {},
   "source": [
    "* Installing a virtual env and django"
   ]
  },
  {
   "cell_type": "code",
   "execution_count": null,
   "metadata": {},
   "outputs": [],
   "source": [
    "# pipenv install django\n",
    "# pipenv install django~=4.2\n",
    "# pipenv install django==4.2.13"
   ]
  },
  {
   "attachments": {},
   "cell_type": "markdown",
   "metadata": {},
   "source": [
    "* Activating the virtual environment"
   ]
  },
  {
   "cell_type": "code",
   "execution_count": null,
   "metadata": {},
   "outputs": [],
   "source": [
    "# pipenv shell"
   ]
  },
  {
   "attachments": {},
   "cell_type": "markdown",
   "metadata": {},
   "source": [
    "* Remove a virtual environment"
   ]
  },
  {
   "cell_type": "code",
   "execution_count": null,
   "metadata": {},
   "outputs": [],
   "source": [
    "# pipenv --rm"
   ]
  },
  {
   "attachments": {},
   "cell_type": "markdown",
   "metadata": {},
   "source": [
    "* Get the installed packages in the VE"
   ]
  },
  {
   "cell_type": "code",
   "execution_count": null,
   "metadata": {},
   "outputs": [],
   "source": [
    "# pipenv requirements > requirements.txt"
   ]
  },
  {
   "attachments": {},
   "cell_type": "markdown",
   "metadata": {},
   "source": [
    "# Django Project"
   ]
  },
  {
   "attachments": {},
   "cell_type": "markdown",
   "metadata": {},
   "source": [
    "* Starting a django project"
   ]
  },
  {
   "cell_type": "code",
   "execution_count": null,
   "metadata": {},
   "outputs": [],
   "source": [
    "# django-admin startproject {project-name}\n",
    "# django-admin startproject {project-name} ."
   ]
  },
  {
   "attachments": {},
   "cell_type": "markdown",
   "metadata": {},
   "source": [
    "**NOTE:** After creating a django project, within the project must use **python manage.py** instead of **django-admin** to run commands\n",
    "* The **manage.py** takes the project settings into account"
   ]
  },
  {
   "attachments": {},
   "cell_type": "markdown",
   "metadata": {},
   "source": [
    "* Run a local server for django on the given port number\n",
    "* If port number is not given, default port will be 8000"
   ]
  },
  {
   "cell_type": "code",
   "execution_count": null,
   "metadata": {},
   "outputs": [],
   "source": [
    "# python manage.py runserver\n",
    "# python manage.py runserver {port-number}"
   ]
  },
  {
   "attachments": {},
   "cell_type": "markdown",
   "metadata": {},
   "source": [
    "* Can access the django server using the URL: http://127.0.01:{port-number}"
   ]
  },
  {
   "cell_type": "markdown",
   "metadata": {},
   "source": [
    "* For multi-staged settings file structure, either:\n",
    "    * use *--settings=config.settings.settings_file_name* with python manage.py commands\n",
    "    * modify manage.py to point to the desired settings file"
   ]
  },
  {
   "attachments": {},
   "cell_type": "markdown",
   "metadata": {},
   "source": [
    "# Django Apps"
   ]
  },
  {
   "attachments": {},
   "cell_type": "markdown",
   "metadata": {},
   "source": [
    "* Each django project is a collection of apps\n",
    "* Each app can have its own data model and provides certain and different functionalities"
   ]
  },
  {
   "attachments": {},
   "cell_type": "markdown",
   "metadata": {},
   "source": [
    "### Organizing Apps"
   ]
  },
  {
   "attachments": {},
   "cell_type": "markdown",
   "metadata": {},
   "source": [
    "* There are three strategies for organizing apps in django:\n",
    "    1. **Monolithic:** Create 1 app and place all the entities in it\n",
    "    2. **Islands:** Create an app for each entity\n",
    "    3. **Dependency:** Organize the entities in apps based on their dependency, so that dependent entities are placed in one app"
   ]
  },
  {
   "attachments": {},
   "cell_type": "markdown",
   "metadata": {},
   "source": [
    "In a **Monolithic** and **island** design, as the software and its functionalities grows, It can become harder to:\n",
    "* understand\n",
    "* maintain and debug the code\n",
    "* reuse its functionalities because of their dependencies\n",
    "* develop further"
   ]
  },
  {
   "attachments": {},
   "cell_type": "markdown",
   "metadata": {},
   "source": [
    "**NOTE:** When designing and organizing apps, each app must do one thing and do that thing well"
   ]
  },
  {
   "attachments": {},
   "cell_type": "markdown",
   "metadata": {},
   "source": [
    "**BEST PRACTICE:** Each app must contains between 5 to 10 models"
   ]
  },
  {
   "attachments": {},
   "cell_type": "markdown",
   "metadata": {},
   "source": [
    "Each app must have the following properties:\n",
    "1. **Self Contained (High Focus):** The app provides a specific piece of functionality and contains everything it requires to provide it\n",
    "2. **Minimal Coupling:** The apps can be changed and modified independently without affecting other apps"
   ]
  },
  {
   "attachments": {},
   "cell_type": "markdown",
   "metadata": {},
   "source": [
    "### App Structure"
   ]
  },
  {
   "attachments": {},
   "cell_type": "markdown",
   "metadata": {},
   "source": [
    "* Best practice for app structure"
   ]
  },
  {
   "cell_type": "code",
   "execution_count": null,
   "metadata": {},
   "outputs": [],
   "source": [
    "# root_project_folder/\n",
    "# |---config/\n",
    "# |     |---settings/\n",
    "# |     |     |__init__.py\n",
    "# |     |     |---base.py\n",
    "# |     |     |---local.py\n",
    "# |     |     |---staging.py\n",
    "# |     |     |---test.py\n",
    "# |     |     |---production.py\n",
    "# |     |---envars/\n",
    "# |     |     |---secrets.json\n",
    "# |     |     |---utils.py\n",
    "# |     |---__init__.py\n",
    "# |     |---asgi.py\n",
    "# |     |---celery.py\n",
    "# |     |---urls.py\n",
    "# |     |---wsgi.py\n",
    "# |---docs/\n",
    "# |---project_apps_folder\n",
    "# |     |---app_one/\n",
    "# |     |     |---__init__.py\n",
    "# |     |     |---api/\n",
    "# |     |     |     |---filters.py\n",
    "# |     |     |     |---permissions.py\n",
    "# |     |     |     |---serializers.py\n",
    "# |     |     |     |---views.py\n",
    "# |     |     |     |---viewset.py\n",
    "# |     |     |---admin.py\n",
    "# |     |     |---apps.py\n",
    "# |     |     |---models.py\n",
    "# |     |     |---tasks.py\n",
    "# |     |     |---tests/\n",
    "# |     |     |     |---__init__.py\n",
    "# |     |     |     |---conftest.py\n",
    "# |     |     |     |---test_custom_name.py/\n",
    "# |     |     |---views.py\n",
    "# |     |     |---urls.py\n",
    "# |     |     |---static/\n",
    "# |     |     |     |---app_one/\n",
    "# |     |     |     |     |---styles.css\n",
    "# |     |---app_two/\n",
    "# |     |---media/\n",
    "# |     |---static/\n",
    "# |     |---templates/\n",
    "# |     |     |---base.html\n",
    "# |     |     |---header.html\n",
    "# |     |     |---footer.html\n",
    "# |     |     |---app_one/\n",
    "# |     |     |     |---body.html\n",
    "# |---.gitignore\n",
    "# |---README.md\n",
    "# |---manage.py\n",
    "# |---pytest.ini\n",
    "# |---requirements/\n",
    "# |     |---base.txt\n",
    "# |     |---local.txt\n",
    "# |     |---staging.txt\n",
    "# |     |---production.txt"
   ]
  },
  {
   "attachments": {},
   "cell_type": "markdown",
   "metadata": {},
   "source": [
    "* To use specific settings when using shell or running the server"
   ]
  },
  {
   "cell_type": "code",
   "execution_count": null,
   "metadata": {},
   "outputs": [],
   "source": [
    "# python manage.py shell --settings=config.settings.<settings_file_name>\n",
    "# python manage.py runserver:<port-number> --settings=config.settings.<settings_file_name>"
   ]
  },
  {
   "attachments": {},
   "cell_type": "markdown",
   "metadata": {},
   "source": [
    "**NOTE**\n",
    "* The DJANGO_SETTINGS_MODULE can be modified to point to the settings file\n",
    "* This way it will not be required to specify the settings file location when using python manage.py\n",
    "* For BASE_DIR variable, add .parent at the end"
   ]
  },
  {
   "attachments": {},
   "cell_type": "markdown",
   "metadata": {},
   "source": [
    "**BEST PRACTICE** For Environment Variables\n",
    "1. Create a JSON file\n",
    "    * Place the environment variables using the JSON format\n",
    "3. Add the JSON file name in the .gitignore file\n",
    "4. Create a get_settings.py file\n",
    "    * Open the JSON file, read the desired settings and return them in the get_settings.py file\n",
    "5. In each settings.py file, use the get_settings() to open the corresponding JSON file and read its variables"
   ]
  },
  {
   "attachments": {},
   "cell_type": "markdown",
   "metadata": {},
   "source": [
    "* To install from a specific requirement file"
   ]
  },
  {
   "cell_type": "code",
   "execution_count": null,
   "metadata": {},
   "outputs": [],
   "source": [
    "# pipenv install -r requirements/production.txt"
   ]
  },
  {
   "attachments": {},
   "cell_type": "markdown",
   "metadata": {},
   "source": [
    "### Creating and Installing Apps"
   ]
  },
  {
   "attachments": {},
   "cell_type": "markdown",
   "metadata": {},
   "source": [
    "* All apps must be stored in a variable called **INSTALLED_APPS** in the **settings.py** of the django project"
   ]
  },
  {
   "attachments": {},
   "cell_type": "markdown",
   "metadata": {},
   "source": [
    "* create an app withing the project"
   ]
  },
  {
   "cell_type": "code",
   "execution_count": null,
   "metadata": {},
   "outputs": [],
   "source": [
    "# python manage.py startapp <app_name>\n",
    "# python ../manage.py startapp <app_name>"
   ]
  },
  {
   "attachments": {},
   "cell_type": "markdown",
   "metadata": {},
   "source": [
    "**BEST PRACTICE** for registering an apps in a settings file"
   ]
  },
  {
   "cell_type": "code",
   "execution_count": null,
   "metadata": {},
   "outputs": [],
   "source": [
    "# from .base import *\n",
    "\n",
    "\n",
    "# DEFAULT_APPS = []\n",
    "\n",
    "# THIRD_PARTY_APPS = []\n",
    "\n",
    "# PROJECT_APPS = []\n",
    "\n",
    "# INSTALLED_APPS += DEFAULT_APPS\n",
    "# INSTALLED_APPS += THIRD_PARTY_APPS\n",
    "# INSTALLED_APPS += PROJECT_APPS"
   ]
  },
  {
   "attachments": {},
   "cell_type": "markdown",
   "metadata": {},
   "source": [
    "# Serving Media Files"
   ]
  },
  {
   "attachments": {},
   "cell_type": "markdown",
   "metadata": {},
   "source": [
    "* To use media files:\n",
    "    1. create a media folder\n",
    "    2. set MEDIA_URL and MEDIA_ROOT in the settings file\n",
    "    3. add a static url in the root urls file"
   ]
  },
  {
   "cell_type": "code",
   "execution_count": null,
   "metadata": {},
   "outputs": [],
   "source": [
    "# MEDIA_URL = \"/media/\"\n",
    "# MEDIA_ROOT = Path.joinpath(BASE_DIR.parent, \"media\")"
   ]
  },
  {
   "cell_type": "code",
   "execution_count": null,
   "metadata": {},
   "outputs": [],
   "source": [
    "# from django.conf import settings\n",
    "# from django.conf.urls.static import static\n",
    "\n",
    "\n",
    "# if settings.DEBUG:\n",
    "    # urlpatterns += static(settings.MEDIA_URL, document_root=settings.MEDIA_ROOT)"
   ]
  },
  {
   "attachments": {},
   "cell_type": "markdown",
   "metadata": {},
   "source": [
    "# Serving Static Files"
   ]
  },
  {
   "attachments": {},
   "cell_type": "markdown",
   "metadata": {},
   "source": [
    "* When DEBUG is True:\n",
    "    * django look for static folders and assets in each app\n",
    "        * unless a new direction is specified\n",
    "    * django copies these static assets into a single folder or bucket to be served"
   ]
  },
  {
   "attachments": {},
   "cell_type": "markdown",
   "metadata": {},
   "source": [
    "* Setting up a static file directory which is used during production"
   ]
  },
  {
   "cell_type": "code",
   "execution_count": null,
   "metadata": {},
   "outputs": [],
   "source": [
    "# STATICFILES_DIRS = [Path.joinpath(BASE_DIR.parent, \"project_apps_folder\", \"static\")]"
   ]
  },
  {
   "cell_type": "markdown",
   "metadata": {},
   "source": [
    "* Settings up the static root which is used during deployment"
   ]
  },
  {
   "cell_type": "code",
   "execution_count": null,
   "metadata": {},
   "outputs": [],
   "source": [
    "# STATIC_ROOT = Path.joinpath(BASE_DIR.parent, \"project_apps_folder\", \"staticfiles\")"
   ]
  },
  {
   "cell_type": "markdown",
   "metadata": {},
   "source": [
    "* Settings up the file storage engine used by the *collectstatic* command"
   ]
  },
  {
   "cell_type": "code",
   "execution_count": null,
   "metadata": {},
   "outputs": [],
   "source": [
    "# STATICFILE_STORAGE = \"django.contrib.staticfiles.storage.StaticFilesStorage\""
   ]
  },
  {
   "cell_type": "code",
   "execution_count": null,
   "metadata": {},
   "outputs": [],
   "source": [
    "# from django.conf import settings\n",
    "# from django.conf.urls.static import static\n",
    "\n",
    "\n",
    "# if settings.DEBUG:\n",
    "    # urlpatterns += static(settings.STATIC_URL, document_root=settings.STATIC_ROOT)"
   ]
  },
  {
   "attachments": {},
   "cell_type": "markdown",
   "metadata": {},
   "source": [
    "* Collecting static files in the apps into static root"
   ]
  },
  {
   "cell_type": "code",
   "execution_count": null,
   "metadata": {},
   "outputs": [],
   "source": [
    "# python manage.py collectstatic"
   ]
  },
  {
   "cell_type": "markdown",
   "metadata": {},
   "source": [
    "### WhiteNoise for Static Files"
   ]
  },
  {
   "cell_type": "code",
   "execution_count": null,
   "metadata": {},
   "outputs": [],
   "source": [
    "# pipenv install whitenoise"
   ]
  },
  {
   "cell_type": "markdown",
   "metadata": {},
   "source": [
    "* add whitenoise above the built-in staticfiles app in INSTALLED_APPS"
   ]
  },
  {
   "cell_type": "code",
   "execution_count": null,
   "metadata": {},
   "outputs": [],
   "source": [
    "# THIRD_PARTY_APPS = [\n",
    "#     \"whitenoise.runserver_nostatic\",\n",
    "# ]"
   ]
  },
  {
   "cell_type": "markdown",
   "metadata": {},
   "source": [
    "* add WhiteNoiseMiddleware above CommonMiddleware in MIDDLEWARE"
   ]
  },
  {
   "cell_type": "code",
   "execution_count": null,
   "metadata": {},
   "outputs": [],
   "source": [
    "# MIDDLEWARE.append(\"whitenoise.middleware.WhiteNoiseMiddleware\")"
   ]
  },
  {
   "cell_type": "code",
   "execution_count": null,
   "metadata": {},
   "outputs": [],
   "source": [
    "# STATICFILE_STORAGE = \"whitenoise.storage.CompressedManifestStaticFilesStorage\"\n",
    "# STORAGES = {\n",
    "#     \"staticfiles\": {\n",
    "#         \"BACKEND\": \"whitenoise.storage.CompressedManifestStaticFilesStorage\"\n",
    "#     }\n",
    "# }"
   ]
  },
  {
   "cell_type": "markdown",
   "metadata": {},
   "source": [
    "# Other Options in Settings"
   ]
  },
  {
   "cell_type": "markdown",
   "metadata": {},
   "source": [
    "* To determine the redirect destination after login or logout, add bellow to the settings file"
   ]
  },
  {
   "cell_type": "code",
   "execution_count": null,
   "metadata": {},
   "outputs": [],
   "source": [
    "# LOGIN_REDIRECT_URL = \"value of the name parameter in the urlpatterns\"\n",
    "# LOGOUT_REDIRECT_URL = \"value of the name parameter in the urlpatterns\""
   ]
  },
  {
   "cell_type": "code",
   "execution_count": null,
   "metadata": {},
   "outputs": [],
   "source": [
    "# TIME_ZONE = \"Asia/Tehran\""
   ]
  },
  {
   "attachments": {},
   "cell_type": "markdown",
   "metadata": {},
   "source": [
    "# Setting Up the Database"
   ]
  },
  {
   "attachments": {},
   "cell_type": "markdown",
   "metadata": {},
   "source": [
    "* Django Migrations are used to create or update the database tables based on the models"
   ]
  },
  {
   "attachments": {},
   "cell_type": "markdown",
   "metadata": {},
   "source": [
    "* To create migrations files for each app\n",
    "* These migrations files contain Python modules based on the models that will be converted to SQL code"
   ]
  },
  {
   "cell_type": "code",
   "execution_count": null,
   "metadata": {},
   "outputs": [],
   "source": [
    "# python manage.py makemigrations"
   ]
  },
  {
   "attachments": {},
   "cell_type": "markdown",
   "metadata": {},
   "source": [
    "* To execute the migrations files and create SQL tables"
   ]
  },
  {
   "cell_type": "code",
   "execution_count": null,
   "metadata": {},
   "outputs": [],
   "source": [
    "# python manage.py migrate"
   ]
  },
  {
   "attachments": {},
   "cell_type": "markdown",
   "metadata": {},
   "source": [
    "* To display the SQL code sent to the database"
   ]
  },
  {
   "cell_type": "code",
   "execution_count": null,
   "metadata": {},
   "outputs": [],
   "source": [
    "# python manage.py sqlmigrate <app-name> <migration-sequence-number>"
   ]
  },
  {
   "attachments": {},
   "cell_type": "markdown",
   "metadata": {},
   "source": [
    "**Best Practice** Apply changes and migrate them one at a time"
   ]
  },
  {
   "attachments": {},
   "cell_type": "markdown",
   "metadata": {},
   "source": [
    "There are two methods to reverse a migration:\n",
    "1. **Partial:** Selectively revert the new code then make a new migrations\n",
    "2. **Complete:** Revert all changes done in the previous migration\n",
    "    * **1st** -> Run bellow code\n",
    "    * **2nd** -> Remove the undesired migration files\n",
    "    * **3rd** -> Remove all the undesired code associated with the deleted migration files"
   ]
  },
  {
   "cell_type": "code",
   "execution_count": null,
   "metadata": {},
   "outputs": [],
   "source": [
    "# python manage.py migrate <app-name> <migrations-sequence-number>"
   ]
  },
  {
   "attachments": {},
   "cell_type": "markdown",
   "metadata": {},
   "source": [
    "**Best Practice** Use version control systems for saving or reverting migrations"
   ]
  },
  {
   "attachments": {},
   "cell_type": "markdown",
   "metadata": {},
   "source": [
    "* Creating an empty migration file\n",
    "    * Write SQL code in the operations list of the empty migration"
   ]
  },
  {
   "cell_type": "code",
   "execution_count": null,
   "metadata": {},
   "outputs": [],
   "source": [
    "# python manage.py makemigrations <app-name> --empty"
   ]
  },
  {
   "cell_type": "code",
   "execution_count": null,
   "metadata": {},
   "outputs": [],
   "source": [
    "# operations = [\n",
    "    # migrations.RunSQL(\"\"\"\n",
    "        # Code\n",
    "    # \"\"\", \"\"\"\n",
    "        # Code\n",
    "    # \"\"\")\n",
    "# ]"
   ]
  },
  {
   "attachments": {},
   "cell_type": "markdown",
   "metadata": {},
   "source": [
    "* Combine multiple migrations files"
   ]
  },
  {
   "cell_type": "code",
   "execution_count": null,
   "metadata": {},
   "outputs": [],
   "source": [
    "# python manage.py squashmigrations"
   ]
  },
  {
   "cell_type": "markdown",
   "metadata": {},
   "source": [
    "### Setting Up PostgreSQL Database"
   ]
  },
  {
   "cell_type": "markdown",
   "metadata": {},
   "source": [
    "1. Install Essential packages"
   ]
  },
  {
   "cell_type": "code",
   "execution_count": null,
   "metadata": {},
   "outputs": [],
   "source": [
    "# sudo apt-get install build-essential libssl-dev libpq-dev libffi-dev python3-dev"
   ]
  },
  {
   "cell_type": "markdown",
   "metadata": {},
   "source": [
    "2. Install psycopg"
   ]
  },
  {
   "cell_type": "code",
   "execution_count": null,
   "metadata": {},
   "outputs": [],
   "source": [
    "# pip install psycopg2\n",
    "# pip install psycopg[binary]"
   ]
  },
  {
   "cell_type": "markdown",
   "metadata": {},
   "source": [
    "3. Install PostgreSQL"
   ]
  },
  {
   "cell_type": "code",
   "execution_count": null,
   "metadata": {},
   "outputs": [],
   "source": [
    "# sudo apt-get install postgresql postgresql-contrib"
   ]
  },
  {
   "cell_type": "markdown",
   "metadata": {},
   "source": [
    "4. Run PostgreSQL server"
   ]
  },
  {
   "cell_type": "code",
   "execution_count": null,
   "metadata": {},
   "outputs": [],
   "source": [
    "# sudo systemctl start postgresql.service"
   ]
  },
  {
   "cell_type": "markdown",
   "metadata": {},
   "source": [
    "5. Configure PostgreSQL"
   ]
  },
  {
   "cell_type": "code",
   "execution_count": null,
   "metadata": {},
   "outputs": [],
   "source": [
    "# sudo -u postgres psql"
   ]
  },
  {
   "cell_type": "markdown",
   "metadata": {},
   "source": [
    "* The commands for creating a database and a db user"
   ]
  },
  {
   "cell_type": "code",
   "execution_count": null,
   "metadata": {},
   "outputs": [],
   "source": [
    "# CREATE DATABASE DatabaseName;\n",
    "# CREATE USER UserName WITH PASSWORD 'Password';\n",
    "# GRANT ALL PRIVILEGES ON DATABASE DatabaseName TO UserName;\n",
    "# ALTER ROLE UserName SET client_encoding TO 'utf8';\n",
    "# ALTER ROLE UserName SET default_transaction_isolation TO 'read committed';\n",
    "# ALTER ROLE UserName SET timezone TO 'UTC';\n",
    "# GRANT ALL PRIVILEGES ON DATABASE DatabaseName To UserName;"
   ]
  },
  {
   "cell_type": "markdown",
   "metadata": {},
   "source": [
    "6. Changing the default database in the settings.py file"
   ]
  },
  {
   "cell_type": "code",
   "execution_count": null,
   "metadata": {},
   "outputs": [],
   "source": [
    "# DATABASES = {\n",
    "#     \"default\": {\n",
    "#         \"ENGINE\": \"django.db.backends.postgresql_psycopg2\",\n",
    "#         \"NAME\": \"DatabaseName\",\n",
    "#         \"USER\": \"UserName\",\n",
    "#         \"PASSWORD\": \"Password\",\n",
    "#         \"HOST\": \"localhost\" / \"127.0.0.1\",\n",
    "#         \"PORT\": \"5432\",\n",
    "#     }\n",
    "# }"
   ]
  },
  {
   "attachments": {},
   "cell_type": "markdown",
   "metadata": {},
   "source": [
    "# Enabling CORS"
   ]
  },
  {
   "attachments": {},
   "cell_type": "markdown",
   "metadata": {},
   "source": [
    "* Stand for Cross-Origin Resource Sharing\n",
    "* Prevents an app hosted on one domain to send requests to an app hosted on another domain\n",
    "* Using django-cors-headers to enable cors"
   ]
  },
  {
   "cell_type": "code",
   "execution_count": null,
   "metadata": {},
   "outputs": [],
   "source": [
    "# pipenv install django-cors-header"
   ]
  },
  {
   "cell_type": "code",
   "execution_count": null,
   "metadata": {},
   "outputs": [],
   "source": [
    "# INSTALLED_APPS += [\"corsheaders\",]"
   ]
  },
  {
   "cell_type": "code",
   "execution_count": null,
   "metadata": {},
   "outputs": [],
   "source": [
    "# MIDDLEWARE = [\"corsheaders.middleware.CorsMiddleware\",]"
   ]
  },
  {
   "attachments": {},
   "cell_type": "markdown",
   "metadata": {},
   "source": [
    "* Set one of the following settings in the settings.py\n",
    "    1. CORS_ALLOWED_ORIGINS = []\n",
    "    2. CORS_ALLOWED_ORIGINS_REGEX\n",
    "    3. CORS_ALLOW_ALL_ORIGINS"
   ]
  },
  {
   "attachments": {},
   "cell_type": "markdown",
   "metadata": {},
   "source": [
    "# Sending Emails"
   ]
  },
  {
   "cell_type": "markdown",
   "metadata": {},
   "source": [
    "* For testing, django's console backend can be used to output the email text in the console"
   ]
  },
  {
   "cell_type": "code",
   "execution_count": null,
   "metadata": {},
   "outputs": [],
   "source": [
    "# EMAIL_BACKEND = \"django.core.mail.backends.console.EmailBackend\""
   ]
  },
  {
   "attachments": {},
   "cell_type": "markdown",
   "metadata": {},
   "source": [
    "* To send email, an SMTP server is required\n",
    "* After acquiring and configuring the SMTP server, the following settings must be included in the settings.py"
   ]
  },
  {
   "cell_type": "code",
   "execution_count": null,
   "metadata": {},
   "outputs": [],
   "source": [
    "# EMAIL_BACKEND = \"django.core.mail.backends.smtp.EmailBackend\"\n",
    "# EMAIL_HOST = utils.get_setting(\"EMAIL_HOST\")\n",
    "# EMAIL_HOST_USER = utils.get_setting(\"EMAIL_HOST_USER\")\n",
    "# EMAIL_HOST_PASSWORD = utils.get_setting(\"EMAIL_HOST_PASSWORD\")\n",
    "# EMAIL_PORT = utils.get_setting(\"EMAIL_PORT\")\n",
    "# DEFAULT_FROM_EMAIL = utils.get_setting(\"DEFAULT_FROM_EMAIL\")\n",
    "# EMAIL_USE_TLS = True"
   ]
  },
  {
   "attachments": {},
   "cell_type": "markdown",
   "metadata": {},
   "source": [
    "* For sending emails to admins, the following setting must also be set"
   ]
  },
  {
   "cell_type": "code",
   "execution_count": null,
   "metadata": {},
   "outputs": [],
   "source": [
    "# ADMINS = [\n",
    "    # (\"admin_name\", \"admin_email\"),\n",
    "# ]"
   ]
  },
  {
   "cell_type": "markdown",
   "metadata": {},
   "source": [
    "# Logging"
   ]
  },
  {
   "cell_type": "markdown",
   "metadata": {},
   "source": [
    "* Configure logging for recording transactions and errors"
   ]
  },
  {
   "cell_type": "code",
   "execution_count": null,
   "metadata": {},
   "outputs": [],
   "source": [
    "# import os\n",
    "\n",
    "\n",
    "# LOGGING = {\n",
    "    # \"version\": 1,\n",
    "    # \"disable_existing_loggers\": False,\n",
    "    # \"handlers\": {\n",
    "        # \"console\": {\n",
    "            # \"class\": \"../logging.StreamHandler\",\n",
    "        # },\n",
    "        # \"file\": {\n",
    "            # \"class\": \"../logging.FileHandler\",\n",
    "            # \"filename\": \"file_name.log\",\n",
    "            # \"formatter\": \"verbose\",\n",
    "        # },\n",
    "    # },\n",
    "    # loggers: {\n",
    "        # \"\": {\n",
    "            # handlers: [\"console\", \"file\"],\n",
    "            # level: os.environ.get(\"DJANGO_LOG_LEVEL\", \"INFO\"),\n",
    "        # },\n",
    "    # },\n",
    "    # \"formatters\": {\n",
    "        # \"verbose\": {\n",
    "            # \"format\": \"{log attribute} {log attribute}, ...\",\n",
    "            # \"style\": \"{\",\n",
    "        # }\n",
    "    # }\n",
    "# }"
   ]
  },
  {
   "attachments": {},
   "cell_type": "markdown",
   "metadata": {},
   "source": [
    "# Production"
   ]
  },
  {
   "cell_type": "markdown",
   "metadata": {},
   "source": [
    "* Steps:\n",
    "    1. add environment varialbes via environs[django]\n",
    "    2. set DEBUG to False\n",
    "    3. set ALLOWED_HOSTS\n",
    "    4. user environment variable for SECRET_KEY\n",
    "    5. update DATABASE to use PostgreSQL\n",
    "    6. configure static files\n",
    "    7. install whitenoise to manage static file hosting\n",
    "    8. install gunicorn and nginx"
   ]
  },
  {
   "cell_type": "markdown",
   "metadata": {},
   "source": [
    "* Display a list of check list for a django project"
   ]
  },
  {
   "cell_type": "code",
   "execution_count": null,
   "metadata": {},
   "outputs": [],
   "source": [
    "# python manage.py check --deploy"
   ]
  },
  {
   "cell_type": "markdown",
   "metadata": {},
   "source": [
    "### Evironment Variables"
   ]
  },
  {
   "cell_type": "markdown",
   "metadata": {},
   "source": [
    "* install environ for django"
   ]
  },
  {
   "cell_type": "code",
   "execution_count": null,
   "metadata": {},
   "outputs": [],
   "source": [
    "# pipenv instal django-environ"
   ]
  },
  {
   "cell_type": "markdown",
   "metadata": {},
   "source": [
    "* create a .env file in the same location is manage.py or the settings file location\n",
    "* add the variables and their values into .env"
   ]
  },
  {
   "cell_type": "code",
   "execution_count": null,
   "metadata": {},
   "outputs": [],
   "source": [
    "# DEBUG=True\n",
    "# SECRET_KEY=\n",
    "# DB_NAME=\n",
    "# DB_USERNAME=\n",
    "# DB_PASSWORD=\n",
    "# ..."
   ]
  },
  {
   "cell_type": "markdown",
   "metadata": {},
   "source": [
    "* add .env to .gitignore list"
   ]
  },
  {
   "cell_type": "markdown",
   "metadata": {},
   "source": [
    "* configure the config settings.py file"
   ]
  },
  {
   "cell_type": "code",
   "execution_count": null,
   "metadata": {},
   "outputs": [],
   "source": [
    "# from environs import Env\n",
    "\n",
    "\n",
    "# env = Env()\n",
    "# env.read_env(Path.joinpath(BASE_DIR, \"path to the .env file\"))\n",
    "\n",
    "# DEBUG = env(\"DEBUG\", default=False, cast=bool)\n",
    "# SECRET_KEY = env(\"SECRET_KEY\", cast=str)\n",
    "# ..."
   ]
  },
  {
   "cell_type": "markdown",
   "metadata": {},
   "source": [
    "* To generate a new SECRET_KEY, run bellow statement in the terminal"
   ]
  },
  {
   "cell_type": "code",
   "execution_count": null,
   "metadata": {},
   "outputs": [],
   "source": [
    "# python3 -c 'import secrets; print(secrets.token_urlsafe())'"
   ]
  },
  {
   "cell_type": "markdown",
   "metadata": {},
   "source": [
    "### Ignoring files and folders"
   ]
  },
  {
   "attachments": {},
   "cell_type": "markdown",
   "metadata": {},
   "source": [
    "* Create a .gitignore file in the same place as mamange.py\n",
    "* place the name of non-production files and folders in it"
   ]
  },
  {
   "cell_type": "code",
   "execution_count": null,
   "metadata": {},
   "outputs": [],
   "source": [
    "# project_apps/*/migrations\n",
    "# static/\n",
    "# staticfiles/\n",
    "# templates/\n",
    "\n",
    "# .env\n",
    "# __pycache__\n",
    "# db.sqlite3"
   ]
  },
  {
   "attachments": {},
   "cell_type": "markdown",
   "metadata": {},
   "source": [
    "### Web Server"
   ]
  },
  {
   "attachments": {},
   "cell_type": "markdown",
   "metadata": {},
   "source": [
    "* To run a project in production mode:\n",
    "    1. install and configure gunicorn as the production web server\n",
    "    2. install and configure nginx to pass traffic to the process"
   ]
  },
  {
   "cell_type": "markdown",
   "metadata": {},
   "source": [
    "#### Gunicorn"
   ]
  },
  {
   "attachments": {},
   "cell_type": "markdown",
   "metadata": {},
   "source": [
    "* Install and configure Gunicorn server"
   ]
  },
  {
   "cell_type": "code",
   "execution_count": null,
   "metadata": {},
   "outputs": [],
   "source": [
    "# pipenv install gunicorn"
   ]
  },
  {
   "cell_type": "code",
   "execution_count": null,
   "metadata": {},
   "outputs": [],
   "source": [
    "# gunicorn config.wsgi"
   ]
  },
  {
   "cell_type": "markdown",
   "metadata": {},
   "source": [
    "* Creating systemd Socket and Service Files for Gunicorn"
   ]
  },
  {
   "cell_type": "code",
   "execution_count": null,
   "metadata": {},
   "outputs": [],
   "source": [
    "# sudo nano /etc/systemd/system/gunicorn.socket"
   ]
  },
  {
   "cell_type": "code",
   "execution_count": null,
   "metadata": {},
   "outputs": [],
   "source": [
    "# [Unit]\n",
    "# Description=gunicorn socket\n",
    "\n",
    "# [Socket]\n",
    "# ListenStream=/run/gunicorn.sock\n",
    "\n",
    "# [Install]\n",
    "# WantedBy=sockets.target"
   ]
  },
  {
   "cell_type": "code",
   "execution_count": null,
   "metadata": {},
   "outputs": [],
   "source": [
    "# sudo nano /etc/systemd/system/gunicorn.service"
   ]
  },
  {
   "cell_type": "code",
   "execution_count": null,
   "metadata": {},
   "outputs": [],
   "source": [
    "# [Unit]\n",
    "# Description=gunicorn daemon\n",
    "# Requires=gunicorn.socket\n",
    "# After=network.target\n",
    "\n",
    "# [Service]\n",
    "# User=username\n",
    "# Group=www-data\n",
    "# WorkingDirectory=/home/username/path_to_my_project_dir\n",
    "# ExecStart=/home/username/.local/share/virtualenvs/env_name/bin/gunicorn \\\n",
    "#           --access-logfile - \\\n",
    "#           --workers 3 \\\n",
    "#           --bind unix:/run/gunicorn.sock config.wsgi:application\n",
    "\n",
    "# [Install]\n",
    "# WantedBy=multi-user.target"
   ]
  },
  {
   "attachments": {},
   "cell_type": "markdown",
   "metadata": {},
   "source": [
    "* Gunicorn does not pick changes and must be manually restarted"
   ]
  },
  {
   "cell_type": "code",
   "execution_count": null,
   "metadata": {},
   "outputs": [],
   "source": [
    "# sudo systemctl status gunicorm\n",
    "# sudo systemctl daemon-reload\n",
    "# systemctl restart gunicorn"
   ]
  },
  {
   "cell_type": "markdown",
   "metadata": {},
   "source": [
    "#### Nginx"
   ]
  },
  {
   "cell_type": "code",
   "execution_count": null,
   "metadata": {},
   "outputs": [],
   "source": [
    "# sudo nano /etc/nginx/sites-available/domain.top_level_domain"
   ]
  },
  {
   "cell_type": "code",
   "execution_count": null,
   "metadata": {},
   "outputs": [],
   "source": [
    "# server {\n",
    "#     listen 80 default_server;\n",
    "#     listen [::]:80 default server;\n",
    "#     server_name ip_address;\n",
    "#     server_name domain.to_level_doamin subdoamin.domain.top_level_domain;\n",
    "\n",
    "#     client_max_body_size 10m;\n",
    "#     client_body_buffers-size 128k;\n",
    "#     proxy_connect_timeout 75;\n",
    "#     proxy_send_timeout 300;\n",
    "#     proxy_read_timeout 300;\n",
    "#     proxy_buffer_size 4k;\n",
    "#     proxy_buffers 4 32k;\n",
    "#     proxy_busy_buffers_size 64k;\n",
    "#     proxy_temp_file_write_size 64k;\n",
    "#     proxy_http_version 1.1;\n",
    "#     proxy_buffering on;\n",
    "#     proxy_redirect off;\n",
    "\n",
    "#     proxy_set_header X-Forwarded-For $proxy_add_x_forwarded_for;\n",
    "#     proxy_set_header X-Forwarded-Proto $scheme;\n",
    "\n",
    "#     recursive_error_pages on;\n",
    "\n",
    "#     location /api {\n",
    "#         include proxy_params;\n",
    "#         proxy_pass http://unix:/run/gunicorn.sock;\n",
    "#     }\n",
    "\n",
    "#     location = /favicon.ico {\n",
    "#         access_log off;\n",
    "#         log_not_found off;\n",
    "#     }\n",
    "\n",
    "#     location /static/ {\n",
    "#         root /home/username/path_to_project_dir/static;\n",
    "#     }\n",
    "\n",
    "#     # location for the 1st front project\n",
    "#     location / {\n",
    "#         proxy_ssl_server_name on;\n",
    "#         proxy_pass http://127.0.0.1:3000;\n",
    "#     }\n",
    "\n",
    "#     # location for the 2nd front project\n",
    "#     location /panel {\n",
    "#         proxy_ssl_server_name on;\n",
    "#         proxy_pass http://127.0.0.1:3001;\n",
    "#     }\n",
    "\n",
    "#     location ~ /.well-known {\n",
    "#         allow all;\n",
    "#     }\n",
    "# }"
   ]
  },
  {
   "cell_type": "markdown",
   "metadata": {},
   "source": [
    "* link above file to the site-enabled folder"
   ]
  },
  {
   "cell_type": "code",
   "execution_count": null,
   "metadata": {},
   "outputs": [],
   "source": [
    "# sudo ln -s /etc/nginx/sites-available/doamin.top_level_domain /etc/nginx/sites-enabled"
   ]
  },
  {
   "cell_type": "code",
   "execution_count": null,
   "metadata": {},
   "outputs": [],
   "source": [
    "# sudo nginx -t\n",
    "# sudo systemctl restart nginx"
   ]
  },
  {
   "attachments": {},
   "cell_type": "markdown",
   "metadata": {},
   "source": [
    "### Hosting"
   ]
  },
  {
   "attachments": {},
   "cell_type": "markdown",
   "metadata": {},
   "source": [
    "* Update DEBUG and ALLOWED_HOSTS in the production settings"
   ]
  },
  {
   "cell_type": "code",
   "execution_count": null,
   "metadata": {},
   "outputs": [],
   "source": [
    "# DEBUG = env(\"DEBUG\", cast=bool)\n",
    "\n",
    "# ALLOWED_HOSTS = [\n",
    "    # \"domain of the host\",\n",
    "    # 127.0.0.1,\n",
    "    # localhost,\n",
    "# ]"
   ]
  },
  {
   "attachments": {},
   "cell_type": "markdown",
   "metadata": {},
   "source": [
    "### Database"
   ]
  },
  {
   "attachments": {},
   "cell_type": "markdown",
   "metadata": {},
   "source": [
    "* To get the database environment variables from the database connection"
   ]
  },
  {
   "cell_type": "code",
   "execution_count": null,
   "metadata": {},
   "outputs": [],
   "source": [
    "# pipenv install dj-database-url"
   ]
  },
  {
   "cell_type": "code",
   "execution_count": null,
   "metadata": {},
   "outputs": [],
   "source": [
    "# import dj_database_url\n",
    "\n",
    "\n",
    "# DATABASES = {\n",
    "    # \"default\": dj_database_url.config()\n",
    "# }"
   ]
  }
 ],
 "metadata": {
  "kernelspec": {
   "display_name": "contemoProjectOne-8qSfqZwJ",
   "language": "python",
   "name": "python3"
  },
  "language_info": {
   "codemirror_mode": {
    "name": "ipython",
    "version": 3
   },
   "file_extension": ".py",
   "mimetype": "text/x-python",
   "name": "python",
   "nbconvert_exporter": "python",
   "pygments_lexer": "ipython3",
   "version": "3.10.12"
  },
  "orig_nbformat": 4,
  "vscode": {
   "interpreter": {
    "hash": "804033749aef4839343affb7a422baa3ee59d8172106318bce2f4824cc1cb755"
   }
  }
 },
 "nbformat": 4,
 "nbformat_minor": 2
}
