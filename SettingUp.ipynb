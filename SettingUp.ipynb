{
 "cells": [
  {
   "attachments": {},
   "cell_type": "markdown",
   "metadata": {},
   "source": [
    "# 1. Software Development"
   ]
  },
  {
   "attachments": {},
   "cell_type": "markdown",
   "metadata": {},
   "source": [
    "1. Writing a description of the project\n",
    "2. Write down the inputs, the processes and the outputs of the system\n",
    "3. Listing the different capabilities and functionalities of the project\n",
    "4. Writing the software requirements specifications\n",
    "5. Writing the functional requirements specifications\n",
    "6. Defining the entities of the project\n",
    "7. Defining the relationships between the entities\n",
    "8. Drawing the database conceptual model\n",
    "9. Drawing the database logical model\n",
    "10. Normalizing the entity-relationship model\n",
    "11. Creating an MVP for each capability and functionality based on the defined user stories\n",
    "12. Expanding and developing the MVPs\n",
    "13. Running performance tests\n",
    "14. Applying optimizations based on the performance result"
   ]
  },
  {
   "attachments": {},
   "cell_type": "markdown",
   "metadata": {},
   "source": [
    "# 2. Virtual Environment"
   ]
  },
  {
   "attachments": {},
   "cell_type": "markdown",
   "metadata": {},
   "source": [
    "* Installing a virtual env and django"
   ]
  },
  {
   "cell_type": "code",
   "execution_count": 1,
   "metadata": {},
   "outputs": [],
   "source": [
    "# pipenv install django"
   ]
  },
  {
   "attachments": {},
   "cell_type": "markdown",
   "metadata": {},
   "source": [
    "* Activating the virtual environment"
   ]
  },
  {
   "cell_type": "code",
   "execution_count": 2,
   "metadata": {},
   "outputs": [],
   "source": [
    "# pipenv shell"
   ]
  },
  {
   "attachments": {},
   "cell_type": "markdown",
   "metadata": {},
   "source": [
    "* Remove a virtual environment"
   ]
  },
  {
   "cell_type": "code",
   "execution_count": 3,
   "metadata": {},
   "outputs": [],
   "source": [
    "# pipenv --rm"
   ]
  },
  {
   "attachments": {},
   "cell_type": "markdown",
   "metadata": {},
   "source": [
    "* Get the installed packages in the VE"
   ]
  },
  {
   "cell_type": "code",
   "execution_count": 34,
   "metadata": {},
   "outputs": [],
   "source": [
    "# pipenv requirements > requirements.txt"
   ]
  },
  {
   "attachments": {},
   "cell_type": "markdown",
   "metadata": {},
   "source": [
    "# 3. Django Project"
   ]
  },
  {
   "attachments": {},
   "cell_type": "markdown",
   "metadata": {},
   "source": [
    "* Starting a django project"
   ]
  },
  {
   "cell_type": "code",
   "execution_count": 4,
   "metadata": {},
   "outputs": [],
   "source": [
    "# django-admin startproject {project-name}\n",
    "# django-admin startproject {project-name} ."
   ]
  },
  {
   "attachments": {},
   "cell_type": "markdown",
   "metadata": {},
   "source": [
    "**NOTE:** After creating a django project, within the project must use **python manage.py** instead of **django-admin** to run commands\n",
    "* The **manage.py** takes the project settings into account"
   ]
  },
  {
   "attachments": {},
   "cell_type": "markdown",
   "metadata": {},
   "source": [
    "* Run a local server for django on the given port number\n",
    "* If port number is not given, default port will be 8000"
   ]
  },
  {
   "cell_type": "code",
   "execution_count": 5,
   "metadata": {},
   "outputs": [],
   "source": [
    "# python manage.py runserver {port-number}"
   ]
  },
  {
   "attachments": {},
   "cell_type": "markdown",
   "metadata": {},
   "source": [
    "* Can access the django server using the URL: http://127.0.01:{port-number}"
   ]
  },
  {
   "attachments": {},
   "cell_type": "markdown",
   "metadata": {},
   "source": [
    "* Create superuser to access the admin page"
   ]
  },
  {
   "cell_type": "code",
   "execution_count": 6,
   "metadata": {},
   "outputs": [],
   "source": [
    "# python manage.py createsuperuser"
   ]
  },
  {
   "attachments": {},
   "cell_type": "markdown",
   "metadata": {},
   "source": [
    "* Change the password for a user"
   ]
  },
  {
   "cell_type": "code",
   "execution_count": 7,
   "metadata": {},
   "outputs": [],
   "source": [
    "# python manage.py changepassword <username>"
   ]
  },
  {
   "attachments": {},
   "cell_type": "markdown",
   "metadata": {},
   "source": [
    "# 4. Django Apps"
   ]
  },
  {
   "attachments": {},
   "cell_type": "markdown",
   "metadata": {},
   "source": [
    "* Each django project is a collection of apps\n",
    "* Each app can have its own data model and provides certain and different functionalities"
   ]
  },
  {
   "attachments": {},
   "cell_type": "markdown",
   "metadata": {},
   "source": [
    "### 4.1. Organizing Apps"
   ]
  },
  {
   "attachments": {},
   "cell_type": "markdown",
   "metadata": {},
   "source": [
    "* There are three strategies for organizing apps in django:\n",
    "    1. **Monolithic:** Create 1 app and place all the entities in it\n",
    "    2. **Islands:** Create an app for each entity\n",
    "    3. **Dependency:** Organize the entities in apps based on their dependency, so that dependent entities are placed in one app"
   ]
  },
  {
   "attachments": {},
   "cell_type": "markdown",
   "metadata": {},
   "source": [
    "In a **Monolithic** and **island** design, as the software and its functionalities grows, It can become harder to:\n",
    "* understand\n",
    "* maintain and debug the code\n",
    "* reuse its functionalities because of their dependencies\n",
    "* develop further"
   ]
  },
  {
   "attachments": {},
   "cell_type": "markdown",
   "metadata": {},
   "source": [
    "**NOTE:** When designing and organizing apps, each app must do one thing and do that thing well"
   ]
  },
  {
   "attachments": {},
   "cell_type": "markdown",
   "metadata": {},
   "source": [
    "**BEST PRACTICE:** Each app must contains between 5 to 10 models"
   ]
  },
  {
   "attachments": {},
   "cell_type": "markdown",
   "metadata": {},
   "source": [
    "Each app must have the following properties:\n",
    "1. **Self Contained (High Focus):** The app provides a specific piece of functionality and contains everything it requires to provide it\n",
    "2. **Minimal Coupling:** The apps can be changed and modified independently without affecting other apps"
   ]
  },
  {
   "attachments": {},
   "cell_type": "markdown",
   "metadata": {},
   "source": [
    "### 4.2. App Structure"
   ]
  },
  {
   "attachments": {},
   "cell_type": "markdown",
   "metadata": {},
   "source": [
    "* Best practice for app structure"
   ]
  },
  {
   "cell_type": "code",
   "execution_count": 2,
   "metadata": {},
   "outputs": [],
   "source": [
    "# root_project_folder/\n",
    "# |---config/\n",
    "# |     |---settings/\n",
    "# |     |     |__init__.py\n",
    "# |     |     |---base.py\n",
    "# |     |     |---local.py\n",
    "# |     |     |---staging.py\n",
    "# |     |     |---test.py\n",
    "# |     |     |---production.py\n",
    "# |     |---envars/\n",
    "# |     |     |---secrets.json\n",
    "# |     |     |---utils.py\n",
    "# |     |---__init__.py\n",
    "# |     |---asgi.py\n",
    "# |     |---celery.py\n",
    "# |     |---urls.py\n",
    "# |     |---wsgi.py\n",
    "# |---docs/\n",
    "# |---project_apps_folder\n",
    "# |     |---app_one/\n",
    "# |     |     |---__init__.py\n",
    "# |     |     |---api/\n",
    "# |     |     |     |---filters.py\n",
    "# |     |     |     |---permissions.py\n",
    "# |     |     |     |---serializers.py\n",
    "# |     |     |     |---views.py\n",
    "# |     |     |     |---viewset.py\n",
    "# |     |     |---admin.py\n",
    "# |     |     |---apps.py\n",
    "# |     |     |---models.py\n",
    "# |     |     |---tasks.py\n",
    "# |     |     |---tests/\n",
    "# |     |     |     |---__init__.py\n",
    "# |     |     |     |---conftest.py\n",
    "# |     |     |     |---test_custom_name.py/\n",
    "# |     |     |---views.py\n",
    "# |     |     |---urls.py\n",
    "# |     |     |---static/\n",
    "# |     |     |     |---app_one/\n",
    "# |     |     |     |     |---styles.css\n",
    "# |     |---app_two/\n",
    "# |     |---media/\n",
    "# |     |---static/\n",
    "# |     |---templates/\n",
    "# |     |     |---base.html\n",
    "# |     |     |---header.html\n",
    "# |     |     |---footer.html\n",
    "# |     |     |---app_one/\n",
    "# |     |     |     |---body.html\n",
    "# |---.gitignore\n",
    "# |---README.md\n",
    "# |---manage.py\n",
    "# |---pytest.ini\n",
    "# |---requirements/\n",
    "# |     |---base.txt\n",
    "# |     |---local.txt\n",
    "# |     |---staging.txt\n",
    "# |     |---production.txt"
   ]
  },
  {
   "attachments": {},
   "cell_type": "markdown",
   "metadata": {},
   "source": [
    "* To use specific settings when using shell or running the server"
   ]
  },
  {
   "cell_type": "code",
   "execution_count": 9,
   "metadata": {},
   "outputs": [],
   "source": [
    "# python manage.py shell --settings=config.settings.<settings_file_name>\n",
    "# python manage.py runserver:<port-number> --settings=config.settings.<settings_file_name>"
   ]
  },
  {
   "attachments": {},
   "cell_type": "markdown",
   "metadata": {},
   "source": [
    "**NOTE**\n",
    "* The DJANGO_SETTINGS_MODULE can be modified to point to the settings file\n",
    "* This way it will not be required to specify the settings file location when using python manage.py\n",
    "* For BASE_DIR variable, add .parent at the end"
   ]
  },
  {
   "attachments": {},
   "cell_type": "markdown",
   "metadata": {},
   "source": [
    "**BEST PRACTICE** For Environment Variables\n",
    "1. Create a JSON file\n",
    "    * Place the environment variables using the JSON format\n",
    "3. Add the JSON file name in the .gitignore file\n",
    "4. Create a get_settings.py file\n",
    "    * Open the JSON file, read the desired settings and return them in the get_settings.py file\n",
    "5. In each settings.py file, use the get_settings() to open the corresponding JSON file and read its variables"
   ]
  },
  {
   "attachments": {},
   "cell_type": "markdown",
   "metadata": {},
   "source": [
    "* To install from a specific requirement file"
   ]
  },
  {
   "cell_type": "code",
   "execution_count": 10,
   "metadata": {},
   "outputs": [],
   "source": [
    "# pipenv install -r requirements/production.txt"
   ]
  },
  {
   "attachments": {},
   "cell_type": "markdown",
   "metadata": {},
   "source": [
    "### 4.3. Creating and Installing Apps"
   ]
  },
  {
   "attachments": {},
   "cell_type": "markdown",
   "metadata": {},
   "source": [
    "* All apps must be stored in a variable called **INSTALLED_APPS** in the **settings.py** of the django project"
   ]
  },
  {
   "attachments": {},
   "cell_type": "markdown",
   "metadata": {},
   "source": [
    "* create an app withing the project"
   ]
  },
  {
   "cell_type": "code",
   "execution_count": 11,
   "metadata": {},
   "outputs": [],
   "source": [
    "# python manage.py startapp <app_name>\n",
    "# python ../manage.py startapp <app_name>"
   ]
  },
  {
   "attachments": {},
   "cell_type": "markdown",
   "metadata": {},
   "source": [
    "**BEST PRACTICE** for registering the apps in settings.py"
   ]
  },
  {
   "cell_type": "code",
   "execution_count": 12,
   "metadata": {},
   "outputs": [],
   "source": [
    "DJANGO_APPS = []\n",
    "PROJECT_APPS = []\n",
    "THIRD_PARTY_APPS = []\n",
    "\n",
    "INSTALLED_APPS = DJANGO_APPS + PROJECT_APPS + THIRD_PARTY_APPS"
   ]
  },
  {
   "attachments": {},
   "cell_type": "markdown",
   "metadata": {},
   "source": [
    "# 5. Serving Media Files"
   ]
  },
  {
   "attachments": {},
   "cell_type": "markdown",
   "metadata": {},
   "source": [
    "* To use media files:\n",
    "    1. create a media folder\n",
    "    2. set MEDIA_URL and MEDIA_ROOT in the settings file\n",
    "    3. add a static url in the root urls file"
   ]
  },
  {
   "cell_type": "code",
   "execution_count": 13,
   "metadata": {},
   "outputs": [],
   "source": [
    "# MEDIA_URL = \"/media/\"\n",
    "# MEDIA_ROOT = Path.joinpath(BASE_DIR, \"../project_apps_folder/media\")"
   ]
  },
  {
   "cell_type": "code",
   "execution_count": 14,
   "metadata": {},
   "outputs": [],
   "source": [
    "# from django.conf import settings\n",
    "# from django.conf.urls.static import static\n",
    "\n",
    "\n",
    "# if settings.DEBUG:\n",
    "    # urlpatterns += static(settings.MEDIA_URL, document_root=settings.MEDIA_ROOT)"
   ]
  },
  {
   "attachments": {},
   "cell_type": "markdown",
   "metadata": {},
   "source": [
    "# 6. Serving Static Files"
   ]
  },
  {
   "attachments": {},
   "cell_type": "markdown",
   "metadata": {},
   "source": [
    "* When DEBUG is True:\n",
    "    * django look for static folders and assets in each app\n",
    "    * django copies these static assets into a single folder or bucket to be served"
   ]
  },
  {
   "attachments": {},
   "cell_type": "markdown",
   "metadata": {},
   "source": [
    "* Setting up a static root folder"
   ]
  },
  {
   "cell_type": "code",
   "execution_count": 3,
   "metadata": {},
   "outputs": [],
   "source": [
    "# STATIC_ROOT = Path.joinpath(BASE_DIR, \"../project_apps_folder/static\")"
   ]
  },
  {
   "cell_type": "code",
   "execution_count": 5,
   "metadata": {},
   "outputs": [],
   "source": [
    "# from django.conf import settings\n",
    "# from django.conf.urls.static import static\n",
    "\n",
    "\n",
    "# if settings.DEBUG:\n",
    "    # urlpatterns += static(settings.STATIC_URL, document_root=settings.STATIC_ROOT)"
   ]
  },
  {
   "attachments": {},
   "cell_type": "markdown",
   "metadata": {},
   "source": [
    "* Collecting static files in the apps into static root"
   ]
  },
  {
   "cell_type": "code",
   "execution_count": 6,
   "metadata": {},
   "outputs": [],
   "source": [
    "# python manage.py collectstatic"
   ]
  },
  {
   "attachments": {},
   "cell_type": "markdown",
   "metadata": {},
   "source": [
    "# 7. Setting Up PostgreSQL Database"
   ]
  },
  {
   "attachments": {},
   "cell_type": "markdown",
   "metadata": {},
   "source": [
    "1. Install Essential packages"
   ]
  },
  {
   "cell_type": "code",
   "execution_count": 15,
   "metadata": {},
   "outputs": [],
   "source": [
    "# sudo apt-get install build-essential libssl-dev libpq-dev libffi-dev python3-dev"
   ]
  },
  {
   "attachments": {},
   "cell_type": "markdown",
   "metadata": {},
   "source": [
    "2. Install psycopg"
   ]
  },
  {
   "cell_type": "code",
   "execution_count": 16,
   "metadata": {},
   "outputs": [],
   "source": [
    "# pip install psycopg2\n",
    "# pip install psycopg[binary]"
   ]
  },
  {
   "attachments": {},
   "cell_type": "markdown",
   "metadata": {},
   "source": [
    "3. Install PostgreSQL"
   ]
  },
  {
   "cell_type": "code",
   "execution_count": 17,
   "metadata": {},
   "outputs": [],
   "source": [
    "# sudo apt-get install postgresql postgresql-contrib"
   ]
  },
  {
   "attachments": {},
   "cell_type": "markdown",
   "metadata": {},
   "source": [
    "4. Run PostgreSQL server"
   ]
  },
  {
   "cell_type": "code",
   "execution_count": 18,
   "metadata": {},
   "outputs": [],
   "source": [
    "# sudo systemctl start postgresql.service"
   ]
  },
  {
   "attachments": {},
   "cell_type": "markdown",
   "metadata": {},
   "source": [
    "5. Configure PostgreSQL"
   ]
  },
  {
   "cell_type": "code",
   "execution_count": 19,
   "metadata": {},
   "outputs": [],
   "source": [
    "# sudo -u postgres psql"
   ]
  },
  {
   "cell_type": "code",
   "execution_count": 20,
   "metadata": {},
   "outputs": [],
   "source": [
    "# CREATE DATABASE DatabaseName;\n",
    "# CREATE USER UserName WITH PASSWORD 'Password';\n",
    "# GRANT ALL PRIVILEGES ON DATABASE DatabaseName TO UserName;\n",
    "# ALTER ROLE UserName SET client_encoding TO 'utf8';\n",
    "# ALTER ROLE UserName SET default_transaction_isolation TO 'read committed';\n",
    "# ALTER ROLE UserName SET timezone TO 'UTC';\n",
    "# GRANT ALL PRIVILEGES ON DATABASE DatabaseName To UserName;"
   ]
  },
  {
   "attachments": {},
   "cell_type": "markdown",
   "metadata": {},
   "source": [
    "6. Changing the default database in the settings.py file"
   ]
  },
  {
   "cell_type": "code",
   "execution_count": 21,
   "metadata": {},
   "outputs": [],
   "source": [
    "# DATABASES = {\n",
    "#     \"default\": {\n",
    "#         \"ENGINE\": \"django.db.backends.postgresql_psycopg2\",\n",
    "#         \"NAME\": \"DatabaseName\",\n",
    "#         \"USER\": \"UserName\",\n",
    "#         \"PASSWORD\": \"Password\",\n",
    "#         \"HOST\": \"localhost\" / \"127.0.0.1\",\n",
    "#         \"PORT\": \"5432\",\n",
    "#     }\n",
    "# }"
   ]
  },
  {
   "attachments": {},
   "cell_type": "markdown",
   "metadata": {},
   "source": [
    "# 8. Setting Up the Database"
   ]
  },
  {
   "attachments": {},
   "cell_type": "markdown",
   "metadata": {},
   "source": [
    "* Django Migrations are used to create or update the database tables based on the models"
   ]
  },
  {
   "attachments": {},
   "cell_type": "markdown",
   "metadata": {},
   "source": [
    "* To create migrations files for each app\n",
    "* These migrations files contain Python modules based on the models that will be converted to SQL code"
   ]
  },
  {
   "cell_type": "code",
   "execution_count": 22,
   "metadata": {},
   "outputs": [],
   "source": [
    "# python manage.py makemigrations"
   ]
  },
  {
   "attachments": {},
   "cell_type": "markdown",
   "metadata": {},
   "source": [
    "* To execute the migrations files and create SQL tables"
   ]
  },
  {
   "cell_type": "code",
   "execution_count": 23,
   "metadata": {},
   "outputs": [],
   "source": [
    "# python manage.py migrate"
   ]
  },
  {
   "attachments": {},
   "cell_type": "markdown",
   "metadata": {},
   "source": [
    "* To display the SQL code sent to the database"
   ]
  },
  {
   "cell_type": "code",
   "execution_count": 24,
   "metadata": {},
   "outputs": [],
   "source": [
    "# python manage.py sqlmigrate <app-name> <migration-sequence-number>"
   ]
  },
  {
   "attachments": {},
   "cell_type": "markdown",
   "metadata": {},
   "source": [
    "**Best Practice** Apply changes and migrate them one at a time"
   ]
  },
  {
   "attachments": {},
   "cell_type": "markdown",
   "metadata": {},
   "source": [
    "There are two methods to reverse a migration:\n",
    "1. **Partial:** Selectively revert the new code then make a new migrations\n",
    "2. **Complete:** Revert all changes done in the previous migration\n",
    "    * **1st** -> Run bellow code\n",
    "    * **2nd** -> Remove the undesired migration files\n",
    "    * **3rd** -> Remove all the undesired code associated with the deleted migration files"
   ]
  },
  {
   "cell_type": "code",
   "execution_count": 25,
   "metadata": {},
   "outputs": [],
   "source": [
    "# python manage.py migrate <app-name> <migrations-sequence-number>"
   ]
  },
  {
   "attachments": {},
   "cell_type": "markdown",
   "metadata": {},
   "source": [
    "**Best Practice** Use version control systems for saving or reverting migrations"
   ]
  },
  {
   "attachments": {},
   "cell_type": "markdown",
   "metadata": {},
   "source": [
    "* Creating an empty migration file\n",
    "    * Write SQL code in the operations list of the empty migration"
   ]
  },
  {
   "cell_type": "code",
   "execution_count": 26,
   "metadata": {},
   "outputs": [],
   "source": [
    "# python manage.py makemigrations <app-name> --empty"
   ]
  },
  {
   "cell_type": "code",
   "execution_count": 27,
   "metadata": {},
   "outputs": [],
   "source": [
    "# operations = [\n",
    "    # migrations.RunSQL(\"\"\"\n",
    "        # Code\n",
    "    # \"\"\", \"\"\"\n",
    "        # Code\n",
    "    # \"\"\")\n",
    "# ]"
   ]
  },
  {
   "attachments": {},
   "cell_type": "markdown",
   "metadata": {},
   "source": [
    "* Combine multiple migrations files"
   ]
  },
  {
   "cell_type": "code",
   "execution_count": 28,
   "metadata": {},
   "outputs": [],
   "source": [
    "# python manage.py squashmigrations"
   ]
  },
  {
   "attachments": {},
   "cell_type": "markdown",
   "metadata": {},
   "source": [
    "# 9. Django Commands"
   ]
  },
  {
   "attachments": {},
   "cell_type": "markdown",
   "metadata": {},
   "source": [
    "* Display a list of available commands that can be run using django-admin"
   ]
  },
  {
   "cell_type": "code",
   "execution_count": 29,
   "metadata": {},
   "outputs": [],
   "source": [
    "# django-admin"
   ]
  },
  {
   "attachments": {},
   "cell_type": "markdown",
   "metadata": {},
   "source": [
    "* Display a list of available commands for the project that can be run using **python manage.py**"
   ]
  },
  {
   "cell_type": "code",
   "execution_count": 30,
   "metadata": {},
   "outputs": [],
   "source": [
    "# python manage.py"
   ]
  },
  {
   "attachments": {},
   "cell_type": "markdown",
   "metadata": {},
   "source": [
    "* Custom commands can be added to each project"
   ]
  },
  {
   "attachments": {},
   "cell_type": "markdown",
   "metadata": {},
   "source": [
    "# 10. Enabling CORS"
   ]
  },
  {
   "attachments": {},
   "cell_type": "markdown",
   "metadata": {},
   "source": [
    "* Stand for Cross-Origin Resource Sharing\n",
    "* Prevents an app hosted on one domain to send requests to an app hosted on another domain\n",
    "* Using django-cors-headers to enable cors"
   ]
  },
  {
   "cell_type": "code",
   "execution_count": 31,
   "metadata": {},
   "outputs": [],
   "source": [
    "# pipenv install django-cors-header"
   ]
  },
  {
   "cell_type": "code",
   "execution_count": 1,
   "metadata": {},
   "outputs": [],
   "source": [
    "# INSTALLED_APPS += [\"corsheaders\",]"
   ]
  },
  {
   "cell_type": "code",
   "execution_count": 33,
   "metadata": {},
   "outputs": [],
   "source": [
    "# MIDDLEWARE = [\"corsheaders.middleware.CorsMiddleware\",]"
   ]
  },
  {
   "attachments": {},
   "cell_type": "markdown",
   "metadata": {},
   "source": [
    "* Set one of the following settings in the settings.py\n",
    "    1. CORS_ALLOWED_ORIGINS = []\n",
    "    2. CORS_ALLOWED_ORIGINS_REGEX\n",
    "    3. CORS_ALLOW_ALL_ORIGINS"
   ]
  },
  {
   "attachments": {},
   "cell_type": "markdown",
   "metadata": {},
   "source": [
    "# 11. Sending Emails"
   ]
  },
  {
   "attachments": {},
   "cell_type": "markdown",
   "metadata": {},
   "source": [
    "* To send email, an SMTP server is required\n",
    "* After acquiring and configuring the SMTP server, the following settings must be included in the settings.py"
   ]
  },
  {
   "cell_type": "code",
   "execution_count": 35,
   "metadata": {},
   "outputs": [],
   "source": [
    "# EMAIL_BACKEND = \"django.core.mail.backends.smtp.EmailBackend\"\n",
    "# EMAIL_HOST = utils.get_setting(\"EMAIL_HOST\")\n",
    "# EMAIL_HOST_USER = utils.get_setting(\"EMAIL_HOST_USER\")\n",
    "# EMAIL_HOST_PASSWORD = utils.get_setting(\"EMAIL_HOST_PASSWORD\")\n",
    "# EMAIL_PORT = utils.get_setting(\"EMAIL_PORT\")\n",
    "# DEFAULT_FROM_EMAIL = utils.get_setting(\"DEFAULT_FROM_EMAIL\")"
   ]
  },
  {
   "attachments": {},
   "cell_type": "markdown",
   "metadata": {},
   "source": [
    "* For sending emails to admins, the following setting must also be set"
   ]
  },
  {
   "cell_type": "code",
   "execution_count": 36,
   "metadata": {},
   "outputs": [],
   "source": [
    "# ADMINS = [\n",
    "    # (\"admin_name\", \"admin_email\"),\n",
    "# ]"
   ]
  },
  {
   "attachments": {},
   "cell_type": "markdown",
   "metadata": {},
   "source": [
    "# 12. Production"
   ]
  },
  {
   "attachments": {},
   "cell_type": "markdown",
   "metadata": {},
   "source": [
    "### 12.1. Git Version Control"
   ]
  },
  {
   "attachments": {},
   "cell_type": "markdown",
   "metadata": {},
   "source": [
    "* Create a .gitignore file and place the name of non-production files and folders in it"
   ]
  },
  {
   "attachments": {},
   "cell_type": "markdown",
   "metadata": {},
   "source": [
    "### 12.2. Static Files"
   ]
  },
  {
   "attachments": {},
   "cell_type": "markdown",
   "metadata": {},
   "source": [
    "* Install, configure and use white Noise for collecting static files"
   ]
  },
  {
   "cell_type": "code",
   "execution_count": 7,
   "metadata": {},
   "outputs": [],
   "source": [
    "# pipenv install whitenoise"
   ]
  },
  {
   "cell_type": "code",
   "execution_count": 9,
   "metadata": {},
   "outputs": [],
   "source": [
    "# MIDDLEWARE = [\n",
    "    # ...\n",
    "    # \"django.middleware.security.SecurityMiddleware\",\n",
    "    # \"whitenoise.middleware.WhiteNoiseMiddleware\",\n",
    "    # ...\n",
    "# ]"
   ]
  },
  {
   "attachments": {},
   "cell_type": "markdown",
   "metadata": {},
   "source": [
    "* To add cacheable files and compression support add following code to settings.py"
   ]
  },
  {
   "cell_type": "code",
   "execution_count": 11,
   "metadata": {},
   "outputs": [],
   "source": [
    "# STATICFILES_STORAGE = \"whitenoise.storage.CompressedManifestStaticFilesStorage\""
   ]
  },
  {
   "attachments": {},
   "cell_type": "markdown",
   "metadata": {},
   "source": [
    "### 12.3. Logging"
   ]
  },
  {
   "attachments": {},
   "cell_type": "markdown",
   "metadata": {},
   "source": [
    "* Configure logging for recording transactions and errors"
   ]
  },
  {
   "cell_type": "code",
   "execution_count": 15,
   "metadata": {},
   "outputs": [],
   "source": [
    "# import os\n",
    "\n",
    "\n",
    "# LOGGING = {\n",
    "    # \"version\": 1,\n",
    "    # \"disable_existing_loggers\": False,\n",
    "    # \"handlers\": {\n",
    "        # \"console\": {\n",
    "            # \"class\": \"../logging.StreamHandler\",\n",
    "        # },\n",
    "        # \"file\": {\n",
    "            # \"class\": \"../logging.FileHandler\",\n",
    "            # \"filename\": \"file_name.log\",\n",
    "            # \"formatter\": \"verbose\",\n",
    "        # },\n",
    "    # },\n",
    "    # loggers: {\n",
    "        # \"\": {\n",
    "            # handlers: [\"console\", \"file\"],\n",
    "            # level: os.environ.get(\"DJANGO_LOG_LEVEL\", \"INFO\"),\n",
    "        # },\n",
    "    # },\n",
    "    # \"formatters\": {\n",
    "        # \"verbose\": {\n",
    "            # \"format\": \"{log attribute} {log attribute}, ...\",\n",
    "            # \"style\": \"{\",\n",
    "        # }\n",
    "    # }\n",
    "# }"
   ]
  },
  {
   "attachments": {},
   "cell_type": "markdown",
   "metadata": {},
   "source": [
    "### 12.4. Web Server"
   ]
  },
  {
   "attachments": {},
   "cell_type": "markdown",
   "metadata": {},
   "source": [
    "* Gunicorn can be used instead of the default django server"
   ]
  },
  {
   "attachments": {},
   "cell_type": "markdown",
   "metadata": {},
   "source": [
    "* Install and configure Gunicorn server"
   ]
  },
  {
   "cell_type": "code",
   "execution_count": 16,
   "metadata": {},
   "outputs": [],
   "source": [
    "# pipenv install gunicorn"
   ]
  },
  {
   "cell_type": "code",
   "execution_count": 17,
   "metadata": {},
   "outputs": [],
   "source": [
    "# gunicorn config.wsgi"
   ]
  },
  {
   "attachments": {},
   "cell_type": "markdown",
   "metadata": {},
   "source": [
    "**NOTE** Gunicorn does not pick changes and must be manually restarted"
   ]
  },
  {
   "attachments": {},
   "cell_type": "markdown",
   "metadata": {},
   "source": [
    "### 12.5. Hosting"
   ]
  },
  {
   "attachments": {},
   "cell_type": "markdown",
   "metadata": {},
   "source": [
    "* There are two options for hosting a web server\n",
    "    1. Virtual Private Server (VPS)\n",
    "    2. Platform as a Service (PaaS)"
   ]
  },
  {
   "attachments": {},
   "cell_type": "markdown",
   "metadata": {},
   "source": [
    "* Update allowed hosts in the settings.py"
   ]
  },
  {
   "cell_type": "code",
   "execution_count": 1,
   "metadata": {},
   "outputs": [],
   "source": [
    "# ALLOWED_HOSTS = [\n",
    "    # \"domain of the host\",\n",
    "# ]"
   ]
  },
  {
   "attachments": {},
   "cell_type": "markdown",
   "metadata": {},
   "source": [
    "### 12.6. Database"
   ]
  },
  {
   "attachments": {},
   "cell_type": "markdown",
   "metadata": {},
   "source": [
    "* To get the database environment variables from the database connection"
   ]
  },
  {
   "cell_type": "code",
   "execution_count": 2,
   "metadata": {},
   "outputs": [],
   "source": [
    "# pipenv install dj-database-url"
   ]
  },
  {
   "cell_type": "code",
   "execution_count": 3,
   "metadata": {},
   "outputs": [],
   "source": [
    "# import dj_database_url\n",
    "\n",
    "\n",
    "# DATABASES = {\n",
    "    # \"default\": dj_database_url.config()\n",
    "# }"
   ]
  }
 ],
 "metadata": {
  "kernelspec": {
   "display_name": "contemoProjectOne-8qSfqZwJ",
   "language": "python",
   "name": "python3"
  },
  "language_info": {
   "codemirror_mode": {
    "name": "ipython",
    "version": 3
   },
   "file_extension": ".py",
   "mimetype": "text/x-python",
   "name": "python",
   "nbconvert_exporter": "python",
   "pygments_lexer": "ipython3",
   "version": "3.10.6"
  },
  "orig_nbformat": 4,
  "vscode": {
   "interpreter": {
    "hash": "804033749aef4839343affb7a422baa3ee59d8172106318bce2f4824cc1cb755"
   }
  }
 },
 "nbformat": 4,
 "nbformat_minor": 2
}
