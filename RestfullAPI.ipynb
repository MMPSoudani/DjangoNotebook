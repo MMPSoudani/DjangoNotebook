{
 "cells": [
  {
   "attachments": {},
   "cell_type": "markdown",
   "metadata": {},
   "source": [
    "# **10.** RESTFUL API"
   ]
  },
  {
   "attachments": {},
   "cell_type": "markdown",
   "metadata": {},
   "source": [
    "### **10.1.** Overview"
   ]
  },
  {
   "attachments": {},
   "cell_type": "markdown",
   "metadata": {},
   "source": [
    "* REpresentational State Transfer\n",
    "* APIs are endpoints from / to the server (back end)\n",
    "* These end points can be used to get data from or send data to them"
   ]
  },
  {
   "attachments": {},
   "cell_type": "markdown",
   "metadata": {},
   "source": [
    "* Restful APIs revolve around 3 concepts:\n",
    "    1. **Resources:** Objects available on the web that can be accessed using URLs\n",
    "    2. **Resource Representations:** How the data returned from the server will be represented\n",
    "        * HTML, XML or JSON\n",
    "    3. **HTTP Methods:** Methods that determine the properties and functionalities of each endpoint\n",
    "        * GET, POST, PUT, PATCH, DELETE"
   ]
  },
  {
   "attachments": {},
   "cell_type": "markdown",
   "metadata": {},
   "source": [
    "### **10.2.** Organizing Rest API"
   ]
  },
  {
   "cell_type": "code",
   "execution_count": 1,
   "metadata": {},
   "outputs": [],
   "source": [
    "# app_name\n",
    "# |---api/\n",
    "# |   |---__init__.py\n",
    "# |   |---authentication.py\n",
    "# |   |---parsers.py\n",
    "# |   |---permissions.py\n",
    "# |   |---renderers.py\n",
    "# |   |---serializers.py\n",
    "# |   |---validators.py\n",
    "# |   |---views.py\n",
    "# |   |---viewsets.py"
   ]
  },
  {
   "attachments": {},
   "cell_type": "markdown",
   "metadata": {},
   "source": [
    "* Routers and url paths are placed in the app's urls.py module"
   ]
  },
  {
   "attachments": {},
   "cell_type": "markdown",
   "metadata": {},
   "source": [
    "### **10.2.** Installing Django Rest Framework"
   ]
  },
  {
   "attachments": {},
   "cell_type": "markdown",
   "metadata": {},
   "source": [
    "* Installing django rest framework"
   ]
  },
  {
   "cell_type": "code",
   "execution_count": 2,
   "metadata": {},
   "outputs": [],
   "source": [
    "# pipenv install djangorestframework"
   ]
  },
  {
   "cell_type": "markdown",
   "metadata": {},
   "source": [
    "* Adding django rest framework to INSTALLED_APPS"
   ]
  },
  {
   "cell_type": "code",
   "execution_count": 3,
   "metadata": {},
   "outputs": [],
   "source": [
    "THIRD_PARTY_APPS = [\"rest_framework\"]"
   ]
  },
  {
   "attachments": {},
   "cell_type": "markdown",
   "metadata": {},
   "source": [
    "### **10.3.** Django Rest Serializers"
   ]
  },
  {
   "attachments": {},
   "cell_type": "markdown",
   "metadata": {},
   "source": [
    "* Serializers are used to convert between model instance to a python dictionary\n",
    "* Models are the internal representation of an object, Serializers are the external representation of an object\n",
    "    * API model does not need to be similar to the Data model"
   ]
  },
  {
   "attachments": {},
   "cell_type": "markdown",
   "metadata": {},
   "source": [
    "* Serializers convert model instance to python dictionary and then JSON object implicitly"
   ]
  },
  {
   "cell_type": "markdown",
   "metadata": {},
   "source": [
    "* Write serializers in a serializers.py file in each app"
   ]
  },
  {
   "cell_type": "code",
   "execution_count": 4,
   "metadata": {},
   "outputs": [],
   "source": [
    "# from rest_framework import serializers\n",
    "\n",
    "\n",
    "# class ModelNameSerializer(serializers.Serializer):\n",
    "    # serializer_field = serializer.FieldType(required_attributes=)"
   ]
  },
  {
   "attachments": {},
   "cell_type": "markdown",
   "metadata": {},
   "source": [
    "* Using a custom field name in the serializer instead of the original model field name"
   ]
  },
  {
   "cell_type": "code",
   "execution_count": 5,
   "metadata": {},
   "outputs": [],
   "source": [
    "# from rest_framework import serializers\n",
    "\n",
    "\n",
    "# class ModelNameSerializers(serializers.Serializer):\n",
    "    # custom_field_name = serializers.FieldType(required_attributes=, source=\"original_field_name\")"
   ]
  },
  {
   "attachments": {},
   "cell_type": "markdown",
   "metadata": {},
   "source": [
    "* Defining a custom serializer field"
   ]
  },
  {
   "cell_type": "code",
   "execution_count": 6,
   "metadata": {},
   "outputs": [],
   "source": [
    "# from rest_framework import serializers\n",
    "\n",
    "\n",
    "# class ModelNameSerializer(serializers.Serializer):\n",
    "    # custom_serializer_field = serializers.SerializerMethodField(method_name=\"custom_method_name\")\n",
    "\n",
    "\n",
    "    # def custom_method_name(self, model_name):\n",
    "        # return some_calculations"
   ]
  },
  {
   "attachments": {},
   "cell_type": "markdown",
   "metadata": {},
   "source": [
    "* Serializing a relationship\n",
    "* There are four methods for serializing relationships:\n",
    "    1. Displaying the primary key of the related model\n",
    "    2. Displaying the string representation of the related model\n",
    "    3. Displaying a serializer of the related model\n",
    "    4. Displaying a hyperlink of the related model"
   ]
  },
  {
   "cell_type": "code",
   "execution_count": 7,
   "metadata": {},
   "outputs": [],
   "source": [
    "# from rest_framework import serializers\n",
    "# from .models import RelatedModelName\n",
    "\n",
    "\n",
    "# class RelatedModelNameSerializer(serializers.Serializer):\n",
    "    # field_name_one = serializers.FieldType(required_attributes=)\n",
    "\n",
    "\n",
    "# class ModelNameSerializer(serializers.Serializer):\n",
    "    # related_field_name_one = serializers.PrimaryKeyRelatedField(queryset=RelatedModelName.objects.all())\n",
    "    # related_field_name_two = serializers.StringRelatedField()\n",
    "    # related_field_name_three = RelatedModelNameSerializer()\n",
    "    # related_field_name_four = serializers.HyperlinkRelatedField(\n",
    "        # queryset=RelatedModelName.objects.all(),\n",
    "        # view_name=\"related-model-view-name\",\n",
    "    # )"
   ]
  },
  {
   "attachments": {},
   "cell_type": "markdown",
   "metadata": {},
   "source": [
    "**NOTE:** When using hyperlinks to display a related model:\n",
    "1. context={\"request\": request} must be included in the view\n",
    "2. pk must be used as a parameter in the urls and views"
   ]
  },
  {
   "attachments": {},
   "cell_type": "markdown",
   "metadata": {},
   "source": [
    "* Defining model serializer"
   ]
  },
  {
   "cell_type": "code",
   "execution_count": 8,
   "metadata": {},
   "outputs": [],
   "source": [
    "# from rest_framework import serializers\n",
    "# from .models import ModelName\n",
    "\n",
    "\n",
    "# class ModelNameSerializer(serializers.ModelSerializer):\n",
    "    # class Meta:\n",
    "        # model = ModelName\n",
    "        # fields = [\"model_field_one\", \"model_field_two\", ...]"
   ]
  },
  {
   "cell_type": "code",
   "execution_count": 9,
   "metadata": {},
   "outputs": [],
   "source": [
    "# from rest_framework import serializers\n",
    "# from .models import ModelName, RelatedModelName\n",
    "\n",
    "\n",
    "# class RelatedModelNameSerializer(serializers.ModelSerializer):\n",
    "    # class Meta:\n",
    "        # model = RelatedModelName\n",
    "        # fields = [\"field_one\", \"field_two\", \"custom_name_field\"]\n",
    "    \n",
    "    # custom_name_field = serializers.FieldType(required_attributes=, source=\"original_field_name\")\n",
    "\n",
    "\n",
    "# class ModelNameSerializer(serializers.ModelSerializer):\n",
    "    # class Meta:\n",
    "        # model = ModelName\n",
    "        # fields = [\"field_one\", \"related_field\"]\n",
    "    \n",
    "    # related_field = RelatedModelNameSerializer()"
   ]
  },
  {
   "attachments": {},
   "cell_type": "markdown",
   "metadata": {},
   "source": [
    "**Bad Practice:** Do not user fields = \"\\_\\_all\\_\\_\" since it might expose sensitive info in the serializer"
   ]
  },
  {
   "attachments": {},
   "cell_type": "markdown",
   "metadata": {},
   "source": [
    "* Making a field read only"
   ]
  },
  {
   "cell_type": "code",
   "execution_count": 10,
   "metadata": {},
   "outputs": [],
   "source": [
    "# from rest_framework import serializers\n",
    "# from .models import ModelName\n",
    "\n",
    "\n",
    "# class ModelNameSerializer(serializers.ModelSerializer):\n",
    "    # class Meta:\n",
    "        # model = ModelName\n",
    "        # fields = [\"field_one\", \"field_two\", ...]\n",
    "    \n",
    "    # field_one = serializers.FieldType(read_only=True)"
   ]
  },
  {
   "attachments": {},
   "cell_type": "markdown",
   "metadata": {},
   "source": [
    "**BEST PRACTICE** Implement validation and CRUD on the serializer level"
   ]
  },
  {
   "attachments": {},
   "cell_type": "markdown",
   "metadata": {},
   "source": [
    "* Managing the data validation"
   ]
  },
  {
   "cell_type": "code",
   "execution_count": 11,
   "metadata": {},
   "outputs": [],
   "source": [
    "# from rest_framework import serializers\n",
    "# from .models import ModelName\n",
    "\n",
    "\n",
    "# class ModelNameSerializer(serializers.ModelSerializer):\n",
    "    # class Meta:\n",
    "        # model = ModelName\n",
    "        # fields = [\"field_one\", \"field_two\", ...]\n",
    "    \n",
    "    # def validate_field_one(self, value):\n",
    "        # if value has some problem:\n",
    "            # raise serializers.ValidationError(\"message\")\n",
    "        # return value\n",
    "    \n",
    "    # def validate(self, data):\n",
    "        # if data[\"field_name\"] is not correct:\n",
    "            # raise serializers.ValidationError(\"message\")\n",
    "        # return data"
   ]
  },
  {
   "attachments": {},
   "cell_type": "markdown",
   "metadata": {},
   "source": [
    "* Creating an object\n",
    "* The create method is invoked upon calling the .save() method in a POST request"
   ]
  },
  {
   "cell_type": "code",
   "execution_count": 12,
   "metadata": {},
   "outputs": [],
   "source": [
    "# from rest_framework import serializers\n",
    "# from .models import ModelName\n",
    "\n",
    "\n",
    "# class ModelNameSerializer(serializers.ModelSerializer):\n",
    "    # class Meta:\n",
    "        # model = ModelName\n",
    "        # fields = [\"field_one\", \"field_two\", ...]\n",
    "    \n",
    "    # def create(self, validated_data):\n",
    "        # model_instance = ModelName(**validated_data)\n",
    "        # modification and adjustments on the model_instance\n",
    "        # model_instance.save()\n",
    "        # return model_instance"
   ]
  },
  {
   "attachments": {},
   "cell_type": "markdown",
   "metadata": {},
   "source": [
    "* Updating an object\n",
    "* The update method is invoked, upon calling the .save() method in a PUT or PATCH request"
   ]
  },
  {
   "cell_type": "code",
   "execution_count": 13,
   "metadata": {},
   "outputs": [],
   "source": [
    "# from rest_framework import serializers\n",
    "# from .models import ModelName\n",
    "\n",
    "\n",
    "# class ModelNameSerializer(serializers.ModelSerializer):\n",
    "    # class Meta:\n",
    "        # model = ModelName\n",
    "        # fields = [\"field_one\", \"field_two\", ...]\n",
    "    \n",
    "    # def update(self, instance, validated_data):\n",
    "        # instance.field_name_one = validated_date.get(\"field_name_one\")\n",
    "        # instance.save()\n",
    "        # return instance"
   ]
  },
  {
   "attachments": {},
   "cell_type": "markdown",
   "metadata": {},
   "source": [
    "### **10.4.** Django Rest Views"
   ]
  },
  {
   "attachments": {},
   "cell_type": "markdown",
   "metadata": {},
   "source": [
    "* Rest API views can be written as functions or classes"
   ]
  },
  {
   "attachments": {},
   "cell_type": "markdown",
   "metadata": {},
   "source": [
    "#### **10.4.1.** Function Based Views"
   ]
  },
  {
   "attachments": {},
   "cell_type": "markdown",
   "metadata": {},
   "source": [
    "* Using rest framework's api_view will display **Browsable API** page with the data returned\n",
    "* api_view takes a list of HTTP methods\n",
    "    * [\"GET\", \"POST\", \"PUT\", \"PATCH\", \"DELETE\"]\n",
    "    * If a method other than \"GET\" is used, \"GET\" must be explicitly mentioned"
   ]
  },
  {
   "cell_type": "code",
   "execution_count": 14,
   "metadata": {},
   "outputs": [],
   "source": [
    "# from django.shortcuts import get_object_or_404\n",
    "# from rest_framework.decorators import api_view\n",
    "# from rest_framework.response import Response\n",
    "# from .models import ModelName\n",
    "# from .serializers import ModelNameSerializer\n",
    "\n",
    "\n",
    "# @api_view()\n",
    "# def view_name_list(request):\n",
    "    # query_set = ModelName.objects.all()\n",
    "    # serializer = ModelNameSerializer(query_set, many=True, context={\"request\": request})\n",
    "    # return Response(serializer.data)\n",
    "\n",
    "\n",
    "# @api_view()\n",
    "# def view_name_details(request, parameter)\n",
    "    # object = get_object_or_404(ModelName, parameter=parameter)\n",
    "    # serializer = ModelNameSerializer(object)\n",
    "    # return Response(serializer.data)"
   ]
  },
  {
   "attachments": {},
   "cell_type": "markdown",
   "metadata": {},
   "source": [
    "* **Create Object:** Deserializing the data in order to create an object"
   ]
  },
  {
   "cell_type": "code",
   "execution_count": 15,
   "metadata": {},
   "outputs": [],
   "source": [
    "# from rest_framework.decorators import api_view\n",
    "# from rest_framework.response import Response\n",
    "# from rest_framework.status import HTTP_400_BAD_REQUEST, HTTP_201_CREATED\n",
    "# from .models import ModelName\n",
    "# from .serializers import ModelNameSerializer\n",
    "\n",
    "\n",
    "# @api_view([\"GET\", \"POST\"])\n",
    "# def view_name_list(request):\n",
    "    # if request.method == \"GET\":\n",
    "        # queryset = ModelName.objects.all()\n",
    "        # serializer = ModelNameSerializer(queryset, many=True)\n",
    "        # return Response(serializer.data)\n",
    "    # if request.method == \"POST\":\n",
    "        # serializer = ModelNameSerializer(data=request.data)\n",
    "        # serializer.is_valid(raise_exception=True):\n",
    "        # serializer.save()\n",
    "        # return Response(serializer.data, status=HTTP_201_CREATED)"
   ]
  },
  {
   "attachments": {},
   "cell_type": "markdown",
   "metadata": {},
   "source": [
    "* **Update object:** Deserializing the data in order to update an object"
   ]
  },
  {
   "cell_type": "code",
   "execution_count": 16,
   "metadata": {},
   "outputs": [],
   "source": [
    "# from django.shortcuts import get_object_or_404\n",
    "# from rest_framework.decorators import api_view\n",
    "# from rest_framework.response import Response\n",
    "# from rest_framework.status import HTTP_200_OK\n",
    "# from .models import ModelName\n",
    "# from .serializers import ModelNameSerializer\n",
    "\n",
    "\n",
    "# @api_view([\"GET\", \"PUT\", \"PATCH\"])\n",
    "# def view_name_details(request, pk):\n",
    "    # model_instance = get_object_or_404(ModelName, pk=pk)\n",
    "\n",
    "    # if request.method == \"GET\":\n",
    "        # serializer = ModelNameSerializer(model_instance)\n",
    "        # return Response(serializer.data)\n",
    "    # if request.method == \"PUT\":\n",
    "        # serializer = ModelNameSerializer(instance=model_instance, data=request.data)\n",
    "        # serializer.is_valid(raise_exception=True)\n",
    "        # serializer.save()\n",
    "        # return Response(serializer.data, status=HTTP_200_OK)"
   ]
  },
  {
   "attachments": {},
   "cell_type": "markdown",
   "metadata": {},
   "source": [
    "* **Delete object:** Deserializing data in order to delete and object"
   ]
  },
  {
   "cell_type": "code",
   "execution_count": 17,
   "metadata": {},
   "outputs": [],
   "source": [
    "# from django.shortcuts import get_object_or_404\n",
    "# from rest_framework.decorators import api_view\n",
    "# from rest_framework.response import Response\n",
    "# from rest_framework.status import HTTP_204_NO_CONTENT, HTTP_405_METHOD_NOT_ALLOWED\n",
    "# from .models import ModelName\n",
    "# from .serializers import ModelNameSerializer\n",
    "\n",
    "\n",
    "# @api_view([\"GET\", \"DELETE\"])\n",
    "# def view_name_details(request, pk):\n",
    "    # model_instance = get_object_or_404(ModelName, pk=pk)\n",
    "\n",
    "    # if request.method == \"GET\":\n",
    "        # serializer = ModelNameSerializer(model_instance)\n",
    "        # return Response(serializer.data)\n",
    "    # if request.method == \"DELETE\":\n",
    "        # if model_instance can not be deleted:\n",
    "            # return Response({\"error\": \"message\"}, status=HTTP_405_METHOD_NOT_ALLOWED)\n",
    "        # model_instance.delete()\n",
    "        # return Response(status=HTTP_204_NO_CONTENT)"
   ]
  },
  {
   "attachments": {},
   "cell_type": "markdown",
   "metadata": {},
   "source": [
    "#### **10.4.2.** Class Based Views"
   ]
  },
  {
   "attachments": {},
   "cell_type": "markdown",
   "metadata": {},
   "source": [
    "* Using APIView"
   ]
  },
  {
   "cell_type": "code",
   "execution_count": 18,
   "metadata": {},
   "outputs": [],
   "source": [
    "# from django.shortcuts import get_object_or_404\n",
    "# from rest_framework.view import APIView\n",
    "# from rest_framework.response import Response\n",
    "# from .models import ModelName\n",
    "# from .serializers import ModelNameSerializer\n",
    "\n",
    "\n",
    "# class ModelNameListView(APIView):\n",
    "    # def get(self, request):\n",
    "        # queryset = ModelName.objects.all()\n",
    "        # serializer = ModelNameSerializer(queryset, name=True)\n",
    "        # return Response(serializer.data, status=)\n",
    "    \n",
    "    # def post(self, request):\n",
    "        # serializer = ModelNameSerializer(data=request.data)\n",
    "        # serializer.is_valid(raise_exception=True)\n",
    "        # serializer.save()\n",
    "        # return Response(serializer.data, status=)\n",
    "\n",
    "\n",
    "# class ModelNameDetailView(APIView):\n",
    "    # def put(self, request, pk):\n",
    "        # instance = get_object_or_404(ModelName, pk=pk)\n",
    "        # serializer = ModelNameSerializer(instance, data=request.data)\n",
    "        # serializer.is_valid(raise_exception=True)\n",
    "        # serializer.save()\n",
    "        # return Response(serializer.data, status=)\n",
    "\n",
    "    # def patch(self, request, pk):\n",
    "        # instance = get_object_or_404(ModelName, pk=pk)\n",
    "        # serializer = ModelNameSerializer(instance, data=request.data)\n",
    "        # serializer.is_valid(raise_exception=True)\n",
    "        # serializer.save()\n",
    "        # return Response(serializer.data, status=)\n",
    "    \n",
    "    # def delete(self, request, pk):\n",
    "        # instance = get_object_or_404(ModelName, pk=pk)\n",
    "        # if check for some conditions if necessary:\n",
    "            # return Response({\"error\": \"message\"}, status=)\n",
    "        # instance.delete()\n",
    "        # return Response(status=)"
   ]
  },
  {
   "attachments": {},
   "cell_type": "markdown",
   "metadata": {},
   "source": [
    "* Using Model Mixins\n",
    "    * APIView's implementation for the http methods is similar to the function based views\n",
    "    * Mixins encapsulate these repeated implementations into a reusable class"
   ]
  },
  {
   "attachments": {},
   "cell_type": "markdown",
   "metadata": {},
   "source": [
    "* Using Generic Views\n",
    "    * Generic views combines the Mixins and APIView"
   ]
  },
  {
   "cell_type": "code",
   "execution_count": 19,
   "metadata": {},
   "outputs": [],
   "source": [
    "# from rest_framework.generics import ListAPIView, CreateAPIView, RetrieveUpdateDestroyAPIView\n",
    "# from .models import ModelName\n",
    "# from .serializers import ModelNameSerializer\n",
    "\n",
    "\n",
    "# class ModelNameListView(ListAPIView, CreateAPIView):\n",
    "    # queryset = ModelName.object.select_related().filter().annotate()\n",
    "    # serializer_class = ModelNameSerializer\n",
    "\n",
    "    # def get_serializer_context(self):\n",
    "        # return {\"request\": self.request}\n",
    "\n",
    "\n",
    "# class ModelNameDetailView(RetrieveUpdateDestroyAPIView):\n",
    "    # queryset = ModelName.objects.all()\n",
    "    # serializer_class = ModelNameSerializer"
   ]
  },
  {
   "attachments": {},
   "cell_type": "markdown",
   "metadata": {},
   "source": [
    "* Overriding the base functions to add custom logic"
   ]
  },
  {
   "cell_type": "code",
   "execution_count": 20,
   "metadata": {},
   "outputs": [],
   "source": [
    "# from rest_framework.generics import ListAPIView, CreateAPIView, RetrieveAPIView, UpdateAPIView, DestroyAPIView\n",
    "# from .models import ModelName\n",
    "# from .serializers import ModelNameSerializer\n",
    "\n",
    "\n",
    "# class ModelNameListView(ListAPIView, CreateAPIView):\n",
    "    # def get_queryset(self):\n",
    "        # return ModelName.objects.all()\n",
    "    \n",
    "    # def get_serializer_class(self):\n",
    "        # return ModelNameSerializer\n",
    "    \n",
    "    # def get_serializer_context(self):\n",
    "        # return {\"request\": self.request}\n",
    "\n",
    "\n",
    "# class ModelNameDetailView(RetrieveUpdateDestroyAPIView):\n",
    "    # queryset = ModelName.objects.all()\n",
    "    # serializer_class = ModelNameSerializer\n",
    "\n",
    "    # def get(self, request, pk):\n",
    "        # pass\n",
    "    \n",
    "    # def delete(self, request, pk):\n",
    "        # pass"
   ]
  },
  {
   "attachments": {},
   "cell_type": "markdown",
   "metadata": {},
   "source": [
    "* Changing the name of the lookup field"
   ]
  },
  {
   "cell_type": "code",
   "execution_count": 21,
   "metadata": {},
   "outputs": [],
   "source": [
    "# from rest_framework.generics import ListCreateAPIView\n",
    "# from .models import ModelName\n",
    "# from .serializers import ModelNameSerializer\n",
    "\n",
    "\n",
    "# class ModelNameListView(ListCreateAPIView):\n",
    "    # queryset = ModelName.objects.all()\n",
    "    # serializer_class = ModelNameSerializer\n",
    "    # lookup_field = \"custom_name\""
   ]
  },
  {
   "attachments": {},
   "cell_type": "markdown",
   "metadata": {},
   "source": [
    "* Overriding base queryset and serializer_class\n",
    "* The get_queryset implements nested urls"
   ]
  },
  {
   "cell_type": "code",
   "execution_count": 22,
   "metadata": {},
   "outputs": [],
   "source": [
    "# from rest_framework.generics import ListCreateAPIView, RetrieveUpdateDestroyAPIView\n",
    "# from .models import ModelName\n",
    "# from .serializers import ModelNameReadSerializer, ModelNameWriteSerializer\n",
    "\n",
    "# class ModelNameListAPIView(ListCreateAPIView):\n",
    "    # def get_queryset(self):\n",
    "        # return ModelName.objects.filter(related_model_name__uuid=self.kwargs.get(\"uuid\"))\n",
    "\n",
    "    # def get_serializer_class(self):\n",
    "        # if self.request.method == \"GET\":\n",
    "            # return ModelNameReadSerializer\n",
    "        # return ModelNameWriteSerializer"
   ]
  },
  {
   "attachments": {},
   "cell_type": "markdown",
   "metadata": {},
   "source": [
    "* Using non-standard lookup fields"
   ]
  },
  {
   "cell_type": "code",
   "execution_count": 23,
   "metadata": {},
   "outputs": [],
   "source": [
    "# from django.shortcuts import get_object_or_404\n",
    "# from rest_framework.generics import RetrieveUpdateDestroyAPIView\n",
    "# from .models import ModelName\n",
    "# from .serializers import ModelNameSerializer\n",
    "\n",
    "\n",
    "# class ModelNameDetailAPIView(RetrieveUpdateDestroyAPIView):\n",
    "    # queryset = ModelName.objects.all().annotate()\n",
    "    # serializer_class = ModelNameSerializer\n",
    "\n",
    "    # def get_object(self):\n",
    "        # return get_object_or_404(ModelName, uuid=self.kwargs.get(\"uuid\"))"
   ]
  },
  {
   "attachments": {},
   "cell_type": "markdown",
   "metadata": {},
   "source": [
    "* Using ViewSets\n",
    "    * Model view sets combines all the mixins and the generic view\n",
    "    * ModelViewSet allows all HTTP methods\n",
    "    * ReadOnlyModelViewSet prevents using writing HTTP methods"
   ]
  },
  {
   "cell_type": "code",
   "execution_count": 24,
   "metadata": {},
   "outputs": [],
   "source": [
    "# from rest_framework.viewsets import ModelViewSet\n",
    "# from .models import ModelName\n",
    "# from .serializers import ModelNameSerializer\n",
    "\n",
    "\n",
    "# class ModelNameViewSet(ModelViewSet):\n",
    "    # queryset = ModelName.objects.all()\n",
    "    # serializer_class = ModelNameSerializer\n",
    "\n",
    "    # def get_serializer_context(self):\n",
    "        # return {\"domain_pk\": self.kwargs.get(\"domain_pk\")}\n",
    "    \n",
    "    # def list(self, request, *args, **kwargs):\n",
    "        # Custom get implementation\n",
    "\n",
    "    # def destroy(self, request, *args, **kwargs):\n",
    "        # Custom delete implementation"
   ]
  },
  {
   "attachments": {},
   "cell_type": "markdown",
   "metadata": {},
   "source": [
    "* In a nested routers, to retrieve the domain object:\n",
    "    * Define **get_serializer_context** method to return the domain identifier\n",
    "    * Define **get_queryset** to filter sub-domain objects that are within the domain object"
   ]
  },
  {
   "attachments": {},
   "cell_type": "markdown",
   "metadata": {},
   "source": [
    "* Selecting the allowed HTTP methods"
   ]
  },
  {
   "cell_type": "code",
   "execution_count": 25,
   "metadata": {},
   "outputs": [],
   "source": [
    "# from rest_framework.viewsets import ModelViewSet\n",
    "# from .models import ModelName\n",
    "# from .serializers import ModelNameSerializer\n",
    "\n",
    "\n",
    "# class ModelNameViewSet(ModelViewSet):\n",
    "    # queryset = ModelName.objects.all()\n",
    "    # serializer_class = ModelNameSerializer\n",
    "    # http_method_names = [\"get\", \"post\", \"patch\", \"delete\"]"
   ]
  },
  {
   "attachments": {},
   "cell_type": "markdown",
   "metadata": {},
   "source": [
    "#### **10.4.3.** Filtering, Searching and Ordering"
   ]
  },
  {
   "attachments": {},
   "cell_type": "markdown",
   "metadata": {},
   "source": [
    "* Simple Filtering\n",
    "    * By using ?field_name= in front of the resource name in the URL"
   ]
  },
  {
   "cell_type": "code",
   "execution_count": 26,
   "metadata": {},
   "outputs": [],
   "source": [
    "# from rest_framework.viewsets import ModelViewSet\n",
    "# from .models import ModelName\n",
    "# from .serializers import ModelNameSerializer\n",
    "\n",
    "\n",
    "# class ModelNameViewSet(ModelViewSet):\n",
    "    # serializer_class = ModelNameSerializer\n",
    "    \n",
    "    # def get_queryset(self):\n",
    "        # queryset = ModelName.objects.all()\n",
    "        # filter_param = self.request.query_param.get(\"filter_param\")\n",
    "        # if filter_param:\n",
    "            # queryset = queryset.filter(filter_param=filter_param)\n",
    "        # return queryset"
   ]
  },
  {
   "attachments": {},
   "cell_type": "markdown",
   "metadata": {},
   "source": [
    "* Generic Filtering\n",
    "    * install django-filter\n",
    "    * add django_filters to INSTALLED_APPS"
   ]
  },
  {
   "cell_type": "code",
   "execution_count": 27,
   "metadata": {},
   "outputs": [],
   "source": [
    "# from rest_framework.viewset import ModelViewSet\n",
    "# from django_filters.rest_framework import DjangoFilterBackend\n",
    "# from .models import ModelName\n",
    "# from .serializers import ModelNameSerializer\n",
    "\n",
    "\n",
    "# class ModelNameViewSet(ModelViewSet):\n",
    "    # queryset = ModelName.objects.all()\n",
    "    # serializer_class = ModelNameSerializer\n",
    "    # filter_backends = [DjangoFilterBackend]\n",
    "    # filterset_fields = [\"field_name_one\", \"field_name_two\"]"
   ]
  },
  {
   "attachments": {},
   "cell_type": "markdown",
   "metadata": {},
   "source": [
    "* To Customize the filtering lookup fields\n",
    "    * create a filter.py file\n",
    "    * in the view use filterset_class instead of filterset_fields"
   ]
  },
  {
   "cell_type": "code",
   "execution_count": 2,
   "metadata": {},
   "outputs": [],
   "source": [
    "# from django_filters.rest_framework import FilterSet\n",
    "# from django_filters import CharFilter, DateFilter\n",
    "# from .models import ModelName\n",
    "\n",
    "\n",
    "# class ModelNameFilter(FilterSet):\n",
    "    # field_name_one = CharFilter(field_name=\"field_name_one\", lookup_expr=\"icontains\")\n",
    "    # field_name_two = DateFilter(field_name=\"field_name_two\", lookup_expr=\"exact\")\n",
    "    \n",
    "    # class Meta:\n",
    "        # model = ModelName\n",
    "        # fields = [\"field_name_one\", \"field_name_two\"]"
   ]
  },
  {
   "attachments": {},
   "cell_type": "markdown",
   "metadata": {},
   "source": [
    "* Searching"
   ]
  },
  {
   "cell_type": "code",
   "execution_count": 29,
   "metadata": {},
   "outputs": [],
   "source": [
    "# from rest_framework.viewset import ModelViewSet\n",
    "# from rest_framework.filters import SearchFilter\n",
    "# from .models import ModelName\n",
    "# from .serializers import ModelNameSerializer\n",
    "\n",
    "\n",
    "# class ModelNameViewSet(ModelViewSet):\n",
    "    # queryset = ModelName.objects.all()\n",
    "    # serializer_class = ModelNameSerializer\n",
    "    # filter_backends = [SearchFilter]\n",
    "    # search_fields = [\"field_name_one\", \"field_name_two\"]"
   ]
  },
  {
   "attachments": {},
   "cell_type": "markdown",
   "metadata": {},
   "source": [
    "* Ordering"
   ]
  },
  {
   "cell_type": "code",
   "execution_count": 30,
   "metadata": {},
   "outputs": [],
   "source": [
    "# from rest_framework.viewset import ModelViewSet\n",
    "# from rest_framework.filters import OrderingFilter\n",
    "# from .models import ModelName\n",
    "# from .serializers import ModelNameSerializer\n",
    "\n",
    "\n",
    "# class ModelNameViewSet(ModelViewSet):\n",
    "    # queryset = ModelName.objects.all()\n",
    "    # serializer_class = ModelNameSerializer\n",
    "    # filter_backends = [OrderingFilter]\n",
    "    # ordering_fields = [\"field_name_one\", \"field_name_two\"]"
   ]
  },
  {
   "attachments": {},
   "cell_type": "markdown",
   "metadata": {},
   "source": [
    "#### **10.4.4.** Pagination"
   ]
  },
  {
   "cell_type": "code",
   "execution_count": 31,
   "metadata": {},
   "outputs": [],
   "source": [
    "# from rest_framework.viewset import ModelViewSet\n",
    "# from rest_framework.pagination import PageNumberPagination\n",
    "# from .models import ModelName\n",
    "# from .serializers import ModelNameSerializer\n",
    "\n",
    "\n",
    "# class ModelNameViewSet(ModelViewSet):\n",
    "    # queryset = ModelName.objects.all()\n",
    "    # serializer_class = ModelNameSerializer\n",
    "    # pagination_class = PageNumberPagination"
   ]
  },
  {
   "attachments": {},
   "cell_type": "markdown",
   "metadata": {},
   "source": [
    "* To customize the pagination:\n",
    "    * Create pagination.py\n",
    "    * set pagination_class equal to the CustomPagination class"
   ]
  },
  {
   "cell_type": "code",
   "execution_count": 32,
   "metadata": {},
   "outputs": [],
   "source": [
    "# from rest_framework.pagination import PageNumberPagination\n",
    "\n",
    "\n",
    "# class CustomPagination(PageNumberPagination):\n",
    "    # page_size = 10"
   ]
  },
  {
   "attachments": {},
   "cell_type": "markdown",
   "metadata": {},
   "source": [
    "#### **10.4.5.** Actions"
   ]
  },
  {
   "attachments": {},
   "cell_type": "markdown",
   "metadata": {},
   "source": [
    "* actions can be used to define a function within the view\n",
    "* actions can be called in the url using their function name:\n",
    "    * /view_name/action_name/"
   ]
  },
  {
   "cell_type": "code",
   "execution_count": 33,
   "metadata": {},
   "outputs": [],
   "source": [
    "# from rest_framework.viewsets import ModelViewSet\n",
    "# from rest_framework.decorators import action\n",
    "# from .models import ModelName\n",
    "# from api.serializers import ModelNameSerializer\n",
    "\n",
    "\n",
    "# class ModelNameViewSet(ModelViewSet):\n",
    "    # queryset = ModelName.objects.all()\n",
    "    # serializer_class = ModelNameSerializer\n",
    "\n",
    "    # @action(detail=False, methods=[\"GET\", \"POST\"])\n",
    "    # def action_name(self, request):\n",
    "        # check the method type\n",
    "        # query the database\n",
    "        # apply some logic on the data\n",
    "        # serializer the query result\n",
    "        # send a response"
   ]
  },
  {
   "attachments": {},
   "cell_type": "markdown",
   "metadata": {},
   "source": [
    "### **10.5.** Django Rest URLs"
   ]
  },
  {
   "attachments": {},
   "cell_type": "markdown",
   "metadata": {},
   "source": [
    "* It is recommended to version the api url "
   ]
  },
  {
   "cell_type": "code",
   "execution_count": 34,
   "metadata": {},
   "outputs": [],
   "source": [
    "# from django.urls import path, include\n",
    "\n",
    "# urlpatterns = [\n",
    "    # path(\"api/v1/\", include(\"app_name.urls\", namespace=\"app_name\")),\n",
    "# ]"
   ]
  },
  {
   "attachments": {},
   "cell_type": "markdown",
   "metadata": {},
   "source": [
    "* URL pattern for using function based and class based (APIView and Generic) views, "
   ]
  },
  {
   "cell_type": "code",
   "execution_count": 35,
   "metadata": {},
   "outputs": [],
   "source": [
    "# from django.urls import path\n",
    "# from .views import view_name_list, view_name_details, ModelNameListView, ModelNameDetailView\n",
    "\n",
    "# app_name = \"the_namespace_provided_in_the_urls\"\n",
    "# urlpatterns = [\n",
    "    # path(route=\"view_name/\", view=view_name_list, name=\"view_name:list\"),\n",
    "    # path(route=\"view_name/<slug|str|int:parameter>/\", view=view_name_details, name=\"view_name:details\"),\n",
    "    # path(route=\"class_view_name/\", view=ModelViewName.as_view(), name=\"class_view_name:list\"),\n",
    "    # path(route=\"class_view_name/<type:parameter>/\", view=ModelNameDetailView.as_view(), name=\"class_view_name:detail\"),\n",
    "# ]"
   ]
  },
  {
   "attachments": {},
   "cell_type": "markdown",
   "metadata": {},
   "source": [
    "* URL pattern for using nested URLs with generic API views"
   ]
  },
  {
   "cell_type": "code",
   "execution_count": 36,
   "metadata": {},
   "outputs": [],
   "source": [
    "# from django.urls import path\n",
    "# from .views import ModelNameListAPIView, ModelNameDetailAPIView\n",
    "\n",
    "# app_name = \"namespace\"\n",
    "# url_patterns = [\n",
    "    # path(\n",
    "        # route=\"lv_one/<uuid:uuid>/lv_two/\",\n",
    "        # view=ModelNameListAPIView.as_view(),\n",
    "        # name=\"view_name_list\",\n",
    "    # ),\n",
    "    # path(\n",
    "        # route=\"lv_one/<uuid:uuid_1>/lv_two/<uuid:uuid_2>/\",\n",
    "        # view=ModelNameDetailAPIView.as_view,\n",
    "        # name=\"view_name_detail\",\n",
    "    # )\n",
    "# ]"
   ]
  },
  {
   "attachments": {},
   "cell_type": "markdown",
   "metadata": {},
   "source": [
    "* **Routers** are URL patterns for using ViewSets\n",
    "    * SimpleRouters:\n",
    "        * Define the list and details end points for each resources registered\n",
    "    * DefaultRouter:\n",
    "        * Define the list and details end points for each resources registered\n",
    "        * Provides end points for each resources registered\n",
    "        * Provides .json for each end points"
   ]
  },
  {
   "cell_type": "code",
   "execution_count": 37,
   "metadata": {},
   "outputs": [],
   "source": [
    "# from django.urls import path, include\n",
    "# from rest_framework.routers import SimpleRouter\n",
    "# from .views import ModelNameViewSet, AnotherModelNameViewSet\n",
    "\n",
    "\n",
    "# router = SimpleRouter()\n",
    "# router.register(prefix=\"some_name\", viewset=ModelNameViewSet)\n",
    "# router.register(prefix=\"some_other_name\", viewset=AnotherModelNameViewSet)\n",
    "\n",
    "# urlpatterns = [\n",
    "    # path(\"\", include(router.urls)),\n",
    "# ]"
   ]
  },
  {
   "attachments": {},
   "cell_type": "markdown",
   "metadata": {},
   "source": [
    "* Nested Routers\n",
    "    * To use install drf-nested-routers"
   ]
  },
  {
   "cell_type": "code",
   "execution_count": 38,
   "metadata": {},
   "outputs": [],
   "source": [
    "# from django.urls import path, include\n",
    "# from rest_framework_nested import routers\n",
    "# from .views import DomainViewSet, SubDomainViewSet\n",
    "\n",
    "\n",
    "# router = routers.DefaultRouter()\n",
    "# router.register(prefix=\"domain_name\", viewset=DomainViewSet, basename=\"domain-name\")\n",
    "\n",
    "# sub_domain_router = routers.NestedDefaultRouter(parent_router=router, parent_prefix=\"domain_name\", lookup=\"domain_name\")\n",
    "# sub_domain_router.register(prefix=\"sub_domain_name\", viewset=SubDomainViewSet, basename=\"domain-sub_domain\")\n",
    "\n",
    "# urlpatterns = [\n",
    "    # path(\"\", include(router.urls)),\n",
    "    # path(\"\", include(sub_domain_router.urls)),\n",
    "# ]"
   ]
  },
  {
   "attachments": {},
   "cell_type": "markdown",
   "metadata": {},
   "source": [
    "### **10.7.** Rest Framework Settings"
   ]
  },
  {
   "attachments": {},
   "cell_type": "markdown",
   "metadata": {},
   "source": [
    "* Django rest framework settings can be customized in the settings.py"
   ]
  },
  {
   "cell_type": "code",
   "execution_count": 39,
   "metadata": {},
   "outputs": [],
   "source": [
    "REST_FRAMEWORK = {\n",
    "    \"COERCE_DECIMAL_TO_STRING\": False, # Prevent displaying integer fields as string\n",
    "    \"DEFAULT_PAGINATION_CLASS\": \"rest_framework.pagination.PageNumberPagination\",\n",
    "    \"PAGE_SIZE\": 10,\n",
    "}"
   ]
  },
  {
   "attachments": {},
   "cell_type": "markdown",
   "metadata": {},
   "source": [
    "### **10.8.** Rest Framework Permissions"
   ]
  },
  {
   "attachments": {},
   "cell_type": "markdown",
   "metadata": {},
   "source": [
    "* Permissions are used to restrict user access to the resources\n",
    "* Permissions can be set globally for all views or for individual views"
   ]
  },
  {
   "attachments": {},
   "cell_type": "markdown",
   "metadata": {},
   "source": [
    "#### **10.8.1.** Global Permissions"
   ]
  },
  {
   "cell_type": "code",
   "execution_count": 40,
   "metadata": {},
   "outputs": [],
   "source": [
    "REST_FRAMEWORK = {\n",
    "    \"DEFAULT_PERMISSION_CLASSES\": (\"rest_framework.permissions.IsAdminUser\",),\n",
    "}"
   ]
  },
  {
   "attachments": {},
   "cell_type": "markdown",
   "metadata": {},
   "source": [
    "#### **10.8.2.** Individual Permissions"
   ]
  },
  {
   "cell_type": "code",
   "execution_count": 41,
   "metadata": {},
   "outputs": [],
   "source": [
    "# from rest_framework.viewsets import ModelViewSet\n",
    "# from rest_framework.permissions import IsAuthenticated, IsAdmin\n",
    "# from rest_framework.decorators import action\n",
    "# from .models import ModelName\n",
    "# from .api/serializers import ModelNameSerializer\n",
    "\n",
    "\n",
    "# class ModelNameViewSet(ModelViewSet):\n",
    "    # queryset = ModelName.objects.all()\n",
    "    # serializer_class = ModelNameSerializer\n",
    "    # permission_classes = [IsAuthenticated,]\n",
    "\n",
    "    # @action(display=True, methods=[\"GET\", \"PUT\"], permission_classes=[IsAdmin])\n",
    "    # def action_name(self, request):\n",
    "        # action related logic"
   ]
  },
  {
   "cell_type": "code",
   "execution_count": 55,
   "metadata": {},
   "outputs": [],
   "source": [
    "# from rest_framework.viewsets import ModelViewSet\n",
    "# from rest_framework.permissions import IsAuthenticated, IsAdmin\n",
    "# from rest_framework.decorators import action\n",
    "# from .models import ModelName\n",
    "# from .api/serializers import ModelNameSerializer\n",
    "\n",
    "\n",
    "# class ModelNameViewSet(ModelViewSet):\n",
    "    # serializer_class = ModelNameSerializer\n",
    "\n",
    "    # def get_queryset(self):\n",
    "        # if self.request.user.is_staff:\n",
    "            # return ModelName.objects.all()\n",
    "        # return ModelName.objects.filter(user_id=self.request.user.id)"
   ]
  },
  {
   "cell_type": "code",
   "execution_count": 42,
   "metadata": {},
   "outputs": [],
   "source": [
    "# from rest_framework.viewsets import ModelViewSet\n",
    "# from rest_framework.permissions import IsAuthenticated, IsAdmin\n",
    "# from .models import ModelName\n",
    "# from .api/serializers import ModelNameSerializer\n",
    "\n",
    "\n",
    "# class ModelNameViewSet(ModelViewSet):\n",
    "    # queryset = ModelName.objects.all()\n",
    "    # serializer_class = ModelNameSerializer\n",
    "\n",
    "    # def get_permissions(self):\n",
    "        # if self.action == \"list\" or self.request.method == \"get\":\n",
    "            # return [IsAdmin()]\n",
    "        # return [IsAuthenticated()]"
   ]
  },
  {
   "attachments": {},
   "cell_type": "markdown",
   "metadata": {},
   "source": [
    "#### **10.8.3.** Custom Permissions"
   ]
  },
  {
   "attachments": {},
   "cell_type": "markdown",
   "metadata": {},
   "source": [
    "* permissions can be created with custom functionalities in permissions.py and be used"
   ]
  },
  {
   "cell_type": "code",
   "execution_count": 43,
   "metadata": {},
   "outputs": [],
   "source": [
    "# from rest_framework import permissions\n",
    "\n",
    "\n",
    "# class IsAdminOrReadOnly(permissions.BasePermission):\n",
    "    # def has_permission(self, request, view):\n",
    "        # if request.method in permissions.SAFE_METHODS:\n",
    "            # return True\n",
    "        # return bool(self.user and self.user.is_staff):"
   ]
  },
  {
   "attachments": {},
   "cell_type": "markdown",
   "metadata": {},
   "source": [
    "#### **10.8.4.** Custom Model Permissions"
   ]
  },
  {
   "attachments": {},
   "cell_type": "markdown",
   "metadata": {},
   "source": [
    "* To access the permissions defined in the Meta class of a model"
   ]
  },
  {
   "cell_type": "code",
   "execution_count": 44,
   "metadata": {},
   "outputs": [],
   "source": [
    "# from rest_framework import permissions\n",
    "\n",
    "\n",
    "# class PermissionName(permissions.BasePermission):\n",
    "    # def has_permission(self, request, view):\n",
    "        # return request.user.has_perm(\"app_name.model_permissions_code_name\")"
   ]
  },
  {
   "attachments": {},
   "cell_type": "markdown",
   "metadata": {},
   "source": [
    "### **10.9.** Token Based Authentication"
   ]
  },
  {
   "attachments": {},
   "cell_type": "markdown",
   "metadata": {},
   "source": [
    "* Standard method for authenticating users with RESTful APIs"
   ]
  },
  {
   "attachments": {},
   "cell_type": "markdown",
   "metadata": {},
   "source": [
    "* The process of this authentication is as follows:\n",
    "    1. The client login by providing authentication credentials\n",
    "    2. The server evaluate the authentication credentials\n",
    "        * If authorized: The server will return a token to the client\n",
    "        * If not authorized: The server will return an error\n",
    "    3. The client can use the token to access protected resources"
   ]
  },
  {
   "attachments": {},
   "cell_type": "markdown",
   "metadata": {},
   "source": [
    "* Each time the client tries to access the server resources:\n",
    "    * The server checks the request headers\n",
    "    * If the client token is found and valid:\n",
    "        * client will access that resource"
   ]
  },
  {
   "attachments": {},
   "cell_type": "markdown",
   "metadata": {},
   "source": [
    "* There are two methods for implementing token authentication:\n",
    "    1. **Token Based Authentication:** Storing the token in the database\n",
    "    2. **JSON Web Token Authentication:** Storing the token in the cookie"
   ]
  },
  {
   "attachments": {},
   "cell_type": "markdown",
   "metadata": {},
   "source": [
    "### **10.10.** Djoser and JWT"
   ]
  },
  {
   "attachments": {},
   "cell_type": "markdown",
   "metadata": {},
   "source": [
    "#### **10.10.1.** Overview"
   ]
  },
  {
   "attachments": {},
   "cell_type": "markdown",
   "metadata": {},
   "source": [
    "* Djoser is the restful implementation for django authentication system\n",
    "* Djoser provides views for registration, login, logout and more\n",
    "* Djoser relies on authentication backends\n",
    "    1. Django Token Based Authentication\n",
    "    2. JSON Web Token Authentication"
   ]
  },
  {
   "attachments": {},
   "cell_type": "markdown",
   "metadata": {},
   "source": [
    "* By using the djoser API end points, we can:\n",
    "    1. register new users --> /auth/users/\n",
    "    2. log in and generate token --> /auth/jwt/create/\n",
    "    3. getting the current user --> /auth/users/me/\n",
    "    3. evaluate token --> /auth/jwt/verify/\n",
    "    4. refresh token --> /auth/jwt/refresh/\n",
    "    5. change password --> \n",
    "    6. forget password"
   ]
  },
  {
   "attachments": {},
   "cell_type": "markdown",
   "metadata": {},
   "source": [
    "#### **10.10.2.** Install and Configure"
   ]
  },
  {
   "attachments": {},
   "cell_type": "markdown",
   "metadata": {},
   "source": [
    "* Installing djoser and simple_jwt"
   ]
  },
  {
   "cell_type": "code",
   "execution_count": 45,
   "metadata": {},
   "outputs": [],
   "source": [
    "# pipenv install djoser\n",
    "# pipenv install djangorestframework_simplejwt"
   ]
  },
  {
   "attachments": {},
   "cell_type": "markdown",
   "metadata": {},
   "source": [
    "* Configuring djoser and jwt"
   ]
  },
  {
   "cell_type": "code",
   "execution_count": 46,
   "metadata": {},
   "outputs": [],
   "source": [
    "# INSTALLED_APPS = [\n",
    "    # \"rest_framework\",\n",
    "    # \"djoser\",\n",
    "# ]"
   ]
  },
  {
   "cell_type": "code",
   "execution_count": 47,
   "metadata": {},
   "outputs": [],
   "source": [
    "# from django.urls import path, include\n",
    "\n",
    "\n",
    "# urlpatterns = [\n",
    "    # path(r\"^auth/\", include(\"djoser.urls\")),\n",
    "    # path(r\"^auth/\", include(\"djoser.urls.jwt\")),\n",
    "# ]"
   ]
  },
  {
   "cell_type": "code",
   "execution_count": 48,
   "metadata": {},
   "outputs": [],
   "source": [
    "# REST_FRAMEWORK = {\n",
    "    # 'DEFAULT_AUTHENTICATION_CLASSES': (\n",
    "        # 'rest_framework_simplejwt.authentication.JWTAuthentication',\n",
    "    # ),\n",
    "# }"
   ]
  },
  {
   "cell_type": "code",
   "execution_count": 49,
   "metadata": {},
   "outputs": [],
   "source": [
    "# SIMPLE_JWT = {\n",
    "    # 'AUTH_HEADER_TYPES': ('JWT', \"jwt\", \"Bearer\", \"bearer\",),\n",
    "# }"
   ]
  },
  {
   "attachments": {},
   "cell_type": "markdown",
   "metadata": {},
   "source": [
    "#### **10.10.3.** Djoser Serializer"
   ]
  },
  {
   "attachments": {},
   "cell_type": "markdown",
   "metadata": {},
   "source": [
    "* Djoser uses its default serializers to translate data back and forth\n",
    "* These default serializer can be overwritten"
   ]
  },
  {
   "cell_type": "code",
   "execution_count": 50,
   "metadata": {},
   "outputs": [],
   "source": [
    "# from djoser.serializers import UserCreateSerializer as BaseUserCreateSerializer\n",
    "\n",
    "\n",
    "# class UserCreateSerializer(BaseUserCreateSerializer):\n",
    "    # class Meta(BaseUserCreateSerializer.Meta):\n",
    "        # fields = [\"custom_field_name\", \"method_field_name\", \"model_field_name\", ...]"
   ]
  },
  {
   "cell_type": "code",
   "execution_count": 51,
   "metadata": {},
   "outputs": [],
   "source": [
    "# DJOSER = {\n",
    "    # \"SERIALIZERS\": {\n",
    "        # \"user_create\": \"app_path.app_name.serializers_path.serializers.SerializerName\",\n",
    "    # }\n",
    "# }"
   ]
  },
  {
   "attachments": {},
   "cell_type": "markdown",
   "metadata": {},
   "source": [
    "#### **10.10.4.** Regrading JWT"
   ]
  },
  {
   "attachments": {},
   "cell_type": "markdown",
   "metadata": {},
   "source": [
    "* JWT produces two tokens:\n",
    "    1. access: a short lived token used for authorizing the client\n",
    "    2. refresh: a long lived token used to renewing the access token when it becomes invalid"
   ]
  },
  {
   "attachments": {},
   "cell_type": "markdown",
   "metadata": {},
   "source": [
    "* To modify the duration of the tokens:"
   ]
  },
  {
   "cell_type": "code",
   "execution_count": 52,
   "metadata": {},
   "outputs": [],
   "source": [
    "# from datetime import timedelta\n",
    "\n",
    "\n",
    "# SIMPLE_JWT = {\n",
    "    # \"ACCESS_TOKEN_LIFETIME\": timedelta(minutes=5),\n",
    "    # \"REFRESH_TOKEN_LIFETIME\": timedelta(days=1),\n",
    "# }"
   ]
  },
  {
   "attachments": {},
   "cell_type": "markdown",
   "metadata": {},
   "source": [
    "* Getting current user from token"
   ]
  },
  {
   "cell_type": "code",
   "execution_count": 53,
   "metadata": {},
   "outputs": [],
   "source": [
    "# from django.shortcuts import get_object_or_404\n",
    "# from rest_framework.response import Response\n",
    "# from rest_framework.decorators import api_view\n",
    "# from .models import UserModelName\n",
    "# from .api.serializers import UserSerializer\n",
    "\n",
    "\n",
    "# @api_view()\n",
    "# def method_name_view(request):\n",
    "    # user = get_object_or_404(UserModelName, pk=request.user.pk)\n",
    "    # serializer = UserSerializer(user)\n",
    "    # return Response(serializer.data)"
   ]
  }
 ],
 "metadata": {
  "kernelspec": {
   "display_name": "onlineStoreProject-J7_hTXa7",
   "language": "python",
   "name": "python3"
  },
  "language_info": {
   "codemirror_mode": {
    "name": "ipython",
    "version": 3
   },
   "file_extension": ".py",
   "mimetype": "text/x-python",
   "name": "python",
   "nbconvert_exporter": "python",
   "pygments_lexer": "ipython3",
   "version": "3.10.6 (main, Nov 14 2022, 16:10:14) [GCC 11.3.0]"
  },
  "orig_nbformat": 4,
  "vscode": {
   "interpreter": {
    "hash": "0b9db7feabf8187ce10d06807770cbd27d6509ac4852a4a110f21595640d9d55"
   }
  }
 },
 "nbformat": 4,
 "nbformat_minor": 2
}
