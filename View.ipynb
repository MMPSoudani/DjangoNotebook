{
 "cells": [
  {
   "attachments": {},
   "cell_type": "markdown",
   "metadata": {},
   "source": [
    "# **1.** Overview"
   ]
  },
  {
   "attachments": {},
   "cell_type": "markdown",
   "metadata": {},
   "source": [
    "* Views are used to\n",
    "    1. define how an HTTP requests is handled\n",
    "    2. A responses is generated\n",
    "    3. And the response is returned to the client"
   ]
  },
  {
   "attachments": {},
   "cell_type": "markdown",
   "metadata": {},
   "source": [
    "* There two styles for writing views:\n",
    "    1. Function Based Views\n",
    "    2. Class Based Views"
   ]
  },
  {
   "attachments": {},
   "cell_type": "markdown",
   "metadata": {},
   "source": [
    "# **2.** FBV or CBV"
   ]
  },
  {
   "attachments": {},
   "cell_type": "markdown",
   "metadata": {},
   "source": [
    "* Use CBVs if:\n",
    "    1. Generic views closely match the requirements\n",
    "    2. Use class base views only requires overriding attributes\n",
    "    3. Need to subclass the view to create other views"
   ]
  },
  {
   "attachments": {},
   "cell_type": "markdown",
   "metadata": {},
   "source": [
    "* Use FBVs if:\n",
    "    1. It requires to modify django's source code to make the CBV work\n",
    "    2. The view is very complex to implement using CBVs\n",
    "    3. The view handles more than one requests"
   ]
  },
  {
   "attachments": {},
   "cell_type": "markdown",
   "metadata": {},
   "source": [
    "# **3.** Function Based Views"
   ]
  },
  {
   "attachments": {},
   "cell_type": "markdown",
   "metadata": {},
   "source": [
    "* Returning an http response with HTML elements"
   ]
  },
  {
   "cell_type": "code",
   "execution_count": 13,
   "metadata": {},
   "outputs": [],
   "source": [
    "# from django.http import HttpResponse\n",
    "\n",
    "\n",
    "# def view_name(request):\n",
    "    # return HttpResponse(\"<h1>Hello World</h1>\")"
   ]
  },
  {
   "attachments": {},
   "cell_type": "markdown",
   "metadata": {},
   "source": [
    "* Rendering an HTML page\n",
    "    * Can send data into the html page using context dictionary"
   ]
  },
  {
   "cell_type": "code",
   "execution_count": 14,
   "metadata": {},
   "outputs": [],
   "source": [
    "# from django.shortcuts import render\n",
    "\n",
    "\n",
    "# def view_name(request):\n",
    "    # context = {\n",
    "        # \"first_var\": value,\n",
    "        # \"second_var\": value,\n",
    "    # }\n",
    "    \n",
    "    # return render(request, \"template_name.html\", context)"
   ]
  },
  {
   "attachments": {},
   "cell_type": "markdown",
   "metadata": {},
   "source": [
    "**BEST PRACTICE** Create utility functions and encapsulate repeated code in them"
   ]
  },
  {
   "attachments": {},
   "cell_type": "markdown",
   "metadata": {},
   "source": [
    "* In the utils.py file"
   ]
  },
  {
   "cell_type": "code",
   "execution_count": 15,
   "metadata": {},
   "outputs": [],
   "source": [
    "# from django.core.exceptions import PermissionDenied\n",
    "# from django.http import HttpRequest, HttpResponse\n",
    "\n",
    "\n",
    "# def check_has_permission(request: HttpRequest) -> HttpResponse:\n",
    "    # if request.user.attribute_name:\n",
    "        # request.attribute_name = value\n",
    "        # return request\n",
    "    # raise PermissionDenied"
   ]
  },
  {
   "attachments": {},
   "cell_type": "markdown",
   "metadata": {},
   "source": [
    "* In the decorators.py file"
   ]
  },
  {
   "cell_type": "code",
   "execution_count": 16,
   "metadata": {},
   "outputs": [],
   "source": [
    "# import functools\n",
    "# from .utils import check_has_permission\n",
    "\n",
    "\n",
    "# def check_has_permission_decorator(view_func):\n",
    "    # @functools.wraps(view_func)\n",
    "    # def new_view_func(request, *args, **kwargs):\n",
    "        # request = check_has_permission(request)\n",
    "        # response = view_func(request, *args, **kwargs)\n",
    "        # return response\n",
    "    # return new_view_func"
   ]
  },
  {
   "cell_type": "code",
   "execution_count": 17,
   "metadata": {},
   "outputs": [],
   "source": [
    "# from django.shortcuts import get_object_or_404, render\n",
    "# from django.http import HttpRequest, HttpResponse\n",
    "# from .models import ModelName\n",
    "# from .decorators import check_has_permission_decorator\n",
    "\n",
    "\n",
    "# @check_has_permission_decorator\n",
    "# def model_name_list(request: HttpRequest) -> HttpResponse:\n",
    "    # context = {\"queryset\": ModelName.objects.all()}\n",
    "    # return render(request=request, template_name=\"\", context=context)\n",
    "\n",
    "\n",
    "# @check_has_permission_decorator\n",
    "# def modelName-detail(request: HttpRequest, pk: int) -> HttpResponse:\n",
    "    # context = {\"queryset\": get_object_or_404(ModelName, pk=pk)}\n",
    "    # return render(request=request, template_name=\"\", context=context)"
   ]
  },
  {
   "attachments": {},
   "cell_type": "markdown",
   "metadata": {},
   "source": [
    "# 4. Class Based Views"
   ]
  },
  {
   "attachments": {},
   "cell_type": "markdown",
   "metadata": {},
   "source": [
    "* Above implementation using FBV can be implemented as CBV as follows"
   ]
  },
  {
   "cell_type": "code",
   "execution_count": 18,
   "metadata": {},
   "outputs": [],
   "source": [
    "# from django.views.generic import DetailView\n",
    "# from .models import ModelName\n",
    "# from .utils import check_has_permission\n",
    "\n",
    "\n",
    "# class ModelNameDetail(DetailView):\n",
    "    # model = ModelName\n",
    "\n",
    "    # def dispatch(self, request, *args, **kwargs):\n",
    "        # request = check_has_permission(request)\n",
    "        # return super().dispatch(request, *args, **kwargs)"
   ]
  },
  {
   "attachments": {},
   "cell_type": "markdown",
   "metadata": {},
   "source": [
    "**BEST PRACTICE** Create mixins classes and encapsulate repeated code in them"
   ]
  },
  {
   "cell_type": "markdown",
   "metadata": {},
   "source": [
    "### 4.1. CRUD Operations with templates"
   ]
  },
  {
   "cell_type": "code",
   "execution_count": null,
   "metadata": {},
   "outputs": [],
   "source": [
    "# from django.views.generic import (\n",
    "#     ListView, DetailView, CreateView, UpdateView, DeleteView,\n",
    "# )\n",
    "# from django.urls import reverse_lazy\n",
    "\n",
    "# from projectApps.app_name.models import ModelName\n",
    "\n",
    "# class ModelNameListView(ListView):\n",
    "#     model = ModelNmae\n",
    "#     template_name = \"list_temaplte_name.html\"\n",
    "#     context_object_name = \"custom_name\"\n",
    "\n",
    "\n",
    "# class ModelNameDetailView(DetailView):\n",
    "#     model = ModelName\n",
    "#     temaplte_name = \"detail_template_name.html\"\n",
    "#     context_object_name = \"custom_name\"\n",
    "\n",
    "\n",
    "# class ModelNameCreateView(CreateView):\n",
    "#     model = ModelName\n",
    "#     temaplte_name = \"create_temaplte_name.html\"\n",
    "#     context_object_name = \"custom_name\"\n",
    "#     fields = [name of the model fields to be used for creating an object]\n",
    "\n",
    "#     def form_valid(self, form):\n",
    "#         instance = form.instance\n",
    "#         instance.user = self.request.user\n",
    "#         instance.save()\n",
    "#         return super().form_valid(form)\n",
    "\n",
    "\n",
    "# class ModelNameUpdateView(UpdateView):\n",
    "#     model = ModelName\n",
    "#     tempalte_name = \"update_template_name.html\"\n",
    "#     context_object_name = \"custom_name\"\n",
    "#     fields = [name of the model fields to be used for updating an object]\n",
    "\n",
    "\n",
    "# class ModelNameDeleteView(DeleteView):\n",
    "#     model = ModelName\n",
    "#     temaplte_name = \"delete_temaplte_name.html\"\n",
    "#     context_object_name = \"custom_name\"\n",
    "#     success_url = reverse_lazy(\"view_name_in_urlpatterns\")"
   ]
  },
  {
   "cell_type": "markdown",
   "metadata": {},
   "source": [
    "* Implementing the form_valid function in CreateView allows modifying the form's fields and their values"
   ]
  },
  {
   "cell_type": "markdown",
   "metadata": {},
   "source": [
    "# MIXINs"
   ]
  },
  {
   "cell_type": "markdown",
   "metadata": {},
   "source": [
    "* a special kind of multiple inheritance that Django uses to avoid duplicate code"
   ]
  },
  {
   "cell_type": "markdown",
   "metadata": {},
   "source": [
    "* Adding a login required permission to the view"
   ]
  },
  {
   "cell_type": "code",
   "execution_count": null,
   "metadata": {},
   "outputs": [],
   "source": [
    "# from django.views.generic import CreateView\n",
    "# from django.contrib.auth.mixin import LoginRequiredMixin\n",
    "\n",
    "\n",
    "# class ObjectCreateView(LoginRequiredMixin, CreateView):\n",
    "#     ..."
   ]
  },
  {
   "cell_type": "markdown",
   "metadata": {},
   "source": [
    "* Adding an loged in owner permission for update and delete views"
   ]
  },
  {
   "cell_type": "code",
   "execution_count": null,
   "metadata": {},
   "outputs": [],
   "source": [
    "# from django.views.generic import UpdateView, DeleteView\n",
    "# from django.contrib.auth.mixin import LoginRequiredMixin, UserPassesTestMixin\n",
    "\n",
    "# from project_apps.app_name.models import ModelName\n",
    "\n",
    "# class ObjectUpdateView(LoginRequiredMixin, UserPassesTestMixin, UpdateView):\n",
    "#     model = ModelName\n",
    "#     fields = (\"first_field\", \"second_field\",)\n",
    "#     template_name = \"temapltes/app_name/template_name.html\"\n",
    "\n",
    "#     def test_func(self):\n",
    "#         instance = self.get_object()\n",
    "#         return instance.user_field_name == self.request.user\n",
    "\n",
    "# class ObjectDeleteView(LoginRequiredMixin, UserPassesTestMixin, DeleteView):\n",
    "#     model = ModelName\n",
    "#     template_name = \"templates/app_name/template_name.html\"\n",
    "\n",
    "#     def test_func(self):\n",
    "#         instance = self.get_object()\n",
    "#         return instance.user_field_name == self.request.user"
   ]
  },
  {
   "attachments": {},
   "cell_type": "markdown",
   "metadata": {},
   "source": [
    "# Sending Emails"
   ]
  },
  {
   "attachments": {},
   "cell_type": "markdown",
   "metadata": {},
   "source": [
    "* Sending non-admin emails"
   ]
  },
  {
   "cell_type": "code",
   "execution_count": null,
   "metadata": {},
   "outputs": [],
   "source": [
    "# from django.core.mail import send_mail, BadHeaderError\n",
    "# from django.shortcut import render\n",
    "\n",
    "\n",
    "# def send_email_view(request):\n",
    "    # try:\n",
    "        # send_mail(\"subject\", \"message\", \"from_email\", [\"recipient_1\", \"recipient_2\", ...])\n",
    "        # return render(request, template_name=\"\", {\"success\": \"success_message\"})\n",
    "    # except BadHeaderError:\n",
    "        # return render(request, template_name=\"\", {\"error\": \"error_message\"})"
   ]
  },
  {
   "attachments": {},
   "cell_type": "markdown",
   "metadata": {},
   "source": [
    "* Sending admin emails"
   ]
  },
  {
   "cell_type": "code",
   "execution_count": null,
   "metadata": {},
   "outputs": [],
   "source": [
    "# from django.core.mail import mail_admins, BadHeaderError\n",
    "# from django.shortcut import render\n",
    "\n",
    "\n",
    "# def send_email_view(request):\n",
    "    # try:\n",
    "        # mail_admins(\"subject\", \"message\", html_message=\"another_message\")\n",
    "        # return render(request, template_name=\"\", {\"success\": \"success_message\"})\n",
    "    # except BadHeaderError:\n",
    "        # return render(request, template_name=\"\", {\"error\": \"error_message\"})"
   ]
  },
  {
   "attachments": {},
   "cell_type": "markdown",
   "metadata": {},
   "source": [
    "* Sending emails with attachments"
   ]
  },
  {
   "cell_type": "code",
   "execution_count": null,
   "metadata": {},
   "outputs": [],
   "source": [
    "# from django.core.mail import EmailMessage, BadHeaderError\n",
    "# from django.shortcuts import render\n",
    "\n",
    "\n",
    "# def send_email_view(request):\n",
    "    # try:\n",
    "        # message = EmailMessage(\"subject\", \"message\", \"from_email\", [\"recipient_1\", ...])\n",
    "        # message.attach_file(\"path_to_the_file\")\n",
    "        # message.send()\n",
    "        # return render(request, template_name=\"\", {\"success\": \"success_message\"})\n",
    "    # except BadHeaderError:\n",
    "        # return render(request, template_name=\"\", {\"error\": \"error_message\"})"
   ]
  },
  {
   "attachments": {},
   "cell_type": "markdown",
   "metadata": {},
   "source": [
    "* Sending emails using templates\n",
    "    * HTML templates can be used to embed django code to be replaced by context variables"
   ]
  },
  {
   "cell_type": "code",
   "execution_count": null,
   "metadata": {},
   "outputs": [],
   "source": [
    "# pipenv install django-templated-mail"
   ]
  },
  {
   "cell_type": "code",
   "execution_count": null,
   "metadata": {},
   "outputs": [],
   "source": [
    "# from django.core.mail import BadHeaderError\n",
    "# from django.shortcuts import render\n",
    "# from templated_mail.mail import BaseEmailMessage\n",
    "\n",
    "\n",
    "# def send_email_view(request):\n",
    "    # try:\n",
    "        # message = BaseEmailMessage(template_name=\"path/template.html\", context={})\n",
    "        # message.send([\"recipient_1\", ...])\n",
    "        # return render(request, template_name=\"\", {\"success\": \"success_message\"})\n",
    "    # except BadHeaderError:\n",
    "        # return render(request, template_name=\"\", {\"error\": \"error_message\"})"
   ]
  },
  {
   "attachments": {},
   "cell_type": "markdown",
   "metadata": {},
   "source": [
    "# 6. Creating and Executing Celery Tasks"
   ]
  },
  {
   "attachments": {},
   "cell_type": "markdown",
   "metadata": {},
   "source": [
    "* In the tasks.py"
   ]
  },
  {
   "cell_type": "code",
   "execution_count": null,
   "metadata": {},
   "outputs": [],
   "source": [
    "# from celery import shared_task\n",
    "\n",
    "\n",
    "# @shared_task\n",
    "# def task_name(parameters):\n",
    "    # defining the functionality"
   ]
  },
  {
   "attachments": {},
   "cell_type": "markdown",
   "metadata": {},
   "source": [
    "* In the views.py"
   ]
  },
  {
   "cell_type": "code",
   "execution_count": null,
   "metadata": {},
   "outputs": [],
   "source": [
    "# from django.shortcuts import render\n",
    "# from .tasks import task_name\n",
    "\n",
    "\n",
    "# def view_name(request):\n",
    "    # task_name.delay(required_parameters)\n",
    "    # view functionality"
   ]
  },
  {
   "attachments": {},
   "cell_type": "markdown",
   "metadata": {},
   "source": [
    "# 7. Caching Data"
   ]
  },
  {
   "attachments": {},
   "cell_type": "markdown",
   "metadata": {},
   "source": [
    "* Caching a view the hard way"
   ]
  },
  {
   "cell_type": "code",
   "execution_count": null,
   "metadata": {},
   "outputs": [],
   "source": [
    "# from django.core.cache import cache\n",
    "# from django.shortcuts import render\n",
    "\n",
    "\n",
    "# def view_name(request):\n",
    "    # key = \"name_for_cached_data\"\n",
    "\n",
    "    # if cache.get(key) is None:\n",
    "        # response = from an API or a query\n",
    "        # data = response.convert_to_json_if_need_be\n",
    "        # cache.set(key, data)\n",
    "    \n",
    "    # return render(request=request, template_name=\"name.html\", context={\"data\": cache.get(key)})"
   ]
  },
  {
   "attachments": {},
   "cell_type": "markdown",
   "metadata": {},
   "source": [
    "* Caching a view the easy way"
   ]
  },
  {
   "cell_type": "code",
   "execution_count": null,
   "metadata": {},
   "outputs": [],
   "source": [
    "# from django.views.decorators.cache import cache_page\n",
    "# from django.shortcuts import render\n",
    "\n",
    "\n",
    "# #cache_page(TIMEOUT)\n",
    "# def view_name(request):\n",
    "    # response = from an API or a query\n",
    "    # data = response.convert_to_json_if_need_be\n",
    "\n",
    "    # return render(request=request, template_name=\"name.html\", context={\"data\": data})"
   ]
  },
  {
   "cell_type": "code",
   "execution_count": null,
   "metadata": {},
   "outputs": [],
   "source": [
    "# from django.shortcuts import render\n",
    "# from django.views.decorators.cache import cache_page\n",
    "# from django.utils.decorators import method_decorator\n",
    "# from rest_framework.views import APIView\n",
    "\n",
    "\n",
    "# class ViewName(APIView):\n",
    "    # @method_decorator(cache_page(TIMEOUT))\n",
    "    # def get(self, request):\n",
    "        # response = from an API or a query\n",
    "        # data = convert response to json if need be\n",
    "        # return render(request=request, template_name=\"name.html\", context={\"data\": data})\n"
   ]
  },
  {
   "attachments": {},
   "cell_type": "markdown",
   "metadata": {},
   "source": [
    "# 8. Logging"
   ]
  },
  {
   "cell_type": "code",
   "execution_count": null,
   "metadata": {},
   "outputs": [],
   "source": [
    "# from django.shortcuts import render\n",
    "# import logging\n",
    "\n",
    "\n",
    "# logger = logging.getLogger(__name__)\n",
    "\n",
    "\n",
    "# def view_name(request):\n",
    "    # try:\n",
    "        # logger.info(\"message\")\n",
    "        # logic\n",
    "        # logger.warning(\"message\")\n",
    "        # return render(request, \"name.html\")\n",
    "    # except SomeError:\n",
    "        # logger.critical(\"message\")"
   ]
  },
  {
   "cell_type": "code",
   "execution_count": null,
   "metadata": {},
   "outputs": [],
   "source": []
  }
 ],
 "metadata": {
  "kernelspec": {
   "display_name": "onlineStoreProject-J7_hTXa7",
   "language": "python",
   "name": "python3"
  },
  "language_info": {
   "codemirror_mode": {
    "name": "ipython",
    "version": 3
   },
   "file_extension": ".py",
   "mimetype": "text/x-python",
   "name": "python",
   "nbconvert_exporter": "python",
   "pygments_lexer": "ipython3",
   "version": "3.10.6 (main, Nov 14 2022, 16:10:14) [GCC 11.3.0]"
  },
  "orig_nbformat": 4,
  "vscode": {
   "interpreter": {
    "hash": "0b9db7feabf8187ce10d06807770cbd27d6509ac4852a4a110f21595640d9d55"
   }
  }
 },
 "nbformat": 4,
 "nbformat_minor": 2
}
