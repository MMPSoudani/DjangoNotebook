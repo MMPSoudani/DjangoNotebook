{
 "cells": [
  {
   "attachments": {},
   "cell_type": "markdown",
   "metadata": {},
   "source": [
    "# Django Templates"
   ]
  },
  {
   "attachments": {},
   "cell_type": "markdown",
   "metadata": {},
   "source": [
    "* Templates are used to create an HTML page\n",
    "* Using django templates, data can be implemented directly into the HTML page"
   ]
  },
  {
   "attachments": {},
   "cell_type": "markdown",
   "metadata": {},
   "source": [
    "* The folder hierarchy of the templates can be as follows:"
   ]
  },
  {
   "cell_type": "code",
   "execution_count": null,
   "metadata": {},
   "outputs": [],
   "source": [
    "# templates/\n",
    "# |---base.html\n",
    "# |---dashboard.html\n",
    "# |---header.html\n",
    "# |---footer.html\n",
    "# |---app_name/\n",
    "# |   |---app_name_base.html\n",
    "# |   |---app_name_detail.html"
   ]
  },
  {
   "attachments": {},
   "cell_type": "markdown",
   "metadata": {},
   "source": [
    "* The path to the template directory must be set in the settings.py file"
   ]
  },
  {
   "cell_type": "code",
   "execution_count": null,
   "metadata": {},
   "outputs": [],
   "source": [
    "# from pathlib import Path\n",
    "\n",
    "# TEMPLATES = [\n",
    "    # \"DIRS\": [Path.joinpath(BASE_DIR.parent, \"templates\")],\n",
    "    # \"OPTIONS\": {\n",
    "        # \"string_if_invalid\": \"INVALID EXPRESSION: %s\",\n",
    "    # },\n",
    "# ]"
   ]
  },
  {
   "attachments": {},
   "cell_type": "markdown",
   "metadata": {},
   "source": [
    "* When rendering a template:\n",
    "    1. django first checks the templates directory in the project folder\n",
    "    2. if not found, then it checks the templates folder in the app folder"
   ]
  },
  {
   "cell_type": "markdown",
   "metadata": {},
   "source": [
    "* To access the login / logout templates"
   ]
  },
  {
   "cell_type": "code",
   "execution_count": null,
   "metadata": {},
   "outputs": [],
   "source": [
    "# from django.contrib import admin\n",
    "# from django.urls import path, include\n",
    "\n",
    "\n",
    "# urlpatterns = [\n",
    "#     path(\"admin/\", admin.site.urls),\n",
    "#     path(\"accounts/\", include(\"django.contrib.auth.urls\")),\n",
    "# ]"
   ]
  },
  {
   "cell_type": "markdown",
   "metadata": {},
   "source": [
    "# Jinja Synctax"
   ]
  },
  {
   "attachments": {},
   "cell_type": "markdown",
   "metadata": {},
   "source": [
    "By using bellow syntax in the HTML page, django can pass data and control it when rendering the page"
   ]
  },
  {
   "cell_type": "markdown",
   "metadata": {},
   "source": [
    "* {% **load** staticfiles %}"
   ]
  },
  {
   "cell_type": "markdown",
   "metadata": {},
   "source": [
    "* {% load static %}"
   ]
  },
  {
   "cell_type": "markdown",
   "metadata": {},
   "source": [
    "* To load the base html template into another html temaplte:\n",
    "    * {% extends \"base.html\" %}"
   ]
  },
  {
   "cell_type": "markdown",
   "metadata": {},
   "source": [
    "* To modify a block from the base html template in another html template:\n",
    "    * {% block block_name %} {% endblock block_name %}"
   ]
  },
  {
   "cell_type": "markdown",
   "metadata": {},
   "source": [
    "* {{ block.super }}"
   ]
  },
  {
   "cell_type": "markdown",
   "metadata": {},
   "source": [
    "* {{ variable name defined in the context dictionary }}"
   ]
  },
  {
   "cell_type": "markdown",
   "metadata": {},
   "source": [
    "* {% **static** \"static_file_location_and_name\" %}"
   ]
  },
  {
   "cell_type": "markdown",
   "metadata": {},
   "source": [
    "* To create a reverse link connection:\n",
    "    * {% url 'app_name:view_name' %}\n",
    "    * {% url 'view_name' variable_name %}"
   ]
  },
  {
   "cell_type": "markdown",
   "metadata": {},
   "source": [
    "* To add conditions:\n",
    "    * {% if %} ... {% endif %}\n",
    "    * {% if %} ... {% else %} ... {% endif %}\n",
    "    * {% if %} ... {% elif %} ... {% else %} ... {% endif %}"
   ]
  },
  {
   "cell_type": "markdown",
   "metadata": {},
   "source": [
    "* To create a loop:\n",
    "    * {% for item in variable_name_defined_in_the_context_dictionary %} ... {% endfor %}"
   ]
  },
  {
   "cell_type": "markdown",
   "metadata": {},
   "source": [
    "* {% **comment** %} {% **endcomment** %}"
   ]
  },
  {
   "cell_type": "markdown",
   "metadata": {},
   "source": [
    "* to access the user:\n",
    "    * {{ user }}\n",
    "    * {{ user.username }}\n",
    "    * {% if user.is_authenticated %} ... {% endif %}"
   ]
  },
  {
   "cell_type": "markdown",
   "metadata": {},
   "source": [
    "# Django Forms"
   ]
  },
  {
   "cell_type": "markdown",
   "metadata": {},
   "source": [
    "* To modify an existing django form\n",
    "    * create a *form.py* file in the app directory\n",
    "    * import the built-in django form\n",
    "    * extend and modify it"
   ]
  },
  {
   "cell_type": "code",
   "execution_count": null,
   "metadata": {},
   "outputs": [],
   "source": [
    "# from django import forms\n",
    "# from django.contrib.auth.forms import UserCreationForm, UserChangeForm\n",
    "\n",
    "# from projectApps.app_name.models import CustomeUser\n",
    "\n",
    "\n",
    "# class CustomUserCreationForm(UserCreationForm):\n",
    "\n",
    "#     class Meta:\n",
    "#         model = CustomeUser\n",
    "#         fields = UserCreationForm.Meta.fields + (\"new_field_name_in_custom_user\",)\n",
    "\n",
    "\n",
    "# class CustomUserChangeForm(UserChangeForm):\n",
    "\n",
    "#     class Meta:\n",
    "#         model = CustomeUser\n",
    "#         fields = (\"field_name\", \"field_name\", )"
   ]
  },
  {
   "cell_type": "markdown",
   "metadata": {},
   "source": []
  }
 ],
 "metadata": {
  "kernelspec": {
   "display_name": "onlineStoreProject-J7_hTXa7",
   "language": "python",
   "name": "python3"
  },
  "language_info": {
   "codemirror_mode": {
    "name": "ipython",
    "version": 3
   },
   "file_extension": ".py",
   "mimetype": "text/x-python",
   "name": "python",
   "nbconvert_exporter": "python",
   "pygments_lexer": "ipython3",
   "version": "3.10.12"
  },
  "orig_nbformat": 4,
  "vscode": {
   "interpreter": {
    "hash": "0b9db7feabf8187ce10d06807770cbd27d6509ac4852a4a110f21595640d9d55"
   }
  }
 },
 "nbformat": 4,
 "nbformat_minor": 2
}
