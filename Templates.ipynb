{
 "cells": [
  {
   "attachments": {},
   "cell_type": "markdown",
   "metadata": {},
   "source": [
    "# **6.** Django Templates"
   ]
  },
  {
   "attachments": {},
   "cell_type": "markdown",
   "metadata": {},
   "source": [
    "* Templates are used to create an HTML page\n",
    "* Using django templates, data can be implemented directly into the HTML page"
   ]
  },
  {
   "attachments": {},
   "cell_type": "markdown",
   "metadata": {},
   "source": [
    "* The folder hierarchy of the templates can be as follows:"
   ]
  },
  {
   "cell_type": "code",
   "execution_count": 21,
   "metadata": {},
   "outputs": [],
   "source": [
    "# templates/\n",
    "# |---base.html\n",
    "# |---dashboard.html\n",
    "# |---header.html\n",
    "# |---footer.html\n",
    "# |---app_name/\n",
    "# |   |---app_name_base.html\n",
    "# |   |---app_name_detail.html"
   ]
  },
  {
   "attachments": {},
   "cell_type": "markdown",
   "metadata": {},
   "source": [
    "* The path to the template directory must be set in the settings.py file"
   ]
  },
  {
   "cell_type": "code",
   "execution_count": 22,
   "metadata": {},
   "outputs": [],
   "source": [
    "# from pathlib import Path\n",
    "\n",
    "# TEMPLATES = [\n",
    "    # \"DIRS\": [Path.joinpath(BASE_DIR, \"templates\")],\n",
    "    # \"OPTIONS\": {\n",
    "        # \"string_if_invalid\": \"INVALID EXPRESSION: %s\",\n",
    "    # },\n",
    "# ]"
   ]
  },
  {
   "attachments": {},
   "cell_type": "markdown",
   "metadata": {},
   "source": [
    "* When rendering a template:\n",
    "    1. django first checks the templates directory in the project folder\n",
    "    2. if not found, then it checks the templates folder in the app folder"
   ]
  },
  {
   "attachments": {},
   "cell_type": "markdown",
   "metadata": {},
   "source": [
    "* By using bellow syntax in the HTML page, django can pass data and control it when rendering the page\n",
    "    * {% **load** staticfiles %}\n",
    "    * {% **extends** \"base.html\" %}\n",
    "    * {% **block** block_name %} {% **endblock** block_name %}\n",
    "    * {{ block.super }}\n",
    "    * {{ variable name defined in the context dictionary }}\n",
    "    * {% **static** \"static_file_location_and_name\" %}\n",
    "    * {% **url** \"app_name:view_name\" %}\n",
    "    * {% **if** %} ... {% **endif** %}\n",
    "    * {% **if** %} ... {% **else** %} ... {% **endif** %}\n",
    "    * {% **if** %} ... {% **elif** %} ... {% **else** %} ... {% **endif** %}\n",
    "    * {% **for** item **in** variable name defined in the context dictionary %} ... {% **endfor** %}\n",
    "    * {% **comment** %} {% **endcomment** %}"
   ]
  }
 ],
 "metadata": {
  "kernelspec": {
   "display_name": "onlineStoreProject-J7_hTXa7",
   "language": "python",
   "name": "python3"
  },
  "language_info": {
   "codemirror_mode": {
    "name": "ipython",
    "version": 3
   },
   "file_extension": ".py",
   "mimetype": "text/x-python",
   "name": "python",
   "nbconvert_exporter": "python",
   "pygments_lexer": "ipython3",
   "version": "3.10.6"
  },
  "orig_nbformat": 4,
  "vscode": {
   "interpreter": {
    "hash": "0b9db7feabf8187ce10d06807770cbd27d6509ac4852a4a110f21595640d9d55"
   }
  }
 },
 "nbformat": 4,
 "nbformat_minor": 2
}
